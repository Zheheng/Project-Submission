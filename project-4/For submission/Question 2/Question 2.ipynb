{
 "cells": [
  {
   "cell_type": "markdown",
   "metadata": {},
   "source": [
    "# What components of a job posting distinguish data scientists from other data jobs?"
   ]
  },
  {
   "cell_type": "code",
   "execution_count": 1,
   "metadata": {
    "ExecuteTime": {
     "end_time": "2019-05-12T16:23:27.439274Z",
     "start_time": "2019-05-12T16:23:26.287353Z"
    }
   },
   "outputs": [],
   "source": [
    "from sklearn.feature_extraction.text import CountVectorizer\n",
    "from sklearn.model_selection import train_test_split,cross_val_score,GridSearchCV\n",
    "from sklearn import metrics\n",
    "from sklearn.metrics import accuracy_score , precision_score , recall_score , f1_score , roc_auc_score , \\\n",
    "confusion_matrix,classification_report\n",
    "from sklearn.linear_model import LogisticRegression\n",
    "from sklearn.feature_extraction import text \n",
    "from sklearn.ensemble import RandomForestClassifier\n",
    "from sklearn.naive_bayes import MultinomialNB\n",
    "from sklearn.preprocessing import StandardScaler\n",
    "from collections import Counter\n",
    "import seaborn as sns\n",
    "import matplotlib.pyplot as plt\n",
    "import numpy as np\n",
    "import pandas as pd\n",
    "import math\n",
    "import re\n",
    "import pickle\n",
    "\n",
    "from sklearn.utils import resample\n",
    "from imblearn.over_sampling import SMOTE\n",
    "from sklearn.model_selection import KFold ,StratifiedKFold"
   ]
  },
  {
   "cell_type": "markdown",
   "metadata": {},
   "source": [
    "# 1. Loading and check data."
   ]
  },
  {
   "cell_type": "code",
   "execution_count": 2,
   "metadata": {
    "ExecuteTime": {
     "end_time": "2019-05-12T16:23:27.787343Z",
     "start_time": "2019-05-12T16:23:27.441269Z"
    }
   },
   "outputs": [],
   "source": [
    "#import data. \n",
    "csv_file = \"latest_scraped_jobs.csv\"\n",
    "df = pd.read_csv(csv_file)"
   ]
  },
  {
   "cell_type": "code",
   "execution_count": 3,
   "metadata": {
    "ExecuteTime": {
     "end_time": "2019-05-12T16:23:27.803301Z",
     "start_time": "2019-05-12T16:23:27.788348Z"
    }
   },
   "outputs": [
    {
     "name": "stdout",
     "output_type": "stream",
     "text": [
      "<class 'pandas.core.frame.DataFrame'>\n",
      "RangeIndex: 2016 entries, 0 to 2015\n",
      "Data columns (total 11 columns):\n",
      "URL                 2016 non-null object\n",
      "company             2016 non-null object\n",
      "emp_type            2016 non-null object\n",
      "industry            2016 non-null object\n",
      "job_requirements    2016 non-null object\n",
      "job_title           2016 non-null object\n",
      "sal_lower           2016 non-null object\n",
      "sal_type            2016 non-null object\n",
      "sal_upper           2016 non-null object\n",
      "seniority           2016 non-null object\n",
      "skills              2016 non-null object\n",
      "dtypes: object(11)\n",
      "memory usage: 173.3+ KB\n"
     ]
    }
   ],
   "source": [
    "df.info()"
   ]
  },
  {
   "cell_type": "code",
   "execution_count": 4,
   "metadata": {
    "ExecuteTime": {
     "end_time": "2019-05-12T16:23:27.821252Z",
     "start_time": "2019-05-12T16:23:27.811280Z"
    }
   },
   "outputs": [
    {
     "data": {
      "text/plain": [
       "URL                 0\n",
       "company             0\n",
       "emp_type            0\n",
       "industry            0\n",
       "job_requirements    0\n",
       "job_title           0\n",
       "sal_lower           0\n",
       "sal_type            0\n",
       "sal_upper           0\n",
       "seniority           0\n",
       "skills              0\n",
       "dtype: int64"
      ]
     },
     "execution_count": 4,
     "metadata": {},
     "output_type": "execute_result"
    }
   ],
   "source": [
    "#check for null values\n",
    "df.isna().sum()"
   ]
  },
  {
   "cell_type": "code",
   "execution_count": 5,
   "metadata": {
    "ExecuteTime": {
     "end_time": "2019-05-12T16:23:27.844192Z",
     "start_time": "2019-05-12T16:23:27.823248Z"
    }
   },
   "outputs": [
    {
     "data": {
      "text/html": [
       "<div>\n",
       "<style scoped>\n",
       "    .dataframe tbody tr th:only-of-type {\n",
       "        vertical-align: middle;\n",
       "    }\n",
       "\n",
       "    .dataframe tbody tr th {\n",
       "        vertical-align: top;\n",
       "    }\n",
       "\n",
       "    .dataframe thead th {\n",
       "        text-align: right;\n",
       "    }\n",
       "</style>\n",
       "<table border=\"1\" class=\"dataframe\">\n",
       "  <thead>\n",
       "    <tr style=\"text-align: right;\">\n",
       "      <th></th>\n",
       "      <th>URL</th>\n",
       "      <th>company</th>\n",
       "      <th>emp_type</th>\n",
       "      <th>industry</th>\n",
       "      <th>job_requirements</th>\n",
       "      <th>job_title</th>\n",
       "      <th>sal_lower</th>\n",
       "      <th>sal_type</th>\n",
       "      <th>sal_upper</th>\n",
       "      <th>seniority</th>\n",
       "      <th>skills</th>\n",
       "    </tr>\n",
       "  </thead>\n",
       "  <tbody>\n",
       "    <tr>\n",
       "      <th>0</th>\n",
       "      <td>https://www.mycareersfuture.sg/job/data-operat...</td>\n",
       "      <td>['REED BUSINESS INFORMATION PTE. LTD.']</td>\n",
       "      <td>['Permanent, Full Time']</td>\n",
       "      <td>['Information Technology, Others']</td>\n",
       "      <td>['Roles &amp; Responsibilities', \"ICIS is a divisi...</td>\n",
       "      <td>['Data Operations Analyst']</td>\n",
       "      <td>['$4,000']</td>\n",
       "      <td>['Monthly']</td>\n",
       "      <td>['$6,000']</td>\n",
       "      <td>['Executive, Junior Executive, Senior Executive']</td>\n",
       "      <td>['Access', 'Analysis', 'Analytics', 'Business ...</td>\n",
       "    </tr>\n",
       "    <tr>\n",
       "      <th>1</th>\n",
       "      <td>https://www.mycareersfuture.sg/job/data-analys...</td>\n",
       "      <td>['BLACKBOX RESEARCH PTE LTD']</td>\n",
       "      <td>['Full Time']</td>\n",
       "      <td>['Others']</td>\n",
       "      <td>['Roles &amp; Responsibilities', 'As a Data Analys...</td>\n",
       "      <td>['Data Analyst (Data Science)']</td>\n",
       "      <td>['$2,800']</td>\n",
       "      <td>['Monthly']</td>\n",
       "      <td>['$3,600']</td>\n",
       "      <td>['Executive']</td>\n",
       "      <td>['Analysis', 'Business Analysis', 'Clinical Da...</td>\n",
       "    </tr>\n",
       "    <tr>\n",
       "      <th>2</th>\n",
       "      <td>https://www.mycareersfuture.sg/job/data-analys...</td>\n",
       "      <td>['SCIENTE INTERNATIONAL PTE. LTD.']</td>\n",
       "      <td>['Permanent']</td>\n",
       "      <td>['Information Technology']</td>\n",
       "      <td>['Roles &amp; Responsibilities', 'An exciting oppo...</td>\n",
       "      <td>['Data Analyst (HR) (JD#5114)']</td>\n",
       "      <td>['$7,000']</td>\n",
       "      <td>['Monthly']</td>\n",
       "      <td>['$12,000']</td>\n",
       "      <td>['Middle Management']</td>\n",
       "      <td>['Access', 'Analysis', 'Analytics', 'Business ...</td>\n",
       "    </tr>\n",
       "    <tr>\n",
       "      <th>3</th>\n",
       "      <td>https://www.mycareersfuture.sg/job/risk-financ...</td>\n",
       "      <td>['CARGILL TSF ASIA PTE. LTD.']</td>\n",
       "      <td>['Full Time']</td>\n",
       "      <td>['Banking and Finance']</td>\n",
       "      <td>['Roles &amp; Responsibilities', 'Position Purpose...</td>\n",
       "      <td>['Risk and Financial Data Analyst']</td>\n",
       "      <td>['$5,500']</td>\n",
       "      <td>['Monthly']</td>\n",
       "      <td>['$8,250']</td>\n",
       "      <td>['Professional']</td>\n",
       "      <td>['Analysis', 'Banking', 'Credit Risk', 'Data A...</td>\n",
       "    </tr>\n",
       "    <tr>\n",
       "      <th>4</th>\n",
       "      <td>https://www.mycareersfuture.sg/job/senior-data...</td>\n",
       "      <td>['JONES LANG LASALLE PROPERTY CONSULTANTS PTE ...</td>\n",
       "      <td>['Full Time']</td>\n",
       "      <td>['Real Estate / Property Management']</td>\n",
       "      <td>['Roles &amp; Responsibilities', 'Duties &amp; respons...</td>\n",
       "      <td>['Senior Data Analyst']</td>\n",
       "      <td>['$5,000']</td>\n",
       "      <td>['Monthly']</td>\n",
       "      <td>['$7,000']</td>\n",
       "      <td>['Senior Executive']</td>\n",
       "      <td>['Access', 'Analysis', 'Analytics', 'Business ...</td>\n",
       "    </tr>\n",
       "  </tbody>\n",
       "</table>\n",
       "</div>"
      ],
      "text/plain": [
       "                                                 URL  \\\n",
       "0  https://www.mycareersfuture.sg/job/data-operat...   \n",
       "1  https://www.mycareersfuture.sg/job/data-analys...   \n",
       "2  https://www.mycareersfuture.sg/job/data-analys...   \n",
       "3  https://www.mycareersfuture.sg/job/risk-financ...   \n",
       "4  https://www.mycareersfuture.sg/job/senior-data...   \n",
       "\n",
       "                                             company  \\\n",
       "0            ['REED BUSINESS INFORMATION PTE. LTD.']   \n",
       "1                      ['BLACKBOX RESEARCH PTE LTD']   \n",
       "2                ['SCIENTE INTERNATIONAL PTE. LTD.']   \n",
       "3                     ['CARGILL TSF ASIA PTE. LTD.']   \n",
       "4  ['JONES LANG LASALLE PROPERTY CONSULTANTS PTE ...   \n",
       "\n",
       "                   emp_type                               industry  \\\n",
       "0  ['Permanent, Full Time']     ['Information Technology, Others']   \n",
       "1             ['Full Time']                             ['Others']   \n",
       "2             ['Permanent']             ['Information Technology']   \n",
       "3             ['Full Time']                ['Banking and Finance']   \n",
       "4             ['Full Time']  ['Real Estate / Property Management']   \n",
       "\n",
       "                                    job_requirements  \\\n",
       "0  ['Roles & Responsibilities', \"ICIS is a divisi...   \n",
       "1  ['Roles & Responsibilities', 'As a Data Analys...   \n",
       "2  ['Roles & Responsibilities', 'An exciting oppo...   \n",
       "3  ['Roles & Responsibilities', 'Position Purpose...   \n",
       "4  ['Roles & Responsibilities', 'Duties & respons...   \n",
       "\n",
       "                             job_title   sal_lower     sal_type    sal_upper  \\\n",
       "0          ['Data Operations Analyst']  ['$4,000']  ['Monthly']   ['$6,000']   \n",
       "1      ['Data Analyst (Data Science)']  ['$2,800']  ['Monthly']   ['$3,600']   \n",
       "2      ['Data Analyst (HR) (JD#5114)']  ['$7,000']  ['Monthly']  ['$12,000']   \n",
       "3  ['Risk and Financial Data Analyst']  ['$5,500']  ['Monthly']   ['$8,250']   \n",
       "4              ['Senior Data Analyst']  ['$5,000']  ['Monthly']   ['$7,000']   \n",
       "\n",
       "                                           seniority  \\\n",
       "0  ['Executive, Junior Executive, Senior Executive']   \n",
       "1                                      ['Executive']   \n",
       "2                              ['Middle Management']   \n",
       "3                                   ['Professional']   \n",
       "4                               ['Senior Executive']   \n",
       "\n",
       "                                              skills  \n",
       "0  ['Access', 'Analysis', 'Analytics', 'Business ...  \n",
       "1  ['Analysis', 'Business Analysis', 'Clinical Da...  \n",
       "2  ['Access', 'Analysis', 'Analytics', 'Business ...  \n",
       "3  ['Analysis', 'Banking', 'Credit Risk', 'Data A...  \n",
       "4  ['Access', 'Analysis', 'Analytics', 'Business ...  "
      ]
     },
     "execution_count": 5,
     "metadata": {},
     "output_type": "execute_result"
    }
   ],
   "source": [
    "df.head()"
   ]
  },
  {
   "cell_type": "markdown",
   "metadata": {},
   "source": [
    "# 2. Remove punctuations from all columns"
   ]
  },
  {
   "cell_type": "code",
   "execution_count": 6,
   "metadata": {
    "ExecuteTime": {
     "end_time": "2019-05-12T16:23:27.857156Z",
     "start_time": "2019-05-12T16:23:27.846186Z"
    }
   },
   "outputs": [],
   "source": [
    "#define function for removing all square brackets and apostrophes.\n",
    "def remove_brackets_apostrophe(raw_html):\n",
    "     return str(raw_html).replace('[','').replace(']','').replace(\"'\", '').replace('\"', '')"
   ]
  },
  {
   "cell_type": "code",
   "execution_count": null,
   "metadata": {},
   "outputs": [],
   "source": []
  },
  {
   "cell_type": "code",
   "execution_count": 7,
   "metadata": {
    "ExecuteTime": {
     "end_time": "2019-05-12T16:23:27.932953Z",
     "start_time": "2019-05-12T16:23:27.859152Z"
    }
   },
   "outputs": [],
   "source": [
    "#apply cleaning function\n",
    "df = df.applymap(lambda x : remove_brackets_apostrophe(x))"
   ]
  },
  {
   "cell_type": "code",
   "execution_count": 8,
   "metadata": {
    "ExecuteTime": {
     "end_time": "2019-05-12T16:23:27.942929Z",
     "start_time": "2019-05-12T16:23:27.934949Z"
    }
   },
   "outputs": [
    {
     "data": {
      "text/plain": [
       "URL                 0\n",
       "company             0\n",
       "emp_type            0\n",
       "industry            0\n",
       "job_requirements    0\n",
       "job_title           0\n",
       "sal_lower           0\n",
       "sal_type            0\n",
       "sal_upper           0\n",
       "seniority           0\n",
       "skills              0\n",
       "dtype: int64"
      ]
     },
     "execution_count": 8,
     "metadata": {},
     "output_type": "execute_result"
    }
   ],
   "source": [
    "df.isnull().sum()"
   ]
  },
  {
   "cell_type": "code",
   "execution_count": null,
   "metadata": {},
   "outputs": [],
   "source": []
  },
  {
   "cell_type": "markdown",
   "metadata": {},
   "source": [
    "# 3. Explore skills column\n",
    "\n",
    "- To filter out irrelevant skills\n",
    "\n",
    "- To filter out potentially irrelevant job postings"
   ]
  },
  {
   "cell_type": "markdown",
   "metadata": {},
   "source": [
    "Explore 'skills column' to find skills that are relevant to our question."
   ]
  },
  {
   "cell_type": "code",
   "execution_count": 9,
   "metadata": {
    "ExecuteTime": {
     "end_time": "2019-05-12T16:23:27.965867Z",
     "start_time": "2019-05-12T16:23:27.944923Z"
    },
    "code_folding": []
   },
   "outputs": [],
   "source": [
    "#get a list of unique skills.\n",
    "df.skills = df.skills.map(lambda x: x.lower())\n",
    "new_list = [j for i in df.skills for j in i.split(\",\")]\n",
    "strip_list = [i.strip() for i in new_list]\n",
    "unique_skills = set(strip_list)"
   ]
  },
  {
   "cell_type": "code",
   "execution_count": 10,
   "metadata": {
    "ExecuteTime": {
     "end_time": "2019-05-12T16:23:27.978833Z",
     "start_time": "2019-05-12T16:23:27.967861Z"
    }
   },
   "outputs": [
    {
     "data": {
      "text/plain": [
       "{'analysis',\n",
       " 'analytics',\n",
       " 'artificial intelligence',\n",
       " 'big data',\n",
       " 'biostatistics',\n",
       " 'business analysis',\n",
       " 'business analytics',\n",
       " 'business intelligence',\n",
       " 'clinical data management',\n",
       " 'competitive analysis',\n",
       " 'competitive intelligence',\n",
       " 'credit analysis',\n",
       " 'data analysis',\n",
       " 'data architecture',\n",
       " 'data center',\n",
       " 'data entry',\n",
       " 'data governance',\n",
       " 'data integration',\n",
       " 'data management',\n",
       " 'data migration',\n",
       " 'data mining',\n",
       " 'data modeling',\n",
       " 'data warehouse architecture',\n",
       " 'data warehousing',\n",
       " 'database administration',\n",
       " 'database design',\n",
       " 'databases',\n",
       " 'dispute resolution',\n",
       " 'financial analysis',\n",
       " 'finite element analysis',\n",
       " 'google analytics',\n",
       " 'image processing',\n",
       " 'machine learning',\n",
       " 'malware analysis',\n",
       " 'market analysis',\n",
       " 'master data management',\n",
       " 'mining',\n",
       " 'numerical analysis',\n",
       " 'pattern recognition',\n",
       " 'policy analysis',\n",
       " 'predictive analytics',\n",
       " 'predictive modeling',\n",
       " 'pricing analysis',\n",
       " 'quantitative analytics',\n",
       " 'requirements analysis',\n",
       " 'revenue analysis',\n",
       " 'root cause analysis',\n",
       " 'solution architecture',\n",
       " 'solution selling',\n",
       " 'statistical modeling',\n",
       " 'statistics',\n",
       " 'structural analysis',\n",
       " 'systems analysis',\n",
       " 'time series analysis',\n",
       " 'trend analysis',\n",
       " 'variance analysis',\n",
       " 'web analytics'}"
      ]
     },
     "execution_count": 10,
     "metadata": {},
     "output_type": "execute_result"
    }
   ],
   "source": [
    "#filter out the skills using keywords related to data science.\n",
    "skills_list = []\n",
    "for i in unique_skills:\n",
    "    if \"analytic\" in i or \"analysis\" in i or \"machine\" in i or \"data\" in i\\\n",
    "    or \"intelligence\" in i or \"statistic\" in i or \"solution\" in i\\\n",
    "    or \"image processing\" in i or \"mining\" in i or \"recognition\" in i or \"predictive\" in i:\n",
    "        skills_list.append(i)\n",
    "related_skills = set(skills_list)\n",
    "\n",
    "#visually inspect the shortlisted related skills\n",
    "related_skills"
   ]
  },
  {
   "cell_type": "code",
   "execution_count": 11,
   "metadata": {
    "ExecuteTime": {
     "end_time": "2019-05-12T16:23:27.991797Z",
     "start_time": "2019-05-12T16:23:27.980827Z"
    }
   },
   "outputs": [],
   "source": [
    "#remove skills that does not seem relevant\n",
    "related_skills.remove('data entry')\n",
    "related_skills.remove('dispute resolution')"
   ]
  },
  {
   "cell_type": "markdown",
   "metadata": {},
   "source": [
    "Remove all jobs that doesn't have any of the related skills.\n",
    "\n",
    "To filter out all jobs that are potentially not relevant to our question."
   ]
  },
  {
   "cell_type": "code",
   "execution_count": 12,
   "metadata": {
    "ExecuteTime": {
     "end_time": "2019-05-12T16:23:28.052637Z",
     "start_time": "2019-05-12T16:23:27.994788Z"
    }
   },
   "outputs": [
    {
     "name": "stdout",
     "output_type": "stream",
     "text": [
      "<class 'pandas.core.frame.DataFrame'>\n",
      "RangeIndex: 1223 entries, 0 to 1222\n",
      "Data columns (total 11 columns):\n",
      "URL                 1223 non-null object\n",
      "company             1223 non-null object\n",
      "emp_type            1223 non-null object\n",
      "industry            1223 non-null object\n",
      "job_requirements    1223 non-null object\n",
      "job_title           1223 non-null object\n",
      "sal_lower           1223 non-null object\n",
      "sal_type            1223 non-null object\n",
      "sal_upper           1223 non-null object\n",
      "seniority           1223 non-null object\n",
      "skills              1223 non-null object\n",
      "dtypes: object(11)\n",
      "memory usage: 105.2+ KB\n"
     ]
    }
   ],
   "source": [
    "#get index of all related job entries \n",
    "related_job=[]\n",
    "for skill in related_skills:    \n",
    "    for index, jobs in enumerate (df.skills):\n",
    "        if skill in jobs:\n",
    "            related_job.append(index)\n",
    "\n",
    "#get unique entries only            \n",
    "len(set(related_job))\n",
    "\n",
    "#create new df with related jobs only \n",
    "df_related_jobs = df[df.index.isin(related_job)].copy(deep = True)\n",
    "df_related_jobs.reset_index(inplace=True , drop = True)\n",
    "df_related_jobs.info()"
   ]
  },
  {
   "cell_type": "markdown",
   "metadata": {},
   "source": [
    "After removing jobs that are potentially not related.\n",
    "\n",
    "There are 1223 jobs."
   ]
  },
  {
   "cell_type": "markdown",
   "metadata": {},
   "source": [
    "# 4. Inspect job employment type and job seniority type.\n",
    "\n",
    "- Find unique list of job titles / job employment type\n",
    "- Rank the job titles / job employment type\n",
    "- Go to lowest denominator if multiple job seniority is present. (similarly for job employment type)"
   ]
  },
  {
   "cell_type": "markdown",
   "metadata": {},
   "source": [
    "Job Employment Type"
   ]
  },
  {
   "cell_type": "code",
   "execution_count": 13,
   "metadata": {
    "ExecuteTime": {
     "end_time": "2019-05-12T16:23:28.062608Z",
     "start_time": "2019-05-12T16:23:28.054630Z"
    }
   },
   "outputs": [
    {
     "data": {
      "text/plain": [
       "{'Contract',\n",
       " 'Flexi work',\n",
       " 'Freelance',\n",
       " 'Full Time',\n",
       " 'Internship',\n",
       " 'Part Time',\n",
       " 'Permanent',\n",
       " 'Temporary'}"
      ]
     },
     "execution_count": 13,
     "metadata": {},
     "output_type": "execute_result"
    }
   ],
   "source": [
    "emp_type_list = [j for i in df_related_jobs.emp_type for j in i.split(\",\")]\n",
    "emp_type_list = [i.strip() for i in emp_type_list]\n",
    "set(emp_type_list)"
   ]
  },
  {
   "cell_type": "markdown",
   "metadata": {},
   "source": [
    "Assume the ranks of employment type using general knowledge and information from careersfuture.\n",
    "\n",
    "From lowest to highest\n",
    "\n",
    "1:Temporary\n",
    "\n",
    "2:Internship\n",
    "\n",
    "3:Flexi work\n",
    "\n",
    "4:Freelance\n",
    "\n",
    "5:Part Time\n",
    "\n",
    "6:Contract\n",
    "\n",
    "7:Full time\n",
    "\n",
    "8:Permanent"
   ]
  },
  {
   "cell_type": "code",
   "execution_count": 14,
   "metadata": {
    "ExecuteTime": {
     "end_time": "2019-05-12T16:23:28.072581Z",
     "start_time": "2019-05-12T16:23:28.064602Z"
    }
   },
   "outputs": [],
   "source": [
    "emp_type_dict = {'Temporary':\"Temporary\",'Internship':'Internship','Flexi work':'Flexiwork','Freelance':\"Freelance\",\n",
    "                  'Part Time':'Parttime','Contract':'Contract','Full time':'Fulltime','Permanent':'Permanent'}"
   ]
  },
  {
   "cell_type": "code",
   "execution_count": 15,
   "metadata": {
    "ExecuteTime": {
     "end_time": "2019-05-12T16:23:28.228164Z",
     "start_time": "2019-05-12T16:23:28.073578Z"
    }
   },
   "outputs": [],
   "source": [
    "for index,emp_type in enumerate(df_related_jobs.emp_type):\n",
    "    for item in emp_type_dict:\n",
    "        if item in emp_type:\n",
    "            df_related_jobs['emp_type'].iloc[index] = emp_type_dict[item]"
   ]
  },
  {
   "cell_type": "code",
   "execution_count": 16,
   "metadata": {
    "ExecuteTime": {
     "end_time": "2019-05-12T16:23:28.236143Z",
     "start_time": "2019-05-12T16:23:28.230160Z"
    }
   },
   "outputs": [
    {
     "data": {
      "text/plain": [
       "Permanent     510\n",
       "Full Time     432\n",
       "Contract      272\n",
       "Temporary       4\n",
       "Internship      3\n",
       "Parttime        2\n",
       "Name: emp_type, dtype: int64"
      ]
     },
     "execution_count": 16,
     "metadata": {},
     "output_type": "execute_result"
    }
   ],
   "source": [
    "df_related_jobs.emp_type.value_counts()"
   ]
  },
  {
   "cell_type": "code",
   "execution_count": null,
   "metadata": {},
   "outputs": [],
   "source": []
  },
  {
   "cell_type": "markdown",
   "metadata": {},
   "source": [
    "Next we will clean the Job Seniority column."
   ]
  },
  {
   "cell_type": "code",
   "execution_count": 17,
   "metadata": {
    "ExecuteTime": {
     "end_time": "2019-05-12T16:23:28.249109Z",
     "start_time": "2019-05-12T16:23:28.237141Z"
    }
   },
   "outputs": [
    {
     "data": {
      "text/plain": [
       "{'Executive',\n",
       " 'Fresh/entry level',\n",
       " 'Junior Executive',\n",
       " 'Manager',\n",
       " 'Middle Management',\n",
       " 'Non-executive',\n",
       " 'Professional',\n",
       " 'Senior Executive',\n",
       " 'Senior Management'}"
      ]
     },
     "execution_count": 17,
     "metadata": {},
     "output_type": "execute_result"
    }
   ],
   "source": [
    "seniority_list = [j for i in df_related_jobs.seniority for j in i.split(\",\")]\n",
    "seniority_list = [i.strip() for i in seniority_list]\n",
    "set(seniority_list)"
   ]
  },
  {
   "cell_type": "markdown",
   "metadata": {},
   "source": [
    "Rank the 9 main groups accordingly. Follow mycareersfuture.sg\n",
    "\n",
    "Lowest to highest\n",
    "\n",
    "1:Fresh/Entry Level \n",
    "\n",
    "2:Non-executive\n",
    "\n",
    "3:Junior Executive\n",
    "\n",
    "4:Executive\n",
    "\n",
    "5:Senior Executive\n",
    "\n",
    "6:Professional\n",
    "\n",
    "7:Manager\n",
    "\n",
    "8:Middle Management\n",
    "\n",
    "9:Senior Management"
   ]
  },
  {
   "cell_type": "code",
   "execution_count": 18,
   "metadata": {
    "ExecuteTime": {
     "end_time": "2019-05-12T16:23:28.257088Z",
     "start_time": "2019-05-12T16:23:28.251104Z"
    }
   },
   "outputs": [],
   "source": [
    "seniority_dict = {'Fresh/entry level':\"fresh\",'Non-executive':'nonexec','Junior Executive':'jexec',\n",
    "                  'Executive':'exec','Senior Executive':'srexec','Professional':'professional',\n",
    "                 'Manager':'manager','Middle Management':'midman','Senior Management':'srman'}"
   ]
  },
  {
   "cell_type": "code",
   "execution_count": 19,
   "metadata": {
    "ExecuteTime": {
     "end_time": "2019-05-12T16:23:28.570250Z",
     "start_time": "2019-05-12T16:23:28.259082Z"
    }
   },
   "outputs": [],
   "source": [
    "for index,seniority in enumerate(df_related_jobs.seniority):\n",
    "    for rank in seniority_dict:\n",
    "        if rank in seniority:\n",
    "            df_related_jobs['seniority'].iloc[index] = seniority_dict[rank]"
   ]
  },
  {
   "cell_type": "code",
   "execution_count": 20,
   "metadata": {
    "ExecuteTime": {
     "end_time": "2019-05-12T16:23:28.578230Z",
     "start_time": "2019-05-12T16:23:28.571247Z"
    }
   },
   "outputs": [
    {
     "data": {
      "text/plain": [
       "professional    371\n",
       "exec            314\n",
       "srexec          150\n",
       "manager         140\n",
       "midman           96\n",
       "nonexec          71\n",
       "srman            43\n",
       "fresh            38\n",
       "Name: seniority, dtype: int64"
      ]
     },
     "execution_count": 20,
     "metadata": {},
     "output_type": "execute_result"
    }
   ],
   "source": [
    "df_related_jobs.seniority.value_counts()"
   ]
  },
  {
   "cell_type": "markdown",
   "metadata": {},
   "source": [
    "# 5. Inspect industry column"
   ]
  },
  {
   "cell_type": "code",
   "execution_count": 21,
   "metadata": {
    "ExecuteTime": {
     "end_time": "2019-05-12T16:23:28.604160Z",
     "start_time": "2019-05-12T16:23:28.586210Z"
    }
   },
   "outputs": [],
   "source": [
    "industry_list = []\n",
    "\n",
    "for i in df_related_jobs.industry:\n",
    "    each_industry = i.split(\",\")\n",
    "    for sub_industry in each_industry:\n",
    "        industry_list.append(sub_industry.strip())\n",
    "                \n",
    "unique_industry_list = set(industry_list)"
   ]
  },
  {
   "cell_type": "code",
   "execution_count": 22,
   "metadata": {
    "ExecuteTime": {
     "end_time": "2019-05-12T16:23:28.619121Z",
     "start_time": "2019-05-12T16:23:28.606154Z"
    }
   },
   "outputs": [
    {
     "data": {
      "text/plain": [
       "{'Accounting / Auditing / Taxation',\n",
       " 'Admin / Secretarial',\n",
       " 'Advertising / Media',\n",
       " 'Architecture / Interior Design',\n",
       " 'Banking and Finance',\n",
       " 'Building and Construction',\n",
       " 'Consulting',\n",
       " 'Customer Service',\n",
       " 'Design',\n",
       " 'Education and Training',\n",
       " 'Engineering',\n",
       " 'Environment / Health',\n",
       " 'Events / Promotions',\n",
       " 'F&B',\n",
       " 'General Management',\n",
       " 'General Work',\n",
       " 'Healthcare / Pharmaceutical',\n",
       " 'Hospitality',\n",
       " 'Human Resources',\n",
       " 'Information Technology',\n",
       " 'Insurance',\n",
       " 'Legal',\n",
       " 'Logistics / Supply Chain',\n",
       " 'Manufacturing',\n",
       " 'Marketing / Public Relations',\n",
       " 'Medical / Therapy Services',\n",
       " 'Others',\n",
       " 'Professional Services',\n",
       " 'Public / Civil Service',\n",
       " 'Purchasing / Merchandising',\n",
       " 'Real Estate / Property Management',\n",
       " 'Risk Management',\n",
       " 'Sales / Retail',\n",
       " 'Sciences / Laboratory / R&D',\n",
       " 'Social Services',\n",
       " 'Telecommunications',\n",
       " 'Travel / Tourism'}"
      ]
     },
     "execution_count": 22,
     "metadata": {},
     "output_type": "execute_result"
    }
   ],
   "source": [
    "unique_industry_list"
   ]
  },
  {
   "cell_type": "code",
   "execution_count": 23,
   "metadata": {
    "ExecuteTime": {
     "end_time": "2019-05-12T16:23:28.658027Z",
     "start_time": "2019-05-12T16:23:28.621114Z"
    }
   },
   "outputs": [],
   "source": [
    "#dummified industry to keep all the information. \n",
    "for i in unique_industry_list:\n",
    "    series_name = 'industry_'+i\n",
    "    df_related_jobs[series_name] = [1 if i in row else 0 for row in df_related_jobs.industry]"
   ]
  },
  {
   "cell_type": "code",
   "execution_count": 24,
   "metadata": {
    "ExecuteTime": {
     "end_time": "2019-05-12T16:23:28.674973Z",
     "start_time": "2019-05-12T16:23:28.660011Z"
    }
   },
   "outputs": [
    {
     "name": "stdout",
     "output_type": "stream",
     "text": [
      "<class 'pandas.core.frame.DataFrame'>\n",
      "RangeIndex: 1223 entries, 0 to 1222\n",
      "Data columns (total 48 columns):\n",
      "URL                                           1223 non-null object\n",
      "company                                       1223 non-null object\n",
      "emp_type                                      1223 non-null object\n",
      "industry                                      1223 non-null object\n",
      "job_requirements                              1223 non-null object\n",
      "job_title                                     1223 non-null object\n",
      "sal_lower                                     1223 non-null object\n",
      "sal_type                                      1223 non-null object\n",
      "sal_upper                                     1223 non-null object\n",
      "seniority                                     1223 non-null object\n",
      "skills                                        1223 non-null object\n",
      "industry_Public / Civil Service               1223 non-null int64\n",
      "industry_Human Resources                      1223 non-null int64\n",
      "industry_Architecture / Interior Design       1223 non-null int64\n",
      "industry_Accounting / Auditing / Taxation     1223 non-null int64\n",
      "industry_Information Technology               1223 non-null int64\n",
      "industry_Medical / Therapy Services           1223 non-null int64\n",
      "industry_Customer Service                     1223 non-null int64\n",
      "industry_Healthcare / Pharmaceutical          1223 non-null int64\n",
      "industry_Legal                                1223 non-null int64\n",
      "industry_Sales / Retail                       1223 non-null int64\n",
      "industry_Events / Promotions                  1223 non-null int64\n",
      "industry_Environment / Health                 1223 non-null int64\n",
      "industry_General Management                   1223 non-null int64\n",
      "industry_Real Estate / Property Management    1223 non-null int64\n",
      "industry_Sciences / Laboratory / R&D          1223 non-null int64\n",
      "industry_Engineering                          1223 non-null int64\n",
      "industry_Marketing / Public Relations         1223 non-null int64\n",
      "industry_General Work                         1223 non-null int64\n",
      "industry_Logistics / Supply Chain             1223 non-null int64\n",
      "industry_Building and Construction            1223 non-null int64\n",
      "industry_Others                               1223 non-null int64\n",
      "industry_Education and Training               1223 non-null int64\n",
      "industry_Travel / Tourism                     1223 non-null int64\n",
      "industry_Social Services                      1223 non-null int64\n",
      "industry_F&B                                  1223 non-null int64\n",
      "industry_Advertising / Media                  1223 non-null int64\n",
      "industry_Purchasing / Merchandising           1223 non-null int64\n",
      "industry_Admin / Secretarial                  1223 non-null int64\n",
      "industry_Professional Services                1223 non-null int64\n",
      "industry_Manufacturing                        1223 non-null int64\n",
      "industry_Telecommunications                   1223 non-null int64\n",
      "industry_Insurance                            1223 non-null int64\n",
      "industry_Design                               1223 non-null int64\n",
      "industry_Consulting                           1223 non-null int64\n",
      "industry_Hospitality                          1223 non-null int64\n",
      "industry_Risk Management                      1223 non-null int64\n",
      "industry_Banking and Finance                  1223 non-null int64\n",
      "dtypes: int64(37), object(11)\n",
      "memory usage: 458.7+ KB\n"
     ]
    }
   ],
   "source": [
    "df_related_jobs.info()"
   ]
  },
  {
   "cell_type": "code",
   "execution_count": 25,
   "metadata": {
    "ExecuteTime": {
     "end_time": "2019-05-12T16:23:28.685941Z",
     "start_time": "2019-05-12T16:23:28.677964Z"
    }
   },
   "outputs": [
    {
     "data": {
      "text/plain": [
       "industry_Hospitality              3\n",
       "industry_Risk Management          5\n",
       "industry_Design                   7\n",
       "industry_Insurance               17\n",
       "industry_Consulting              77\n",
       "industry_Banking and Finance    132\n",
       "dtype: int64"
      ]
     },
     "execution_count": 25,
     "metadata": {},
     "output_type": "execute_result"
    }
   ],
   "source": [
    "df_related_jobs.loc[:, \"industry_Insurance\":].sum().sort_values()"
   ]
  },
  {
   "cell_type": "markdown",
   "metadata": {},
   "source": [
    "# 6. Inspect Skills Column"
   ]
  },
  {
   "cell_type": "code",
   "execution_count": 26,
   "metadata": {
    "ExecuteTime": {
     "end_time": "2019-05-12T16:23:28.707892Z",
     "start_time": "2019-05-12T16:23:28.687936Z"
    }
   },
   "outputs": [
    {
     "data": {
      "text/plain": [
       "697"
      ]
     },
     "execution_count": 26,
     "metadata": {},
     "output_type": "execute_result"
    }
   ],
   "source": [
    "skill_list = []\n",
    "\n",
    "for i in df_related_jobs.skills:\n",
    "    split_skills = i.split(\",\")\n",
    "    for skill in split_skills:\n",
    "        skill_list.append(skill.strip())\n",
    "                \n",
    "unique_skill_list = set(skill_list)\n",
    "len(unique_skill_list)"
   ]
  },
  {
   "cell_type": "code",
   "execution_count": 27,
   "metadata": {
    "ExecuteTime": {
     "end_time": "2019-05-12T16:23:29.470843Z",
     "start_time": "2019-05-12T16:23:28.709878Z"
    }
   },
   "outputs": [],
   "source": [
    "#dummified industry to keep all the information. \n",
    "for i in unique_skill_list:\n",
    "    series_name = 'skill_'+i\n",
    "    df_related_jobs[series_name] = [1 if i in row else 0 for row in df_related_jobs.skills]"
   ]
  },
  {
   "cell_type": "markdown",
   "metadata": {},
   "source": [
    "# 7. Inspect Company Names"
   ]
  },
  {
   "cell_type": "code",
   "execution_count": 28,
   "metadata": {
    "ExecuteTime": {
     "end_time": "2019-05-12T16:23:29.478834Z",
     "start_time": "2019-05-12T16:23:29.471842Z"
    }
   },
   "outputs": [
    {
     "data": {
      "text/plain": [
       "499"
      ]
     },
     "execution_count": 28,
     "metadata": {},
     "output_type": "execute_result"
    }
   ],
   "source": [
    "df_related_jobs.company.nunique()"
   ]
  },
  {
   "cell_type": "markdown",
   "metadata": {},
   "source": [
    "Decided to drop company name, as i think there is too many unique values."
   ]
  },
  {
   "cell_type": "code",
   "execution_count": 29,
   "metadata": {
    "ExecuteTime": {
     "end_time": "2019-05-12T16:23:29.507745Z",
     "start_time": "2019-05-12T16:23:29.480818Z"
    }
   },
   "outputs": [],
   "source": [
    "df_related_jobs.drop(columns = 'company' , inplace = True)"
   ]
  },
  {
   "cell_type": "markdown",
   "metadata": {},
   "source": [
    "# 6. Inspect Salary Column (Target Column)"
   ]
  },
  {
   "cell_type": "markdown",
   "metadata": {},
   "source": [
    "Before looking at the salary data, I have decided to drop salary upper.\n",
    "\n",
    "Reason : \n",
    "\n",
    "I have decided to go to the lowest denominator for all jobs posting. Consistent with the job employment type and job seniority\n",
    "    "
   ]
  },
  {
   "cell_type": "code",
   "execution_count": 30,
   "metadata": {
    "ExecuteTime": {
     "end_time": "2019-05-12T16:23:29.536669Z",
     "start_time": "2019-05-12T16:23:29.509740Z"
    }
   },
   "outputs": [],
   "source": [
    "df_related_jobs.drop(columns = \"sal_upper\" , inplace = True)"
   ]
  },
  {
   "cell_type": "code",
   "execution_count": 31,
   "metadata": {
    "ExecuteTime": {
     "end_time": "2019-05-12T16:23:29.547639Z",
     "start_time": "2019-05-12T16:23:29.538662Z"
    }
   },
   "outputs": [],
   "source": [
    "#remove '$' and ',' from salary columns\n",
    "df_related_jobs['sal_lower'] = df_related_jobs['sal_lower'].map(lambda x : x.replace(\"$\",\"\").replace(\",\",\"\"))"
   ]
  },
  {
   "cell_type": "code",
   "execution_count": 32,
   "metadata": {
    "ExecuteTime": {
     "end_time": "2019-05-12T16:23:29.561601Z",
     "start_time": "2019-05-12T16:23:29.549635Z"
    }
   },
   "outputs": [],
   "source": [
    "#change sal_lower to correct type : \"float\"\n",
    "df_related_jobs.sal_lower = df_related_jobs.sal_lower.astype(float)"
   ]
  },
  {
   "cell_type": "code",
   "execution_count": 33,
   "metadata": {
    "ExecuteTime": {
     "end_time": "2019-05-12T16:23:29.590524Z",
     "start_time": "2019-05-12T16:23:29.563596Z"
    }
   },
   "outputs": [],
   "source": [
    "#standardise all salary type to only monthly. \n",
    "#Divides annual packages by 13(assuming Annual wage supplement is present)\n",
    "df_related_jobs.loc[df_related_jobs['sal_type'] == \"Annually\" , 'sal_lower']= df_related_jobs.loc[df_related_jobs['sal_type'] == \"Annually\" , 'sal_lower']/13"
   ]
  },
  {
   "cell_type": "code",
   "execution_count": 34,
   "metadata": {
    "ExecuteTime": {
     "end_time": "2019-05-12T16:23:29.604486Z",
     "start_time": "2019-05-12T16:23:29.592519Z"
    }
   },
   "outputs": [],
   "source": [
    "#drop salary type column after standardising\n",
    "df_related_jobs.drop(columns = \"sal_type\" , inplace = True)"
   ]
  },
  {
   "cell_type": "code",
   "execution_count": 35,
   "metadata": {
    "ExecuteTime": {
     "end_time": "2019-05-12T16:23:30.466183Z",
     "start_time": "2019-05-12T16:23:29.606481Z"
    }
   },
   "outputs": [
    {
     "data": {
      "text/html": [
       "<div>\n",
       "<style scoped>\n",
       "    .dataframe tbody tr th:only-of-type {\n",
       "        vertical-align: middle;\n",
       "    }\n",
       "\n",
       "    .dataframe tbody tr th {\n",
       "        vertical-align: top;\n",
       "    }\n",
       "\n",
       "    .dataframe thead th {\n",
       "        text-align: right;\n",
       "    }\n",
       "</style>\n",
       "<table border=\"1\" class=\"dataframe\">\n",
       "  <thead>\n",
       "    <tr style=\"text-align: right;\">\n",
       "      <th></th>\n",
       "      <th>sal_lower</th>\n",
       "      <th>industry_Public / Civil Service</th>\n",
       "      <th>industry_Human Resources</th>\n",
       "      <th>industry_Architecture / Interior Design</th>\n",
       "      <th>industry_Accounting / Auditing / Taxation</th>\n",
       "      <th>industry_Information Technology</th>\n",
       "      <th>industry_Medical / Therapy Services</th>\n",
       "      <th>industry_Customer Service</th>\n",
       "      <th>industry_Healthcare / Pharmaceutical</th>\n",
       "      <th>industry_Legal</th>\n",
       "      <th>...</th>\n",
       "      <th>skill_pricing strategy</th>\n",
       "      <th>skill_bloomberg</th>\n",
       "      <th>skill_disaster recovery</th>\n",
       "      <th>skill_product development</th>\n",
       "      <th>skill_completions</th>\n",
       "      <th>skill_web analytics</th>\n",
       "      <th>skill_drilling</th>\n",
       "      <th>skill_interim management</th>\n",
       "      <th>skill_physics</th>\n",
       "      <th>skill_iso</th>\n",
       "    </tr>\n",
       "  </thead>\n",
       "  <tbody>\n",
       "    <tr>\n",
       "      <th>count</th>\n",
       "      <td>1223.000000</td>\n",
       "      <td>1223.000000</td>\n",
       "      <td>1223.000000</td>\n",
       "      <td>1223.000000</td>\n",
       "      <td>1223.000000</td>\n",
       "      <td>1223.000000</td>\n",
       "      <td>1223.000000</td>\n",
       "      <td>1223.000000</td>\n",
       "      <td>1223.000000</td>\n",
       "      <td>1223.000000</td>\n",
       "      <td>...</td>\n",
       "      <td>1223.000000</td>\n",
       "      <td>1223.000000</td>\n",
       "      <td>1223.000000</td>\n",
       "      <td>1223.000000</td>\n",
       "      <td>1223.000000</td>\n",
       "      <td>1223.000000</td>\n",
       "      <td>1223.000000</td>\n",
       "      <td>1223.000000</td>\n",
       "      <td>1223.000000</td>\n",
       "      <td>1223.000000</td>\n",
       "    </tr>\n",
       "    <tr>\n",
       "      <th>mean</th>\n",
       "      <td>5310.593371</td>\n",
       "      <td>0.028618</td>\n",
       "      <td>0.008994</td>\n",
       "      <td>0.000818</td>\n",
       "      <td>0.039248</td>\n",
       "      <td>0.509403</td>\n",
       "      <td>0.000818</td>\n",
       "      <td>0.013083</td>\n",
       "      <td>0.008177</td>\n",
       "      <td>0.000818</td>\n",
       "      <td>...</td>\n",
       "      <td>0.002453</td>\n",
       "      <td>0.001635</td>\n",
       "      <td>0.082584</td>\n",
       "      <td>0.063778</td>\n",
       "      <td>0.000818</td>\n",
       "      <td>0.022895</td>\n",
       "      <td>0.001635</td>\n",
       "      <td>0.000818</td>\n",
       "      <td>0.003271</td>\n",
       "      <td>0.003271</td>\n",
       "    </tr>\n",
       "    <tr>\n",
       "      <th>std</th>\n",
       "      <td>2452.058122</td>\n",
       "      <td>0.166799</td>\n",
       "      <td>0.094449</td>\n",
       "      <td>0.028595</td>\n",
       "      <td>0.194263</td>\n",
       "      <td>0.500116</td>\n",
       "      <td>0.028595</td>\n",
       "      <td>0.113675</td>\n",
       "      <td>0.090091</td>\n",
       "      <td>0.028595</td>\n",
       "      <td>...</td>\n",
       "      <td>0.049487</td>\n",
       "      <td>0.040423</td>\n",
       "      <td>0.275365</td>\n",
       "      <td>0.244456</td>\n",
       "      <td>0.028595</td>\n",
       "      <td>0.149628</td>\n",
       "      <td>0.040423</td>\n",
       "      <td>0.028595</td>\n",
       "      <td>0.057119</td>\n",
       "      <td>0.057119</td>\n",
       "    </tr>\n",
       "    <tr>\n",
       "      <th>min</th>\n",
       "      <td>1.000000</td>\n",
       "      <td>0.000000</td>\n",
       "      <td>0.000000</td>\n",
       "      <td>0.000000</td>\n",
       "      <td>0.000000</td>\n",
       "      <td>0.000000</td>\n",
       "      <td>0.000000</td>\n",
       "      <td>0.000000</td>\n",
       "      <td>0.000000</td>\n",
       "      <td>0.000000</td>\n",
       "      <td>...</td>\n",
       "      <td>0.000000</td>\n",
       "      <td>0.000000</td>\n",
       "      <td>0.000000</td>\n",
       "      <td>0.000000</td>\n",
       "      <td>0.000000</td>\n",
       "      <td>0.000000</td>\n",
       "      <td>0.000000</td>\n",
       "      <td>0.000000</td>\n",
       "      <td>0.000000</td>\n",
       "      <td>0.000000</td>\n",
       "    </tr>\n",
       "    <tr>\n",
       "      <th>25%</th>\n",
       "      <td>3500.000000</td>\n",
       "      <td>0.000000</td>\n",
       "      <td>0.000000</td>\n",
       "      <td>0.000000</td>\n",
       "      <td>0.000000</td>\n",
       "      <td>0.000000</td>\n",
       "      <td>0.000000</td>\n",
       "      <td>0.000000</td>\n",
       "      <td>0.000000</td>\n",
       "      <td>0.000000</td>\n",
       "      <td>...</td>\n",
       "      <td>0.000000</td>\n",
       "      <td>0.000000</td>\n",
       "      <td>0.000000</td>\n",
       "      <td>0.000000</td>\n",
       "      <td>0.000000</td>\n",
       "      <td>0.000000</td>\n",
       "      <td>0.000000</td>\n",
       "      <td>0.000000</td>\n",
       "      <td>0.000000</td>\n",
       "      <td>0.000000</td>\n",
       "    </tr>\n",
       "    <tr>\n",
       "      <th>50%</th>\n",
       "      <td>5000.000000</td>\n",
       "      <td>0.000000</td>\n",
       "      <td>0.000000</td>\n",
       "      <td>0.000000</td>\n",
       "      <td>0.000000</td>\n",
       "      <td>1.000000</td>\n",
       "      <td>0.000000</td>\n",
       "      <td>0.000000</td>\n",
       "      <td>0.000000</td>\n",
       "      <td>0.000000</td>\n",
       "      <td>...</td>\n",
       "      <td>0.000000</td>\n",
       "      <td>0.000000</td>\n",
       "      <td>0.000000</td>\n",
       "      <td>0.000000</td>\n",
       "      <td>0.000000</td>\n",
       "      <td>0.000000</td>\n",
       "      <td>0.000000</td>\n",
       "      <td>0.000000</td>\n",
       "      <td>0.000000</td>\n",
       "      <td>0.000000</td>\n",
       "    </tr>\n",
       "    <tr>\n",
       "      <th>75%</th>\n",
       "      <td>6500.000000</td>\n",
       "      <td>0.000000</td>\n",
       "      <td>0.000000</td>\n",
       "      <td>0.000000</td>\n",
       "      <td>0.000000</td>\n",
       "      <td>1.000000</td>\n",
       "      <td>0.000000</td>\n",
       "      <td>0.000000</td>\n",
       "      <td>0.000000</td>\n",
       "      <td>0.000000</td>\n",
       "      <td>...</td>\n",
       "      <td>0.000000</td>\n",
       "      <td>0.000000</td>\n",
       "      <td>0.000000</td>\n",
       "      <td>0.000000</td>\n",
       "      <td>0.000000</td>\n",
       "      <td>0.000000</td>\n",
       "      <td>0.000000</td>\n",
       "      <td>0.000000</td>\n",
       "      <td>0.000000</td>\n",
       "      <td>0.000000</td>\n",
       "    </tr>\n",
       "    <tr>\n",
       "      <th>max</th>\n",
       "      <td>21153.846154</td>\n",
       "      <td>1.000000</td>\n",
       "      <td>1.000000</td>\n",
       "      <td>1.000000</td>\n",
       "      <td>1.000000</td>\n",
       "      <td>1.000000</td>\n",
       "      <td>1.000000</td>\n",
       "      <td>1.000000</td>\n",
       "      <td>1.000000</td>\n",
       "      <td>1.000000</td>\n",
       "      <td>...</td>\n",
       "      <td>1.000000</td>\n",
       "      <td>1.000000</td>\n",
       "      <td>1.000000</td>\n",
       "      <td>1.000000</td>\n",
       "      <td>1.000000</td>\n",
       "      <td>1.000000</td>\n",
       "      <td>1.000000</td>\n",
       "      <td>1.000000</td>\n",
       "      <td>1.000000</td>\n",
       "      <td>1.000000</td>\n",
       "    </tr>\n",
       "  </tbody>\n",
       "</table>\n",
       "<p>8 rows × 735 columns</p>\n",
       "</div>"
      ],
      "text/plain": [
       "          sal_lower  industry_Public / Civil Service  \\\n",
       "count   1223.000000                      1223.000000   \n",
       "mean    5310.593371                         0.028618   \n",
       "std     2452.058122                         0.166799   \n",
       "min        1.000000                         0.000000   \n",
       "25%     3500.000000                         0.000000   \n",
       "50%     5000.000000                         0.000000   \n",
       "75%     6500.000000                         0.000000   \n",
       "max    21153.846154                         1.000000   \n",
       "\n",
       "       industry_Human Resources  industry_Architecture / Interior Design  \\\n",
       "count               1223.000000                              1223.000000   \n",
       "mean                   0.008994                                 0.000818   \n",
       "std                    0.094449                                 0.028595   \n",
       "min                    0.000000                                 0.000000   \n",
       "25%                    0.000000                                 0.000000   \n",
       "50%                    0.000000                                 0.000000   \n",
       "75%                    0.000000                                 0.000000   \n",
       "max                    1.000000                                 1.000000   \n",
       "\n",
       "       industry_Accounting / Auditing / Taxation  \\\n",
       "count                                1223.000000   \n",
       "mean                                    0.039248   \n",
       "std                                     0.194263   \n",
       "min                                     0.000000   \n",
       "25%                                     0.000000   \n",
       "50%                                     0.000000   \n",
       "75%                                     0.000000   \n",
       "max                                     1.000000   \n",
       "\n",
       "       industry_Information Technology  industry_Medical / Therapy Services  \\\n",
       "count                      1223.000000                          1223.000000   \n",
       "mean                          0.509403                             0.000818   \n",
       "std                           0.500116                             0.028595   \n",
       "min                           0.000000                             0.000000   \n",
       "25%                           0.000000                             0.000000   \n",
       "50%                           1.000000                             0.000000   \n",
       "75%                           1.000000                             0.000000   \n",
       "max                           1.000000                             1.000000   \n",
       "\n",
       "       industry_Customer Service  industry_Healthcare / Pharmaceutical  \\\n",
       "count                1223.000000                           1223.000000   \n",
       "mean                    0.013083                              0.008177   \n",
       "std                     0.113675                              0.090091   \n",
       "min                     0.000000                              0.000000   \n",
       "25%                     0.000000                              0.000000   \n",
       "50%                     0.000000                              0.000000   \n",
       "75%                     0.000000                              0.000000   \n",
       "max                     1.000000                              1.000000   \n",
       "\n",
       "       industry_Legal     ...       skill_pricing strategy  skill_bloomberg  \\\n",
       "count     1223.000000     ...                  1223.000000      1223.000000   \n",
       "mean         0.000818     ...                     0.002453         0.001635   \n",
       "std          0.028595     ...                     0.049487         0.040423   \n",
       "min          0.000000     ...                     0.000000         0.000000   \n",
       "25%          0.000000     ...                     0.000000         0.000000   \n",
       "50%          0.000000     ...                     0.000000         0.000000   \n",
       "75%          0.000000     ...                     0.000000         0.000000   \n",
       "max          1.000000     ...                     1.000000         1.000000   \n",
       "\n",
       "       skill_disaster recovery  skill_product development  skill_completions  \\\n",
       "count              1223.000000                1223.000000        1223.000000   \n",
       "mean                  0.082584                   0.063778           0.000818   \n",
       "std                   0.275365                   0.244456           0.028595   \n",
       "min                   0.000000                   0.000000           0.000000   \n",
       "25%                   0.000000                   0.000000           0.000000   \n",
       "50%                   0.000000                   0.000000           0.000000   \n",
       "75%                   0.000000                   0.000000           0.000000   \n",
       "max                   1.000000                   1.000000           1.000000   \n",
       "\n",
       "       skill_web analytics  skill_drilling  skill_interim management  \\\n",
       "count          1223.000000     1223.000000               1223.000000   \n",
       "mean              0.022895        0.001635                  0.000818   \n",
       "std               0.149628        0.040423                  0.028595   \n",
       "min               0.000000        0.000000                  0.000000   \n",
       "25%               0.000000        0.000000                  0.000000   \n",
       "50%               0.000000        0.000000                  0.000000   \n",
       "75%               0.000000        0.000000                  0.000000   \n",
       "max               1.000000        1.000000                  1.000000   \n",
       "\n",
       "       skill_physics    skill_iso  \n",
       "count    1223.000000  1223.000000  \n",
       "mean        0.003271     0.003271  \n",
       "std         0.057119     0.057119  \n",
       "min         0.000000     0.000000  \n",
       "25%         0.000000     0.000000  \n",
       "50%         0.000000     0.000000  \n",
       "75%         0.000000     0.000000  \n",
       "max         1.000000     1.000000  \n",
       "\n",
       "[8 rows x 735 columns]"
      ]
     },
     "execution_count": 35,
     "metadata": {},
     "output_type": "execute_result"
    }
   ],
   "source": [
    "#observe that there are some weird values.\n",
    "df_related_jobs.describe()"
   ]
  },
  {
   "cell_type": "code",
   "execution_count": null,
   "metadata": {},
   "outputs": [],
   "source": []
  },
  {
   "cell_type": "code",
   "execution_count": 36,
   "metadata": {
    "ExecuteTime": {
     "end_time": "2019-05-12T16:23:30.481154Z",
     "start_time": "2019-05-12T16:23:30.468179Z"
    }
   },
   "outputs": [],
   "source": [
    "#decide to drop job with salary $1\n",
    "df_related_jobs.drop(index = df_related_jobs.index[df_related_jobs['sal_lower'] == 1] , inplace = True)\n",
    "df_related_jobs.reset_index(drop = True, inplace = True)"
   ]
  },
  {
   "cell_type": "code",
   "execution_count": 37,
   "metadata": {
    "ExecuteTime": {
     "end_time": "2019-05-12T16:23:30.655676Z",
     "start_time": "2019-05-12T16:23:30.483137Z"
    }
   },
   "outputs": [
    {
     "data": {
      "text/plain": [
       "<matplotlib.axes._subplots.AxesSubplot at 0x2175bd15f98>"
      ]
     },
     "execution_count": 37,
     "metadata": {},
     "output_type": "execute_result"
    },
    {
     "data": {
      "image/png": "[encoded data removed]",
      "text/plain": [
       "<Figure size 432x288 with 1 Axes>"
      ]
     },
     "metadata": {},
     "output_type": "display_data"
    }
   ],
   "source": [
    "sns.distplot(df_related_jobs.sal_lower)"
   ]
  },
  {
   "cell_type": "markdown",
   "metadata": {},
   "source": [
    "# 7. Dummify the rest of the columns\n",
    "\n",
    "- emp_type\n",
    "- seniority"
   ]
  },
  {
   "cell_type": "code",
   "execution_count": 38,
   "metadata": {
    "ExecuteTime": {
     "end_time": "2019-05-12T16:23:30.670638Z",
     "start_time": "2019-05-12T16:23:30.656674Z"
    }
   },
   "outputs": [],
   "source": [
    "df_related_jobs = pd.concat([df_related_jobs, pd.get_dummies(df_related_jobs[[\"emp_type\",\"seniority\"]])], axis=1)"
   ]
  },
  {
   "cell_type": "code",
   "execution_count": 39,
   "metadata": {
    "ExecuteTime": {
     "end_time": "2019-05-12T16:23:30.676620Z",
     "start_time": "2019-05-12T16:23:30.671635Z"
    }
   },
   "outputs": [
    {
     "data": {
      "text/plain": [
       "756"
      ]
     },
     "execution_count": 39,
     "metadata": {},
     "output_type": "execute_result"
    }
   ],
   "source": [
    "len(df_related_jobs.columns)"
   ]
  },
  {
   "cell_type": "markdown",
   "metadata": {},
   "source": [
    "# 8. Dropping all old columns that have already been dummified or feature engineered already."
   ]
  },
  {
   "cell_type": "code",
   "execution_count": 40,
   "metadata": {
    "ExecuteTime": {
     "end_time": "2019-05-12T16:23:30.693586Z",
     "start_time": "2019-05-12T16:23:30.677619Z"
    }
   },
   "outputs": [
    {
     "data": {
      "text/plain": [
       "Index(['URL', 'emp_type', 'industry', 'job_requirements', 'job_title',\n",
       "       'sal_lower', 'seniority', 'skills', 'industry_Public / Civil Service',\n",
       "       'industry_Human Resources',\n",
       "       ...\n",
       "       'emp_type_Permanent', 'emp_type_Temporary', 'seniority_exec',\n",
       "       'seniority_fresh', 'seniority_manager', 'seniority_midman',\n",
       "       'seniority_nonexec', 'seniority_professional', 'seniority_srexec',\n",
       "       'seniority_srman'],\n",
       "      dtype='object', length=756)"
      ]
     },
     "execution_count": 40,
     "metadata": {},
     "output_type": "execute_result"
    }
   ],
   "source": [
    "df_related_jobs.columns"
   ]
  },
  {
   "cell_type": "code",
   "execution_count": 41,
   "metadata": {
    "ExecuteTime": {
     "end_time": "2019-05-12T16:23:30.713522Z",
     "start_time": "2019-05-12T16:23:30.695570Z"
    }
   },
   "outputs": [],
   "source": [
    "df_related_jobs.drop(columns=['industry','URL','emp_type','seniority','skills'],inplace = True)"
   ]
  },
  {
   "cell_type": "code",
   "execution_count": 42,
   "metadata": {
    "ExecuteTime": {
     "end_time": "2019-05-12T16:23:30.720504Z",
     "start_time": "2019-05-12T16:23:30.715517Z"
    }
   },
   "outputs": [
    {
     "data": {
      "text/plain": [
       "751"
      ]
     },
     "execution_count": 42,
     "metadata": {},
     "output_type": "execute_result"
    }
   ],
   "source": [
    "len(df_related_jobs.columns)"
   ]
  },
  {
   "cell_type": "markdown",
   "metadata": {},
   "source": [
    "# 9. Text Preprocessing for job requirements. "
   ]
  },
  {
   "cell_type": "code",
   "execution_count": 43,
   "metadata": {
    "ExecuteTime": {
     "end_time": "2019-05-12T16:23:30.733469Z",
     "start_time": "2019-05-12T16:23:30.722498Z"
    }
   },
   "outputs": [
    {
     "data": {
      "text/plain": [
       "0    Roles & Responsibilities, ICIS is a division o...\n",
       "1    Roles & Responsibilities, As a Data Analyst, y...\n",
       "2    Roles & Responsibilities, An exciting opportun...\n",
       "3    Roles & Responsibilities, Position Purpose & S...\n",
       "4    Roles & Responsibilities, Duties & responsibil...\n",
       "Name: job_requirements, dtype: object"
      ]
     },
     "execution_count": 43,
     "metadata": {},
     "output_type": "execute_result"
    }
   ],
   "source": [
    "df_related_jobs.job_requirements.head()"
   ]
  },
  {
   "cell_type": "code",
   "execution_count": 44,
   "metadata": {
    "ExecuteTime": {
     "end_time": "2019-05-12T16:23:30.834200Z",
     "start_time": "2019-05-12T16:23:30.735464Z"
    },
    "scrolled": true
   },
   "outputs": [
    {
     "data": {
      "text/plain": [
       "0       Roles  Responsibilities ICIS is a division of ...\n",
       "1       Roles  Responsibilities As a Data Analyst you ...\n",
       "2       Roles  Responsibilities An exciting opportunit...\n",
       "3       Roles  Responsibilities Position Purpose  Summ...\n",
       "4       Roles  Responsibilities Duties  responsibiliti...\n",
       "5       Roles  Responsibilities Analyst profile with u...\n",
       "6       Roles  Responsibilities As part of CICs rapid ...\n",
       "7       Roles  Responsibilities     Understand analyse...\n",
       "8       Roles  Responsibilities The main responsibilit...\n",
       "9       Roles  Responsibilities  t Interpret data anal...\n",
       "10      Roles  Responsibilities  t As a Senior Data En...\n",
       "11      Roles  Responsibilities PropertyGuru Group is ...\n",
       "12      Roles  Responsibilities We are currently looki...\n",
       "13      Roles  Responsibilities Data Analyst at Travel...\n",
       "14      Roles  Responsibilities You will be responsibl...\n",
       "15      Roles  Responsibilities PropertyGuru Group is ...\n",
       "16      Roles  Responsibilities As Senior Data Enginee...\n",
       "17      Roles  Responsibilities xa0    CRM Data Analys...\n",
       "18      Roles  Responsibilities CRM Data Analyst    A ...\n",
       "19      Roles  Responsibilities You will be part of a ...\n",
       "20      Roles  Responsibilities The successful candida...\n",
       "21      Roles  Responsibilities  t Discover clean inte...\n",
       "22      Roles  Responsibilities     Data Analysist for...\n",
       "23      Roles  Responsibilities KEY ACCOUNTABILITIES  ...\n",
       "24      Roles  Responsibilities   COMPANY DESCRIPTION ...\n",
       "25      Roles  Responsibilities Business Function    G...\n",
       "26      Roles  Responsibilities Powered by big data an...\n",
       "27      Roles  Responsibilities Data Anaytics         ...\n",
       "28      Roles  Responsibilities 99co is looking for a ...\n",
       "29      Roles  Responsibilities 99co is looking for a ...\n",
       "                              ...                        \n",
       "1192    Roles  Responsibilities It is an exciting time...\n",
       "1193    Roles  Responsibilities Job Description     t ...\n",
       "1194    Roles  Responsibilities We are currently looki...\n",
       "1195    Roles  Responsibilities We are currently looki...\n",
       "1196    Roles  Responsibilities We are currently looki...\n",
       "1197    Roles  Responsibilities Business Function    G...\n",
       "1198    Roles  Responsibilities The Industrial Interne...\n",
       "1199    Roles  Responsibilities We are currently looki...\n",
       "1200    Roles  Responsibilities Overview of job    You...\n",
       "1201    Roles  Responsibilities We are looking for hig...\n",
       "1202    Roles  Responsibilities Allegis Global Solutio...\n",
       "1203    Roles  Responsibilities     Use tools and perf...\n",
       "1204    Roles  Responsibilities OPERATIONS    Operatio...\n",
       "1205    Roles  Responsibilities YOUR IMPACT    We are ...\n",
       "1206    Roles  Responsibilities YOUR IMPACT    We are ...\n",
       "1207    Roles  Responsibilities Business Function    G...\n",
       "1208    Roles  Responsibilities Business Function    G...\n",
       "1209    Roles  Responsibilities The Cybersecurity Cons...\n",
       "1210    Roles  Responsibilities Canopy is a make sense...\n",
       "1211    Roles  Responsibilities LinkedIn was built to ...\n",
       "1212    Roles  Responsibilities     We are seeking an ...\n",
       "1213    Roles  Responsibilities We are seeking an ener...\n",
       "1214    Roles  Responsibilities You will be part of th...\n",
       "1215    Roles  Responsibilities Imagine companies only...\n",
       "1216    Roles  Responsibilities Imagine companies only...\n",
       "1217    Roles  Responsibilities The Cyber Security Gro...\n",
       "1218    Roles  Responsibilities Imagine companies only...\n",
       "1219    Roles  Responsibilities Imagine companies only...\n",
       "1220    Roles  Responsibilities The Government Digital...\n",
       "1221    Roles  Responsibilities Imagine companies only...\n",
       "Name: job_requirements, Length: 1222, dtype: object"
      ]
     },
     "execution_count": 44,
     "metadata": {},
     "output_type": "execute_result"
    }
   ],
   "source": [
    "#some basic preprocessing to remove symbols \n",
    "df_related_jobs['job_requirements'] = df_related_jobs['job_requirements'].str.replace('[^\\w\\s]','')\n",
    "df_related_jobs['job_requirements']"
   ]
  },
  {
   "cell_type": "code",
   "execution_count": 45,
   "metadata": {
    "ExecuteTime": {
     "end_time": "2019-05-12T16:23:30.886061Z",
     "start_time": "2019-05-12T16:23:30.835197Z"
    },
    "scrolled": true
   },
   "outputs": [
    {
     "data": {
      "text/html": [
       "<div>\n",
       "<style scoped>\n",
       "    .dataframe tbody tr th:only-of-type {\n",
       "        vertical-align: middle;\n",
       "    }\n",
       "\n",
       "    .dataframe tbody tr th {\n",
       "        vertical-align: top;\n",
       "    }\n",
       "\n",
       "    .dataframe thead th {\n",
       "        text-align: right;\n",
       "    }\n",
       "</style>\n",
       "<table border=\"1\" class=\"dataframe\">\n",
       "  <thead>\n",
       "    <tr style=\"text-align: right;\">\n",
       "      <th></th>\n",
       "      <th>job_requirements</th>\n",
       "      <th>word_count</th>\n",
       "    </tr>\n",
       "  </thead>\n",
       "  <tbody>\n",
       "    <tr>\n",
       "      <th>0</th>\n",
       "      <td>Roles  Responsibilities ICIS is a division of ...</td>\n",
       "      <td>510</td>\n",
       "    </tr>\n",
       "    <tr>\n",
       "      <th>1</th>\n",
       "      <td>Roles  Responsibilities As a Data Analyst you ...</td>\n",
       "      <td>349</td>\n",
       "    </tr>\n",
       "    <tr>\n",
       "      <th>2</th>\n",
       "      <td>Roles  Responsibilities An exciting opportunit...</td>\n",
       "      <td>372</td>\n",
       "    </tr>\n",
       "    <tr>\n",
       "      <th>3</th>\n",
       "      <td>Roles  Responsibilities Position Purpose  Summ...</td>\n",
       "      <td>879</td>\n",
       "    </tr>\n",
       "    <tr>\n",
       "      <th>4</th>\n",
       "      <td>Roles  Responsibilities Duties  responsibiliti...</td>\n",
       "      <td>434</td>\n",
       "    </tr>\n",
       "    <tr>\n",
       "      <th>5</th>\n",
       "      <td>Roles  Responsibilities Analyst profile with u...</td>\n",
       "      <td>150</td>\n",
       "    </tr>\n",
       "    <tr>\n",
       "      <th>6</th>\n",
       "      <td>Roles  Responsibilities As part of CICs rapid ...</td>\n",
       "      <td>312</td>\n",
       "    </tr>\n",
       "    <tr>\n",
       "      <th>7</th>\n",
       "      <td>Roles  Responsibilities     Understand analyse...</td>\n",
       "      <td>246</td>\n",
       "    </tr>\n",
       "    <tr>\n",
       "      <th>8</th>\n",
       "      <td>Roles  Responsibilities The main responsibilit...</td>\n",
       "      <td>445</td>\n",
       "    </tr>\n",
       "    <tr>\n",
       "      <th>9</th>\n",
       "      <td>Roles  Responsibilities  t Interpret data anal...</td>\n",
       "      <td>255</td>\n",
       "    </tr>\n",
       "    <tr>\n",
       "      <th>10</th>\n",
       "      <td>Roles  Responsibilities  t As a Senior Data En...</td>\n",
       "      <td>354</td>\n",
       "    </tr>\n",
       "    <tr>\n",
       "      <th>11</th>\n",
       "      <td>Roles  Responsibilities PropertyGuru Group is ...</td>\n",
       "      <td>469</td>\n",
       "    </tr>\n",
       "    <tr>\n",
       "      <th>12</th>\n",
       "      <td>Roles  Responsibilities We are currently looki...</td>\n",
       "      <td>325</td>\n",
       "    </tr>\n",
       "    <tr>\n",
       "      <th>13</th>\n",
       "      <td>Roles  Responsibilities Data Analyst at Travel...</td>\n",
       "      <td>165</td>\n",
       "    </tr>\n",
       "    <tr>\n",
       "      <th>14</th>\n",
       "      <td>Roles  Responsibilities You will be responsibl...</td>\n",
       "      <td>286</td>\n",
       "    </tr>\n",
       "    <tr>\n",
       "      <th>15</th>\n",
       "      <td>Roles  Responsibilities PropertyGuru Group is ...</td>\n",
       "      <td>469</td>\n",
       "    </tr>\n",
       "    <tr>\n",
       "      <th>16</th>\n",
       "      <td>Roles  Responsibilities As Senior Data Enginee...</td>\n",
       "      <td>452</td>\n",
       "    </tr>\n",
       "    <tr>\n",
       "      <th>17</th>\n",
       "      <td>Roles  Responsibilities xa0    CRM Data Analys...</td>\n",
       "      <td>418</td>\n",
       "    </tr>\n",
       "    <tr>\n",
       "      <th>18</th>\n",
       "      <td>Roles  Responsibilities CRM Data Analyst    A ...</td>\n",
       "      <td>440</td>\n",
       "    </tr>\n",
       "    <tr>\n",
       "      <th>19</th>\n",
       "      <td>Roles  Responsibilities You will be part of a ...</td>\n",
       "      <td>586</td>\n",
       "    </tr>\n",
       "    <tr>\n",
       "      <th>20</th>\n",
       "      <td>Roles  Responsibilities The successful candida...</td>\n",
       "      <td>342</td>\n",
       "    </tr>\n",
       "    <tr>\n",
       "      <th>21</th>\n",
       "      <td>Roles  Responsibilities  t Discover clean inte...</td>\n",
       "      <td>117</td>\n",
       "    </tr>\n",
       "    <tr>\n",
       "      <th>22</th>\n",
       "      <td>Roles  Responsibilities     Data Analysist for...</td>\n",
       "      <td>261</td>\n",
       "    </tr>\n",
       "    <tr>\n",
       "      <th>23</th>\n",
       "      <td>Roles  Responsibilities KEY ACCOUNTABILITIES  ...</td>\n",
       "      <td>382</td>\n",
       "    </tr>\n",
       "    <tr>\n",
       "      <th>24</th>\n",
       "      <td>Roles  Responsibilities   COMPANY DESCRIPTION ...</td>\n",
       "      <td>571</td>\n",
       "    </tr>\n",
       "    <tr>\n",
       "      <th>25</th>\n",
       "      <td>Roles  Responsibilities Business Function    G...</td>\n",
       "      <td>296</td>\n",
       "    </tr>\n",
       "    <tr>\n",
       "      <th>26</th>\n",
       "      <td>Roles  Responsibilities Powered by big data an...</td>\n",
       "      <td>1080</td>\n",
       "    </tr>\n",
       "    <tr>\n",
       "      <th>27</th>\n",
       "      <td>Roles  Responsibilities Data Anaytics         ...</td>\n",
       "      <td>540</td>\n",
       "    </tr>\n",
       "    <tr>\n",
       "      <th>28</th>\n",
       "      <td>Roles  Responsibilities 99co is looking for a ...</td>\n",
       "      <td>374</td>\n",
       "    </tr>\n",
       "    <tr>\n",
       "      <th>29</th>\n",
       "      <td>Roles  Responsibilities 99co is looking for a ...</td>\n",
       "      <td>350</td>\n",
       "    </tr>\n",
       "    <tr>\n",
       "      <th>...</th>\n",
       "      <td>...</td>\n",
       "      <td>...</td>\n",
       "    </tr>\n",
       "    <tr>\n",
       "      <th>1192</th>\n",
       "      <td>Roles  Responsibilities It is an exciting time...</td>\n",
       "      <td>912</td>\n",
       "    </tr>\n",
       "    <tr>\n",
       "      <th>1193</th>\n",
       "      <td>Roles  Responsibilities Job Description     t ...</td>\n",
       "      <td>400</td>\n",
       "    </tr>\n",
       "    <tr>\n",
       "      <th>1194</th>\n",
       "      <td>Roles  Responsibilities We are currently looki...</td>\n",
       "      <td>511</td>\n",
       "    </tr>\n",
       "    <tr>\n",
       "      <th>1195</th>\n",
       "      <td>Roles  Responsibilities We are currently looki...</td>\n",
       "      <td>511</td>\n",
       "    </tr>\n",
       "    <tr>\n",
       "      <th>1196</th>\n",
       "      <td>Roles  Responsibilities We are currently looki...</td>\n",
       "      <td>492</td>\n",
       "    </tr>\n",
       "    <tr>\n",
       "      <th>1197</th>\n",
       "      <td>Roles  Responsibilities Business Function    G...</td>\n",
       "      <td>443</td>\n",
       "    </tr>\n",
       "    <tr>\n",
       "      <th>1198</th>\n",
       "      <td>Roles  Responsibilities The Industrial Interne...</td>\n",
       "      <td>485</td>\n",
       "    </tr>\n",
       "    <tr>\n",
       "      <th>1199</th>\n",
       "      <td>Roles  Responsibilities We are currently looki...</td>\n",
       "      <td>986</td>\n",
       "    </tr>\n",
       "    <tr>\n",
       "      <th>1200</th>\n",
       "      <td>Roles  Responsibilities Overview of job    You...</td>\n",
       "      <td>617</td>\n",
       "    </tr>\n",
       "    <tr>\n",
       "      <th>1201</th>\n",
       "      <td>Roles  Responsibilities We are looking for hig...</td>\n",
       "      <td>163</td>\n",
       "    </tr>\n",
       "    <tr>\n",
       "      <th>1202</th>\n",
       "      <td>Roles  Responsibilities Allegis Global Solutio...</td>\n",
       "      <td>368</td>\n",
       "    </tr>\n",
       "    <tr>\n",
       "      <th>1203</th>\n",
       "      <td>Roles  Responsibilities     Use tools and perf...</td>\n",
       "      <td>369</td>\n",
       "    </tr>\n",
       "    <tr>\n",
       "      <th>1204</th>\n",
       "      <td>Roles  Responsibilities OPERATIONS    Operatio...</td>\n",
       "      <td>673</td>\n",
       "    </tr>\n",
       "    <tr>\n",
       "      <th>1205</th>\n",
       "      <td>Roles  Responsibilities YOUR IMPACT    We are ...</td>\n",
       "      <td>679</td>\n",
       "    </tr>\n",
       "    <tr>\n",
       "      <th>1206</th>\n",
       "      <td>Roles  Responsibilities YOUR IMPACT    We are ...</td>\n",
       "      <td>657</td>\n",
       "    </tr>\n",
       "    <tr>\n",
       "      <th>1207</th>\n",
       "      <td>Roles  Responsibilities Business Function    G...</td>\n",
       "      <td>393</td>\n",
       "    </tr>\n",
       "    <tr>\n",
       "      <th>1208</th>\n",
       "      <td>Roles  Responsibilities Business Function    G...</td>\n",
       "      <td>393</td>\n",
       "    </tr>\n",
       "    <tr>\n",
       "      <th>1209</th>\n",
       "      <td>Roles  Responsibilities The Cybersecurity Cons...</td>\n",
       "      <td>239</td>\n",
       "    </tr>\n",
       "    <tr>\n",
       "      <th>1210</th>\n",
       "      <td>Roles  Responsibilities Canopy is a make sense...</td>\n",
       "      <td>516</td>\n",
       "    </tr>\n",
       "    <tr>\n",
       "      <th>1211</th>\n",
       "      <td>Roles  Responsibilities LinkedIn was built to ...</td>\n",
       "      <td>467</td>\n",
       "    </tr>\n",
       "    <tr>\n",
       "      <th>1212</th>\n",
       "      <td>Roles  Responsibilities     We are seeking an ...</td>\n",
       "      <td>515</td>\n",
       "    </tr>\n",
       "    <tr>\n",
       "      <th>1213</th>\n",
       "      <td>Roles  Responsibilities We are seeking an ener...</td>\n",
       "      <td>496</td>\n",
       "    </tr>\n",
       "    <tr>\n",
       "      <th>1214</th>\n",
       "      <td>Roles  Responsibilities You will be part of th...</td>\n",
       "      <td>268</td>\n",
       "    </tr>\n",
       "    <tr>\n",
       "      <th>1215</th>\n",
       "      <td>Roles  Responsibilities Imagine companies only...</td>\n",
       "      <td>257</td>\n",
       "    </tr>\n",
       "    <tr>\n",
       "      <th>1216</th>\n",
       "      <td>Roles  Responsibilities Imagine companies only...</td>\n",
       "      <td>257</td>\n",
       "    </tr>\n",
       "    <tr>\n",
       "      <th>1217</th>\n",
       "      <td>Roles  Responsibilities The Cyber Security Gro...</td>\n",
       "      <td>410</td>\n",
       "    </tr>\n",
       "    <tr>\n",
       "      <th>1218</th>\n",
       "      <td>Roles  Responsibilities Imagine companies only...</td>\n",
       "      <td>333</td>\n",
       "    </tr>\n",
       "    <tr>\n",
       "      <th>1219</th>\n",
       "      <td>Roles  Responsibilities Imagine companies only...</td>\n",
       "      <td>294</td>\n",
       "    </tr>\n",
       "    <tr>\n",
       "      <th>1220</th>\n",
       "      <td>Roles  Responsibilities The Government Digital...</td>\n",
       "      <td>695</td>\n",
       "    </tr>\n",
       "    <tr>\n",
       "      <th>1221</th>\n",
       "      <td>Roles  Responsibilities Imagine companies only...</td>\n",
       "      <td>363</td>\n",
       "    </tr>\n",
       "  </tbody>\n",
       "</table>\n",
       "<p>1222 rows × 2 columns</p>\n",
       "</div>"
      ],
      "text/plain": [
       "                                       job_requirements  word_count\n",
       "0     Roles  Responsibilities ICIS is a division of ...         510\n",
       "1     Roles  Responsibilities As a Data Analyst you ...         349\n",
       "2     Roles  Responsibilities An exciting opportunit...         372\n",
       "3     Roles  Responsibilities Position Purpose  Summ...         879\n",
       "4     Roles  Responsibilities Duties  responsibiliti...         434\n",
       "5     Roles  Responsibilities Analyst profile with u...         150\n",
       "6     Roles  Responsibilities As part of CICs rapid ...         312\n",
       "7     Roles  Responsibilities     Understand analyse...         246\n",
       "8     Roles  Responsibilities The main responsibilit...         445\n",
       "9     Roles  Responsibilities  t Interpret data anal...         255\n",
       "10    Roles  Responsibilities  t As a Senior Data En...         354\n",
       "11    Roles  Responsibilities PropertyGuru Group is ...         469\n",
       "12    Roles  Responsibilities We are currently looki...         325\n",
       "13    Roles  Responsibilities Data Analyst at Travel...         165\n",
       "14    Roles  Responsibilities You will be responsibl...         286\n",
       "15    Roles  Responsibilities PropertyGuru Group is ...         469\n",
       "16    Roles  Responsibilities As Senior Data Enginee...         452\n",
       "17    Roles  Responsibilities xa0    CRM Data Analys...         418\n",
       "18    Roles  Responsibilities CRM Data Analyst    A ...         440\n",
       "19    Roles  Responsibilities You will be part of a ...         586\n",
       "20    Roles  Responsibilities The successful candida...         342\n",
       "21    Roles  Responsibilities  t Discover clean inte...         117\n",
       "22    Roles  Responsibilities     Data Analysist for...         261\n",
       "23    Roles  Responsibilities KEY ACCOUNTABILITIES  ...         382\n",
       "24    Roles  Responsibilities   COMPANY DESCRIPTION ...         571\n",
       "25    Roles  Responsibilities Business Function    G...         296\n",
       "26    Roles  Responsibilities Powered by big data an...        1080\n",
       "27    Roles  Responsibilities Data Anaytics         ...         540\n",
       "28    Roles  Responsibilities 99co is looking for a ...         374\n",
       "29    Roles  Responsibilities 99co is looking for a ...         350\n",
       "...                                                 ...         ...\n",
       "1192  Roles  Responsibilities It is an exciting time...         912\n",
       "1193  Roles  Responsibilities Job Description     t ...         400\n",
       "1194  Roles  Responsibilities We are currently looki...         511\n",
       "1195  Roles  Responsibilities We are currently looki...         511\n",
       "1196  Roles  Responsibilities We are currently looki...         492\n",
       "1197  Roles  Responsibilities Business Function    G...         443\n",
       "1198  Roles  Responsibilities The Industrial Interne...         485\n",
       "1199  Roles  Responsibilities We are currently looki...         986\n",
       "1200  Roles  Responsibilities Overview of job    You...         617\n",
       "1201  Roles  Responsibilities We are looking for hig...         163\n",
       "1202  Roles  Responsibilities Allegis Global Solutio...         368\n",
       "1203  Roles  Responsibilities     Use tools and perf...         369\n",
       "1204  Roles  Responsibilities OPERATIONS    Operatio...         673\n",
       "1205  Roles  Responsibilities YOUR IMPACT    We are ...         679\n",
       "1206  Roles  Responsibilities YOUR IMPACT    We are ...         657\n",
       "1207  Roles  Responsibilities Business Function    G...         393\n",
       "1208  Roles  Responsibilities Business Function    G...         393\n",
       "1209  Roles  Responsibilities The Cybersecurity Cons...         239\n",
       "1210  Roles  Responsibilities Canopy is a make sense...         516\n",
       "1211  Roles  Responsibilities LinkedIn was built to ...         467\n",
       "1212  Roles  Responsibilities     We are seeking an ...         515\n",
       "1213  Roles  Responsibilities We are seeking an ener...         496\n",
       "1214  Roles  Responsibilities You will be part of th...         268\n",
       "1215  Roles  Responsibilities Imagine companies only...         257\n",
       "1216  Roles  Responsibilities Imagine companies only...         257\n",
       "1217  Roles  Responsibilities The Cyber Security Gro...         410\n",
       "1218  Roles  Responsibilities Imagine companies only...         333\n",
       "1219  Roles  Responsibilities Imagine companies only...         294\n",
       "1220  Roles  Responsibilities The Government Digital...         695\n",
       "1221  Roles  Responsibilities Imagine companies only...         363\n",
       "\n",
       "[1222 rows x 2 columns]"
      ]
     },
     "execution_count": 45,
     "metadata": {},
     "output_type": "execute_result"
    }
   ],
   "source": [
    "#does word count also impact the type of job post?\n",
    "df_related_jobs['word_count'] = df_related_jobs['job_requirements'].apply(lambda x: len(str(x).split(\" \")))\n",
    "df_related_jobs[['job_requirements','word_count']]"
   ]
  },
  {
   "cell_type": "code",
   "execution_count": null,
   "metadata": {},
   "outputs": [],
   "source": []
  },
  {
   "cell_type": "markdown",
   "metadata": {},
   "source": [
    "# 10. Prepare job_title as target label."
   ]
  },
  {
   "cell_type": "code",
   "execution_count": 46,
   "metadata": {
    "ExecuteTime": {
     "end_time": "2019-05-12T16:23:30.892045Z",
     "start_time": "2019-05-12T16:23:30.887058Z"
    }
   },
   "outputs": [],
   "source": [
    "df_related_jobs.job_title = df_related_jobs.job_title.str.lower()"
   ]
  },
  {
   "cell_type": "code",
   "execution_count": 47,
   "metadata": {
    "ExecuteTime": {
     "end_time": "2019-05-12T16:23:30.904012Z",
     "start_time": "2019-05-12T16:23:30.894040Z"
    }
   },
   "outputs": [],
   "source": [
    "df_related_jobs.job_title = df_related_jobs.job_title.apply(lambda x :1 if 'data scientist' in x else '0')    "
   ]
  },
  {
   "cell_type": "code",
   "execution_count": 48,
   "metadata": {
    "ExecuteTime": {
     "end_time": "2019-05-12T16:23:30.916978Z",
     "start_time": "2019-05-12T16:23:30.905010Z"
    }
   },
   "outputs": [
    {
     "data": {
      "text/plain": [
       "0    1138\n",
       "1      84\n",
       "Name: job_title, dtype: int64"
      ]
     },
     "execution_count": 48,
     "metadata": {},
     "output_type": "execute_result"
    }
   ],
   "source": [
    "df_related_jobs.job_title.value_counts()"
   ]
  },
  {
   "cell_type": "markdown",
   "metadata": {},
   "source": [
    "# 11. Count vectorize job requirements"
   ]
  },
  {
   "cell_type": "markdown",
   "metadata": {},
   "source": [
    "Since most of the key words are atleast bi-gram or tri-gram. My ngram_range will be 2,3."
   ]
  },
  {
   "cell_type": "code",
   "execution_count": 52,
   "metadata": {
    "ExecuteTime": {
     "end_time": "2019-05-12T16:27:22.637183Z",
     "start_time": "2019-05-12T16:27:22.632225Z"
    }
   },
   "outputs": [],
   "source": [
    "stop_words = text.ENGLISH_STOP_WORDS.union(['roles','xa0','requirements','regret' ,'shortlisted',\\\n",
    "                                            'candidates', 'notified','working','position', 'opportunities'\\\n",
    "                                            , 'duties', 'looking' , 'seeking' , 'companies','description' , 'part'\\\n",
    "                                           'work','able','added','advantage','responsibilities','skills','ability','singapore'])\n",
    "cvec_job_requirements =  CountVectorizer(ngram_range = (2,3) , min_df=0.05,max_df = 0.9,stop_words = stop_words, binary =True)"
   ]
  },
  {
   "cell_type": "code",
   "execution_count": 53,
   "metadata": {
    "ExecuteTime": {
     "end_time": "2019-05-12T16:27:24.676136Z",
     "start_time": "2019-05-12T16:27:23.222024Z"
    }
   },
   "outputs": [
    {
     "data": {
      "text/plain": [
       "CountVectorizer(analyzer='word', binary=True, decode_error='strict',\n",
       "        dtype=<class 'numpy.int64'>, encoding='utf-8', input='content',\n",
       "        lowercase=True, max_df=0.9, max_features=None, min_df=0.05,\n",
       "        ngram_range=(2, 3), preprocessor=None,\n",
       "        stop_words=frozenset({'whose', 'somewhere', 'thus', 'such', 'of', 'within', 'moreover', 'but', 'fire', 'have', 'found', 'otherwise', 'some', 'three', 'and', 'seeking', 'we', 'thereupon', 'may', 'de', 'ours', 'were', 'behind', 'is', 'do', 'up', 'able', 'already', 'shortlisted', 'will', 'also', 'show'...', 'duties', 'below', 'twelve', 'therefore', 'you', 'whereas', 'first', 'elsewhere', 're', 'forty'}),\n",
       "        strip_accents=None, token_pattern='(?u)\\\\b\\\\w\\\\w+\\\\b',\n",
       "        tokenizer=None, vocabulary=None)"
      ]
     },
     "execution_count": 53,
     "metadata": {},
     "output_type": "execute_result"
    }
   ],
   "source": [
    "cvec_job_requirements.fit(df_related_jobs.job_requirements)"
   ]
  },
  {
   "cell_type": "code",
   "execution_count": 54,
   "metadata": {
    "ExecuteTime": {
     "end_time": "2019-05-12T16:28:12.434802Z",
     "start_time": "2019-05-12T16:28:11.952094Z"
    }
   },
   "outputs": [],
   "source": [
    "job_requirements_vectors = pd.DataFrame(cvec_job_requirements.transform(df_related_jobs.job_requirements).todense(),\n",
    "                           columns=cvec_job_requirements.get_feature_names())"
   ]
  },
  {
   "cell_type": "code",
   "execution_count": 55,
   "metadata": {
    "ExecuteTime": {
     "end_time": "2019-05-12T16:28:12.443779Z",
     "start_time": "2019-05-12T16:28:12.435802Z"
    }
   },
   "outputs": [
    {
     "data": {
      "text/plain": [
       "data management               65\n",
       "product development           66\n",
       "artificial intelligence       67\n",
       "design development            67\n",
       "business needs                68\n",
       "business processes            70\n",
       "minimum years experience      70\n",
       "science related               71\n",
       "knowledge experience          71\n",
       "data mining                   72\n",
       "verbal written                74\n",
       "written communication         77\n",
       "financial services            77\n",
       "information technology        79\n",
       "written verbal                82\n",
       "good knowledge                84\n",
       "business intelligence         85\n",
       "handson experience            85\n",
       "years relevant experience     87\n",
       "excellent communication       87\n",
       "track record                  88\n",
       "deep learning                 88\n",
       "related field                 91\n",
       "work experience               93\n",
       "data analysis                104\n",
       "software development         106\n",
       "good understanding           106\n",
       "internal external            107\n",
       "strong analytical            115\n",
       "good communication           118\n",
       "experience data              124\n",
       "team members                 124\n",
       "problem solving              127\n",
       "work independently           128\n",
       "minimum years                132\n",
       "years relevant               134\n",
       "degree computer science      135\n",
       "relevant experience          136\n",
       "bachelors degree             141\n",
       "data science                 141\n",
       "best practices               143\n",
       "project management           163\n",
       "degree computer              164\n",
       "work closely                 170\n",
       "team player                  171\n",
       "big data                     172\n",
       "data analytics               246\n",
       "machine learning             266\n",
       "years experience             368\n",
       "computer science             383\n",
       "dtype: int64"
      ]
     },
     "execution_count": 55,
     "metadata": {},
     "output_type": "execute_result"
    }
   ],
   "source": [
    "job_requirements_vectors.sum().sort_values()"
   ]
  },
  {
   "cell_type": "code",
   "execution_count": 56,
   "metadata": {
    "ExecuteTime": {
     "end_time": "2019-05-12T16:28:15.500598Z",
     "start_time": "2019-05-12T16:28:15.469653Z"
    }
   },
   "outputs": [],
   "source": [
    "df_for_modelling = pd.concat([df_related_jobs,job_requirements_vectors], axis=1).copy(deep = True)"
   ]
  },
  {
   "cell_type": "code",
   "execution_count": 57,
   "metadata": {
    "ExecuteTime": {
     "end_time": "2019-05-12T16:28:18.775777Z",
     "start_time": "2019-05-12T16:28:18.750832Z"
    },
    "scrolled": true
   },
   "outputs": [
    {
     "name": "stdout",
     "output_type": "stream",
     "text": [
      "<class 'pandas.core.frame.DataFrame'>\n",
      "RangeIndex: 1222 entries, 0 to 1221\n",
      "Columns: 802 entries, job_requirements to years relevant experience\n",
      "dtypes: float64(1), int64(785), object(2), uint8(14)\n",
      "memory usage: 7.4+ MB\n"
     ]
    }
   ],
   "source": [
    "df_for_modelling.info()"
   ]
  },
  {
   "cell_type": "code",
   "execution_count": 58,
   "metadata": {
    "ExecuteTime": {
     "end_time": "2019-05-12T16:28:19.585993Z",
     "start_time": "2019-05-12T16:28:19.576047Z"
    }
   },
   "outputs": [],
   "source": [
    "df_for_modelling.drop(columns = ['job_requirements'],inplace = True)"
   ]
  },
  {
   "cell_type": "code",
   "execution_count": 59,
   "metadata": {
    "ExecuteTime": {
     "end_time": "2019-05-12T16:28:22.072103Z",
     "start_time": "2019-05-12T16:28:22.068114Z"
    }
   },
   "outputs": [],
   "source": [
    "target = df_for_modelling['job_title']"
   ]
  },
  {
   "cell_type": "code",
   "execution_count": 60,
   "metadata": {
    "ExecuteTime": {
     "end_time": "2019-05-12T16:28:22.471155Z",
     "start_time": "2019-05-12T16:28:22.461182Z"
    }
   },
   "outputs": [],
   "source": [
    "predictors = df_for_modelling.drop(columns ='job_title')"
   ]
  },
  {
   "cell_type": "code",
   "execution_count": 61,
   "metadata": {
    "ExecuteTime": {
     "end_time": "2019-05-12T16:28:23.215993Z",
     "start_time": "2019-05-12T16:28:23.212034Z"
    }
   },
   "outputs": [],
   "source": [
    "target = target.astype(int)"
   ]
  },
  {
   "cell_type": "code",
   "execution_count": 62,
   "metadata": {
    "ExecuteTime": {
     "end_time": "2019-05-12T16:28:24.492836Z",
     "start_time": "2019-05-12T16:28:24.480841Z"
    }
   },
   "outputs": [],
   "source": [
    "X_train, X_test, y_train, y_test = train_test_split(predictors, target, test_size=0.3, stratify=target, random_state=74)"
   ]
  },
  {
   "cell_type": "markdown",
   "metadata": {},
   "source": [
    "# 12. Modelling "
   ]
  },
  {
   "cell_type": "markdown",
   "metadata": {},
   "source": [
    "Logistic regression model has been saved as : logreg_model_Q2.pkl"
   ]
  },
  {
   "cell_type": "code",
   "execution_count": 63,
   "metadata": {
    "ExecuteTime": {
     "end_time": "2019-05-12T16:28:26.152854Z",
     "start_time": "2019-05-12T16:28:26.111962Z"
    }
   },
   "outputs": [],
   "source": [
    "def grid_search_logistic(X_train, X_test, y_train, y_test):\n",
    "    log_reg = LogisticRegression(solver ='liblinear' )\n",
    "    # Create regularization penalty space\n",
    "    penalty = ['l1', 'l2']\n",
    "    # Create regularization hyperparameter space\n",
    "    C = [0.001, 0.01, 0.1 , 1 , 10 , 100]\n",
    "    # Create hyperparameter options\n",
    "    hyperparameters = dict(C=C, penalty=penalty)\n",
    "    clf = GridSearchCV(log_reg, hyperparameters, cv=5, scoring = 'roc_auc')\n",
    "    \n",
    "    best_log_reg = clf.fit(X_train, y_train)\n",
    "    best_param = best_log_reg.best_params_\n",
    "    best_score = best_log_reg.best_score_\n",
    "    \n",
    "    pred_score = best_log_reg.score(X_test,y_test)\n",
    "    predictions = best_log_reg.predict(X_test)    \n",
    "    y_pred_proba = best_log_reg.predict_proba(X_test)[::,1]\n",
    "    fpr, tpr, _ = metrics.roc_curve(y_test,y_pred_proba)\n",
    "    auc = metrics.roc_auc_score(y_test, y_pred_proba)\n",
    "    \n",
    "    confusion = pd.crosstab(y_test,\n",
    "                            predictions,\n",
    "                            rownames=['Actual'],\n",
    "                            colnames=['Predicted'],\n",
    "                            margins=True)\n",
    "    \n",
    "    print(\"===Logistic Regression===\")\n",
    "    print('Best Param:', best_param)\n",
    "    print('Best AUC Score from CV:',best_score)\n",
    "    print(\"Prediction score:\", pred_score)\n",
    "    print(\"AUC Score:\" , auc)\n",
    "    \n",
    "    print(classification_report(y_test,predictions))\n",
    "    print(confusion)\n",
    "    \n",
    "    pkl_filename = \"logreg_model_Q2.pkl\"  \n",
    "    with open(pkl_filename, 'wb') as file:  \n",
    "        pickle.dump(best_log_reg, file)"
   ]
  },
  {
   "cell_type": "markdown",
   "metadata": {},
   "source": [
    "Random Forest model has been saved as : \"forest_model_Q2.pkl\" "
   ]
  },
  {
   "cell_type": "code",
   "execution_count": 77,
   "metadata": {
    "ExecuteTime": {
     "end_time": "2019-05-12T16:42:07.780122Z",
     "start_time": "2019-05-12T16:42:07.734245Z"
    }
   },
   "outputs": [],
   "source": [
    "def grid_search_forest(X_train, X_test, y_train, y_test):\n",
    "    rfc=RandomForestClassifier(random_state=42)\n",
    "    param_grid = { \n",
    "    'n_estimators': [200, 500, 1000],\n",
    "    'max_features': ['auto', 'sqrt', 'log2'],\n",
    "    'criterion' :['gini', 'entropy']\n",
    "    }\n",
    "    clf = GridSearchCV(estimator=rfc, param_grid=param_grid, cv= 5,scoring = 'roc_auc')\n",
    "       \n",
    "    best_forest_model = clf.fit(X_train, y_train)\n",
    "    best_param = best_forest_model.best_params_\n",
    "    best_score = best_forest_model.best_score_\n",
    "\n",
    "    pred_score = best_forest_model.score(X_test,y_test)\n",
    "   \n",
    "    coef = best_forest_model.best_estimator_.feature_importances_\n",
    "    \n",
    "    predictions = best_forest_model.predict(X_test)\n",
    "    y_pred_proba = best_forest_model.predict_proba(X_test)[::,1]\n",
    "    fpr, tpr, _ = metrics.roc_curve(y_test,y_pred_proba)\n",
    "    auc = metrics.roc_auc_score(y_test, y_pred_proba)\n",
    "    \n",
    "    print(\"===Random Forest===\")\n",
    "    print('Best Params:', best_forest_model.best_params_)\n",
    "    print('Best AUC Score from CV:',best_score)   \n",
    "\n",
    "    print(\"Prediction score:\", pred_score)\n",
    "    print(\"AUC Score Test:\" , auc)\n",
    "    print(classification_report(y_test,predictions))\n",
    "\n",
    "    \n",
    "#     coefs = pd.DataFrame({'variable':predictors.columns,\n",
    "#                             'coef':best_forest_model.best_estimator_.feature_importances_,\n",
    "#                             'abs_coef':np.abs(best_forest_model.best_estimator_.feature_importances_)})\n",
    "    \n",
    "    pkl_filename = \"forest_model_Q2.pkl\"  \n",
    "    with open(pkl_filename, 'wb') as file:  \n",
    "        pickle.dump(best_forest_model, file)"
   ]
  },
  {
   "cell_type": "code",
   "execution_count": 66,
   "metadata": {
    "ExecuteTime": {
     "end_time": "2019-05-12T16:28:36.884466Z",
     "start_time": "2019-05-12T16:28:35.207974Z"
    }
   },
   "outputs": [
    {
     "name": "stdout",
     "output_type": "stream",
     "text": [
      "===Logistic Regression===\n",
      "Best Param: {'C': 1, 'penalty': 'l2'}\n",
      "Best AUC Score from CV: 0.8905397277976723\n",
      "Prediction score: 0.9387134502923976\n",
      "AUC Score: 0.9387134502923976\n",
      "              precision    recall  f1-score   support\n",
      "\n",
      "           0       0.97      0.97      0.97       342\n",
      "           1       0.64      0.64      0.64        25\n",
      "\n",
      "   micro avg       0.95      0.95      0.95       367\n",
      "   macro avg       0.81      0.81      0.81       367\n",
      "weighted avg       0.95      0.95      0.95       367\n",
      "\n",
      "Predicted    0   1  All\n",
      "Actual                 \n",
      "0          333   9  342\n",
      "1            9  16   25\n",
      "All        342  25  367\n"
     ]
    }
   ],
   "source": [
    "grid_search_logistic(X_train, X_test, y_train, y_test)"
   ]
  },
  {
   "cell_type": "code",
   "execution_count": 67,
   "metadata": {
    "ExecuteTime": {
     "end_time": "2019-05-12T16:29:47.517706Z",
     "start_time": "2019-05-12T16:28:37.004146Z"
    }
   },
   "outputs": [
    {
     "name": "stdout",
     "output_type": "stream",
     "text": [
      "===Random Forest===\n",
      "Best Params: {'criterion': 'entropy', 'max_features': 'auto', 'n_estimators': 1000}\n",
      "Best AUC Score from CV: 0.9140080505485173\n",
      "Prediction score: 0.9594736842105264\n",
      "AUC Score Test: 0.9594736842105264\n",
      "              precision    recall  f1-score   support\n",
      "\n",
      "           0       0.95      0.99      0.97       342\n",
      "           1       0.75      0.36      0.49        25\n",
      "\n",
      "   micro avg       0.95      0.95      0.95       367\n",
      "   macro avg       0.85      0.68      0.73       367\n",
      "weighted avg       0.94      0.95      0.94       367\n",
      "\n"
     ]
    }
   ],
   "source": [
    "grid_search_forest(X_train, X_test, y_train, y_test)"
   ]
  },
  {
   "cell_type": "code",
   "execution_count": null,
   "metadata": {},
   "outputs": [],
   "source": []
  },
  {
   "cell_type": "markdown",
   "metadata": {},
   "source": [
    "Logistic Regression model performs better. Print coefficients."
   ]
  },
  {
   "cell_type": "code",
   "execution_count": 68,
   "metadata": {
    "ExecuteTime": {
     "end_time": "2019-05-12T16:29:47.524686Z",
     "start_time": "2019-05-12T16:29:47.519668Z"
    }
   },
   "outputs": [],
   "source": [
    "pkl_filename = \"logreg_model_Q2.pkl\" \n",
    "with open(pkl_filename, 'rb') as file:  \n",
    "    pickle_model_logreg = pickle.load(file)"
   ]
  },
  {
   "cell_type": "code",
   "execution_count": 69,
   "metadata": {
    "ExecuteTime": {
     "end_time": "2019-05-12T16:29:47.542633Z",
     "start_time": "2019-05-12T16:29:47.525654Z"
    }
   },
   "outputs": [
    {
     "data": {
      "text/html": [
       "<div>\n",
       "<style scoped>\n",
       "    .dataframe tbody tr th:only-of-type {\n",
       "        vertical-align: middle;\n",
       "    }\n",
       "\n",
       "    .dataframe tbody tr th {\n",
       "        vertical-align: top;\n",
       "    }\n",
       "\n",
       "    .dataframe thead th {\n",
       "        text-align: right;\n",
       "    }\n",
       "</style>\n",
       "<table border=\"1\" class=\"dataframe\">\n",
       "  <thead>\n",
       "    <tr style=\"text-align: right;\">\n",
       "      <th></th>\n",
       "      <th>abs_coef</th>\n",
       "      <th>coef</th>\n",
       "      <th>variable</th>\n",
       "    </tr>\n",
       "  </thead>\n",
       "  <tbody>\n",
       "    <tr>\n",
       "      <th>777</th>\n",
       "      <td>1.881373</td>\n",
       "      <td>1.881373</td>\n",
       "      <td>machine learning</td>\n",
       "    </tr>\n",
       "    <tr>\n",
       "      <th>762</th>\n",
       "      <td>1.675398</td>\n",
       "      <td>1.675398</td>\n",
       "      <td>data science</td>\n",
       "    </tr>\n",
       "    <tr>\n",
       "      <th>781</th>\n",
       "      <td>1.078439</td>\n",
       "      <td>1.078439</td>\n",
       "      <td>product development</td>\n",
       "    </tr>\n",
       "    <tr>\n",
       "      <th>768</th>\n",
       "      <td>0.949163</td>\n",
       "      <td>0.949163</td>\n",
       "      <td>experience data</td>\n",
       "    </tr>\n",
       "    <tr>\n",
       "      <th>19</th>\n",
       "      <td>0.924179</td>\n",
       "      <td>0.924179</td>\n",
       "      <td>industry_Logistics / Supply Chain</td>\n",
       "    </tr>\n",
       "    <tr>\n",
       "      <th>793</th>\n",
       "      <td>0.901366</td>\n",
       "      <td>0.901366</td>\n",
       "      <td>work experience</td>\n",
       "    </tr>\n",
       "    <tr>\n",
       "      <th>742</th>\n",
       "      <td>0.800171</td>\n",
       "      <td>0.800171</td>\n",
       "      <td>seniority_fresh</td>\n",
       "    </tr>\n",
       "    <tr>\n",
       "      <th>763</th>\n",
       "      <td>0.731601</td>\n",
       "      <td>0.731601</td>\n",
       "      <td>deep learning</td>\n",
       "    </tr>\n",
       "    <tr>\n",
       "      <th>783</th>\n",
       "      <td>0.676066</td>\n",
       "      <td>0.676066</td>\n",
       "      <td>related field</td>\n",
       "    </tr>\n",
       "    <tr>\n",
       "      <th>784</th>\n",
       "      <td>0.620938</td>\n",
       "      <td>0.620938</td>\n",
       "      <td>relevant experience</td>\n",
       "    </tr>\n",
       "    <tr>\n",
       "      <th>148</th>\n",
       "      <td>0.611057</td>\n",
       "      <td>0.611057</td>\n",
       "      <td>skill_biotechnology</td>\n",
       "    </tr>\n",
       "    <tr>\n",
       "      <th>761</th>\n",
       "      <td>0.606900</td>\n",
       "      <td>0.606900</td>\n",
       "      <td>data mining</td>\n",
       "    </tr>\n",
       "    <tr>\n",
       "      <th>779</th>\n",
       "      <td>0.593560</td>\n",
       "      <td>0.593560</td>\n",
       "      <td>minimum years experience</td>\n",
       "    </tr>\n",
       "    <tr>\n",
       "      <th>753</th>\n",
       "      <td>0.587275</td>\n",
       "      <td>0.587275</td>\n",
       "      <td>big data</td>\n",
       "    </tr>\n",
       "    <tr>\n",
       "      <th>551</th>\n",
       "      <td>0.532129</td>\n",
       "      <td>0.532129</td>\n",
       "      <td>skill_spss</td>\n",
       "    </tr>\n",
       "  </tbody>\n",
       "</table>\n",
       "</div>"
      ],
      "text/plain": [
       "     abs_coef      coef                           variable\n",
       "777  1.881373  1.881373                   machine learning\n",
       "762  1.675398  1.675398                       data science\n",
       "781  1.078439  1.078439                product development\n",
       "768  0.949163  0.949163                    experience data\n",
       "19   0.924179  0.924179  industry_Logistics / Supply Chain\n",
       "793  0.901366  0.901366                    work experience\n",
       "742  0.800171  0.800171                    seniority_fresh\n",
       "763  0.731601  0.731601                      deep learning\n",
       "783  0.676066  0.676066                      related field\n",
       "784  0.620938  0.620938                relevant experience\n",
       "148  0.611057  0.611057                skill_biotechnology\n",
       "761  0.606900  0.606900                        data mining\n",
       "779  0.593560  0.593560           minimum years experience\n",
       "753  0.587275  0.587275                           big data\n",
       "551  0.532129  0.532129                         skill_spss"
      ]
     },
     "execution_count": 69,
     "metadata": {},
     "output_type": "execute_result"
    }
   ],
   "source": [
    "coefs = pd.DataFrame({'variable':X_train.columns,\n",
    "                            'coef':pickle_model_logreg.best_estimator_.coef_[0],\n",
    "                            'abs_coef':np.abs(pickle_model_logreg.best_estimator_.coef_[0])})\n",
    "coefs.sort_values(by = 'coef', ascending = False).head(15)"
   ]
  },
  {
   "cell_type": "markdown",
   "metadata": {
    "ExecuteTime": {
     "end_time": "2019-05-12T16:29:49.652965Z",
     "start_time": "2019-05-12T16:29:49.645985Z"
    }
   },
   "source": [
    "# Try to upsample and see if it improves the result. "
   ]
  },
  {
   "cell_type": "code",
   "execution_count": 70,
   "metadata": {
    "ExecuteTime": {
     "end_time": "2019-05-12T16:29:47.589480Z",
     "start_time": "2019-05-12T16:29:47.543602Z"
    }
   },
   "outputs": [],
   "source": [
    "sm = SMOTE(random_state=12, ratio = 1.0)\n",
    "x_train_res, y_train_res = sm.fit_sample(X_train, y_train)"
   ]
  },
  {
   "cell_type": "code",
   "execution_count": 71,
   "metadata": {
    "ExecuteTime": {
     "end_time": "2019-05-12T16:29:47.629374Z",
     "start_time": "2019-05-12T16:29:47.590477Z"
    }
   },
   "outputs": [],
   "source": [
    "def grid_search_logistic_sampled(x_train_res, X_test, y_train_res, y_test):\n",
    "    log_reg = LogisticRegression(solver ='liblinear' )\n",
    "    # Create regularization penalty space\n",
    "    penalty = ['l1', 'l2']\n",
    "    # Create regularization hyperparameter space\n",
    "    C = [0.001, 0.01, 0.1 , 1 , 10 , 100]\n",
    "    # Create hyperparameter options\n",
    "    hyperparameters = dict(C=C, penalty=penalty)\n",
    "    clf = GridSearchCV(log_reg, hyperparameters, cv=5, scoring = 'roc_auc')\n",
    "    \n",
    "    best_log_reg = clf.fit(x_train_res, y_train_res)\n",
    "    best_param = best_log_reg.best_params_\n",
    "    best_score = best_log_reg.best_score_\n",
    "    \n",
    "    pred_score = best_log_reg.score(X_test,y_test)\n",
    "    predictions = best_log_reg.predict(X_test)    \n",
    "    y_pred_proba = best_log_reg.predict_proba(X_test)[::,1]\n",
    "    fpr, tpr, _ = metrics.roc_curve(y_test,y_pred_proba)\n",
    "    auc = metrics.roc_auc_score(y_test, y_pred_proba)\n",
    "    \n",
    "    confusion = pd.crosstab(y_test,\n",
    "                            predictions,\n",
    "                            rownames=['Actual'],\n",
    "                            colnames=['Predicted'],\n",
    "                            margins=True)\n",
    "    \n",
    "    print(\"===Logistic Regression===\")\n",
    "    print('Best Param:', best_param)\n",
    "    print('Best AUC Score from CV:',best_score)\n",
    "    print(\"Prediction score:\", pred_score)\n",
    "    print(\"AUC Score:\" , auc)\n",
    "    \n",
    "    print(classification_report(y_test,predictions))\n",
    "    print(confusion)\n",
    "    \n",
    "    pkl_filename = \"logreg_model_Q2_sampled.pkl\"  \n",
    "    with open(pkl_filename, 'wb') as file:  \n",
    "        pickle.dump(best_log_reg, file)"
   ]
  },
  {
   "cell_type": "code",
   "execution_count": 72,
   "metadata": {
    "ExecuteTime": {
     "end_time": "2019-05-12T16:29:49.617061Z",
     "start_time": "2019-05-12T16:29:47.631368Z"
    }
   },
   "outputs": [
    {
     "name": "stdout",
     "output_type": "stream",
     "text": [
      "===Logistic Regression===\n",
      "Best Param: {'C': 1, 'penalty': 'l2'}\n",
      "Best AUC Score from CV: 0.9881309554849722\n",
      "Prediction score: 0.9375438596491228\n",
      "AUC Score: 0.9375438596491228\n",
      "              precision    recall  f1-score   support\n",
      "\n",
      "           0       0.99      0.93      0.96       342\n",
      "           1       0.48      0.84      0.61        25\n",
      "\n",
      "   micro avg       0.93      0.93      0.93       367\n",
      "   macro avg       0.73      0.89      0.78       367\n",
      "weighted avg       0.95      0.93      0.94       367\n",
      "\n",
      "Predicted    0   1  All\n",
      "Actual                 \n",
      "0          319  23  342\n",
      "1            4  21   25\n",
      "All        323  44  367\n"
     ]
    }
   ],
   "source": [
    "grid_search_logistic_sampled(x_train_res, X_test, y_train_res, y_test)"
   ]
  },
  {
   "cell_type": "code",
   "execution_count": 73,
   "metadata": {
    "ExecuteTime": {
     "end_time": "2019-05-12T16:29:49.623044Z",
     "start_time": "2019-05-12T16:29:49.618058Z"
    }
   },
   "outputs": [],
   "source": [
    "pkl_filename = \"logreg_model_Q2_sampled.pkl\" \n",
    "with open(pkl_filename, 'rb') as file:  \n",
    "    pickle_model_logreg = pickle.load(file)"
   ]
  },
  {
   "cell_type": "code",
   "execution_count": 76,
   "metadata": {
    "ExecuteTime": {
     "end_time": "2019-05-12T16:29:49.670917Z",
     "start_time": "2019-05-12T16:29:49.654960Z"
    }
   },
   "outputs": [
    {
     "data": {
      "text/html": [
       "<div>\n",
       "<style scoped>\n",
       "    .dataframe tbody tr th:only-of-type {\n",
       "        vertical-align: middle;\n",
       "    }\n",
       "\n",
       "    .dataframe tbody tr th {\n",
       "        vertical-align: top;\n",
       "    }\n",
       "\n",
       "    .dataframe thead th {\n",
       "        text-align: right;\n",
       "    }\n",
       "</style>\n",
       "<table border=\"1\" class=\"dataframe\">\n",
       "  <thead>\n",
       "    <tr style=\"text-align: right;\">\n",
       "      <th></th>\n",
       "      <th>abs_coef</th>\n",
       "      <th>coef</th>\n",
       "      <th>variable</th>\n",
       "    </tr>\n",
       "  </thead>\n",
       "  <tbody>\n",
       "    <tr>\n",
       "      <th>777</th>\n",
       "      <td>2.601619</td>\n",
       "      <td>2.601619</td>\n",
       "      <td>machine learning</td>\n",
       "    </tr>\n",
       "    <tr>\n",
       "      <th>762</th>\n",
       "      <td>2.537267</td>\n",
       "      <td>2.537267</td>\n",
       "      <td>data science</td>\n",
       "    </tr>\n",
       "    <tr>\n",
       "      <th>768</th>\n",
       "      <td>1.297504</td>\n",
       "      <td>1.297504</td>\n",
       "      <td>experience data</td>\n",
       "    </tr>\n",
       "    <tr>\n",
       "      <th>19</th>\n",
       "      <td>1.225335</td>\n",
       "      <td>1.225335</td>\n",
       "      <td>industry_Logistics / Supply Chain</td>\n",
       "    </tr>\n",
       "    <tr>\n",
       "      <th>742</th>\n",
       "      <td>1.203170</td>\n",
       "      <td>1.203170</td>\n",
       "      <td>seniority_fresh</td>\n",
       "    </tr>\n",
       "    <tr>\n",
       "      <th>781</th>\n",
       "      <td>1.154887</td>\n",
       "      <td>1.154887</td>\n",
       "      <td>product development</td>\n",
       "    </tr>\n",
       "    <tr>\n",
       "      <th>793</th>\n",
       "      <td>1.146118</td>\n",
       "      <td>1.146118</td>\n",
       "      <td>work experience</td>\n",
       "    </tr>\n",
       "    <tr>\n",
       "      <th>784</th>\n",
       "      <td>1.050875</td>\n",
       "      <td>1.050875</td>\n",
       "      <td>relevant experience</td>\n",
       "    </tr>\n",
       "    <tr>\n",
       "      <th>761</th>\n",
       "      <td>0.899401</td>\n",
       "      <td>0.899401</td>\n",
       "      <td>data mining</td>\n",
       "    </tr>\n",
       "    <tr>\n",
       "      <th>148</th>\n",
       "      <td>0.889052</td>\n",
       "      <td>0.889052</td>\n",
       "      <td>skill_biotechnology</td>\n",
       "    </tr>\n",
       "    <tr>\n",
       "      <th>783</th>\n",
       "      <td>0.886791</td>\n",
       "      <td>0.886791</td>\n",
       "      <td>related field</td>\n",
       "    </tr>\n",
       "    <tr>\n",
       "      <th>779</th>\n",
       "      <td>0.827530</td>\n",
       "      <td>0.827530</td>\n",
       "      <td>minimum years experience</td>\n",
       "    </tr>\n",
       "    <tr>\n",
       "      <th>763</th>\n",
       "      <td>0.826503</td>\n",
       "      <td>0.826503</td>\n",
       "      <td>deep learning</td>\n",
       "    </tr>\n",
       "    <tr>\n",
       "      <th>551</th>\n",
       "      <td>0.797313</td>\n",
       "      <td>0.797313</td>\n",
       "      <td>skill_spss</td>\n",
       "    </tr>\n",
       "    <tr>\n",
       "      <th>711</th>\n",
       "      <td>0.760772</td>\n",
       "      <td>0.760772</td>\n",
       "      <td>skill_scientific computing</td>\n",
       "    </tr>\n",
       "  </tbody>\n",
       "</table>\n",
       "</div>"
      ],
      "text/plain": [
       "     abs_coef      coef                           variable\n",
       "777  2.601619  2.601619                   machine learning\n",
       "762  2.537267  2.537267                       data science\n",
       "768  1.297504  1.297504                    experience data\n",
       "19   1.225335  1.225335  industry_Logistics / Supply Chain\n",
       "742  1.203170  1.203170                    seniority_fresh\n",
       "781  1.154887  1.154887                product development\n",
       "793  1.146118  1.146118                    work experience\n",
       "784  1.050875  1.050875                relevant experience\n",
       "761  0.899401  0.899401                        data mining\n",
       "148  0.889052  0.889052                skill_biotechnology\n",
       "783  0.886791  0.886791                      related field\n",
       "779  0.827530  0.827530           minimum years experience\n",
       "763  0.826503  0.826503                      deep learning\n",
       "551  0.797313  0.797313                         skill_spss\n",
       "711  0.760772  0.760772         skill_scientific computing"
      ]
     },
     "execution_count": 76,
     "metadata": {},
     "output_type": "execute_result"
    }
   ],
   "source": [
    "coefs = pd.DataFrame({'variable':X_train.columns,\n",
    "                            'coef':pickle_model_logreg.best_estimator_.coef_[0],\n",
    "                            'abs_coef':np.abs(pickle_model_logreg.best_estimator_.coef_[0])})\n",
    "coefs.sort_values(by = 'coef', ascending = False).head(15)"
   ]
  },
  {
   "cell_type": "markdown",
   "metadata": {},
   "source": [
    "# Conclusion\n",
    "\n",
    "First logistic regression with original dataset performs slightly better.\n",
    "\n",
    "Original dataset f1_score : 0.64\n",
    "\n",
    "After up sample f1_score : 0.61"
   ]
  },
  {
   "cell_type": "code",
   "execution_count": null,
   "metadata": {},
   "outputs": [],
   "source": []
  }
 ],
 "metadata": {
  "kernelspec": {
   "display_name": "Python 3",
   "language": "python",
   "name": "python3"
  },
  "language_info": {
   "codemirror_mode": {
    "name": "ipython",
    "version": 3
   },
   "file_extension": ".py",
   "mimetype": "text/x-python",
   "name": "python",
   "nbconvert_exporter": "python",
   "pygments_lexer": "ipython3",
   "version": "3.6.4"
  }
 },
 "nbformat": 4,
 "nbformat_minor": 2
}
