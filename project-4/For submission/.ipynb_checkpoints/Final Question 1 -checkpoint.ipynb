{
 "cells": [
  {
   "cell_type": "code",
   "execution_count": 73,
   "metadata": {
    "ExecuteTime": {
     "end_time": "2019-05-12T16:17:51.639697Z",
     "start_time": "2019-05-12T16:17:51.625734Z"
    }
   },
   "outputs": [],
   "source": [
    "from sklearn.feature_extraction.text import CountVectorizer\n",
    "from sklearn.model_selection import train_test_split,cross_val_score,GridSearchCV\n",
    "from sklearn import metrics\n",
    "from sklearn.metrics import accuracy_score , precision_score , recall_score , f1_score , roc_auc_score , \\\n",
    "confusion_matrix,classification_report\n",
    "from sklearn.linear_model import LogisticRegression\n",
    "from sklearn.feature_extraction import text \n",
    "from sklearn.ensemble import RandomForestClassifier\n",
    "from sklearn.naive_bayes import MultinomialNB\n",
    "from sklearn.preprocessing import StandardScaler\n",
    "from collections import Counter\n",
    "import seaborn as sns\n",
    "import matplotlib.pyplot as plt\n",
    "import numpy as np\n",
    "import pandas as pd\n",
    "import math\n",
    "import re\n",
    "import pickle"
   ]
  },
  {
   "cell_type": "markdown",
   "metadata": {},
   "source": [
    "# 1. Loading and check data."
   ]
  },
  {
   "cell_type": "code",
   "execution_count": 74,
   "metadata": {
    "ExecuteTime": {
     "end_time": "2019-05-12T16:17:51.736467Z",
     "start_time": "2019-05-12T16:17:51.641691Z"
    }
   },
   "outputs": [],
   "source": [
    "#import data. \n",
    "csv_file = \"latest_scraped_jobs.csv\"\n",
    "df = pd.read_csv(csv_file)"
   ]
  },
  {
   "cell_type": "code",
   "execution_count": 75,
   "metadata": {
    "ExecuteTime": {
     "end_time": "2019-05-12T16:17:51.747436Z",
     "start_time": "2019-05-12T16:17:51.738432Z"
    }
   },
   "outputs": [
    {
     "name": "stdout",
     "output_type": "stream",
     "text": [
      "<class 'pandas.core.frame.DataFrame'>\n",
      "RangeIndex: 2016 entries, 0 to 2015\n",
      "Data columns (total 11 columns):\n",
      "URL                 2016 non-null object\n",
      "company             2016 non-null object\n",
      "emp_type            2016 non-null object\n",
      "industry            2016 non-null object\n",
      "job_requirements    2016 non-null object\n",
      "job_title           2016 non-null object\n",
      "sal_lower           2016 non-null object\n",
      "sal_type            2016 non-null object\n",
      "sal_upper           2016 non-null object\n",
      "seniority           2016 non-null object\n",
      "skills              2016 non-null object\n",
      "dtypes: object(11)\n",
      "memory usage: 173.3+ KB\n"
     ]
    }
   ],
   "source": [
    "df.info()"
   ]
  },
  {
   "cell_type": "code",
   "execution_count": 76,
   "metadata": {
    "ExecuteTime": {
     "end_time": "2019-05-12T16:17:51.757383Z",
     "start_time": "2019-05-12T16:17:51.749405Z"
    }
   },
   "outputs": [
    {
     "data": {
      "text/plain": [
       "URL                 0\n",
       "company             0\n",
       "emp_type            0\n",
       "industry            0\n",
       "job_requirements    0\n",
       "job_title           0\n",
       "sal_lower           0\n",
       "sal_type            0\n",
       "sal_upper           0\n",
       "seniority           0\n",
       "skills              0\n",
       "dtype: int64"
      ]
     },
     "execution_count": 76,
     "metadata": {},
     "output_type": "execute_result"
    }
   ],
   "source": [
    "#check for null values\n",
    "df.isna().sum()"
   ]
  },
  {
   "cell_type": "code",
   "execution_count": 77,
   "metadata": {
    "ExecuteTime": {
     "end_time": "2019-05-12T16:17:51.777337Z",
     "start_time": "2019-05-12T16:17:51.759378Z"
    }
   },
   "outputs": [
    {
     "data": {
      "text/html": [
       "<div>\n",
       "<style scoped>\n",
       "    .dataframe tbody tr th:only-of-type {\n",
       "        vertical-align: middle;\n",
       "    }\n",
       "\n",
       "    .dataframe tbody tr th {\n",
       "        vertical-align: top;\n",
       "    }\n",
       "\n",
       "    .dataframe thead th {\n",
       "        text-align: right;\n",
       "    }\n",
       "</style>\n",
       "<table border=\"1\" class=\"dataframe\">\n",
       "  <thead>\n",
       "    <tr style=\"text-align: right;\">\n",
       "      <th></th>\n",
       "      <th>URL</th>\n",
       "      <th>company</th>\n",
       "      <th>emp_type</th>\n",
       "      <th>industry</th>\n",
       "      <th>job_requirements</th>\n",
       "      <th>job_title</th>\n",
       "      <th>sal_lower</th>\n",
       "      <th>sal_type</th>\n",
       "      <th>sal_upper</th>\n",
       "      <th>seniority</th>\n",
       "      <th>skills</th>\n",
       "    </tr>\n",
       "  </thead>\n",
       "  <tbody>\n",
       "    <tr>\n",
       "      <th>0</th>\n",
       "      <td>https://www.mycareersfuture.sg/job/data-operat...</td>\n",
       "      <td>['REED BUSINESS INFORMATION PTE. LTD.']</td>\n",
       "      <td>['Permanent, Full Time']</td>\n",
       "      <td>['Information Technology, Others']</td>\n",
       "      <td>['Roles &amp; Responsibilities', \"ICIS is a divisi...</td>\n",
       "      <td>['Data Operations Analyst']</td>\n",
       "      <td>['$4,000']</td>\n",
       "      <td>['Monthly']</td>\n",
       "      <td>['$6,000']</td>\n",
       "      <td>['Executive, Junior Executive, Senior Executive']</td>\n",
       "      <td>['Access', 'Analysis', 'Analytics', 'Business ...</td>\n",
       "    </tr>\n",
       "    <tr>\n",
       "      <th>1</th>\n",
       "      <td>https://www.mycareersfuture.sg/job/data-analys...</td>\n",
       "      <td>['BLACKBOX RESEARCH PTE LTD']</td>\n",
       "      <td>['Full Time']</td>\n",
       "      <td>['Others']</td>\n",
       "      <td>['Roles &amp; Responsibilities', 'As a Data Analys...</td>\n",
       "      <td>['Data Analyst (Data Science)']</td>\n",
       "      <td>['$2,800']</td>\n",
       "      <td>['Monthly']</td>\n",
       "      <td>['$3,600']</td>\n",
       "      <td>['Executive']</td>\n",
       "      <td>['Analysis', 'Business Analysis', 'Clinical Da...</td>\n",
       "    </tr>\n",
       "    <tr>\n",
       "      <th>2</th>\n",
       "      <td>https://www.mycareersfuture.sg/job/data-analys...</td>\n",
       "      <td>['SCIENTE INTERNATIONAL PTE. LTD.']</td>\n",
       "      <td>['Permanent']</td>\n",
       "      <td>['Information Technology']</td>\n",
       "      <td>['Roles &amp; Responsibilities', 'An exciting oppo...</td>\n",
       "      <td>['Data Analyst (HR) (JD#5114)']</td>\n",
       "      <td>['$7,000']</td>\n",
       "      <td>['Monthly']</td>\n",
       "      <td>['$12,000']</td>\n",
       "      <td>['Middle Management']</td>\n",
       "      <td>['Access', 'Analysis', 'Analytics', 'Business ...</td>\n",
       "    </tr>\n",
       "    <tr>\n",
       "      <th>3</th>\n",
       "      <td>https://www.mycareersfuture.sg/job/risk-financ...</td>\n",
       "      <td>['CARGILL TSF ASIA PTE. LTD.']</td>\n",
       "      <td>['Full Time']</td>\n",
       "      <td>['Banking and Finance']</td>\n",
       "      <td>['Roles &amp; Responsibilities', 'Position Purpose...</td>\n",
       "      <td>['Risk and Financial Data Analyst']</td>\n",
       "      <td>['$5,500']</td>\n",
       "      <td>['Monthly']</td>\n",
       "      <td>['$8,250']</td>\n",
       "      <td>['Professional']</td>\n",
       "      <td>['Analysis', 'Banking', 'Credit Risk', 'Data A...</td>\n",
       "    </tr>\n",
       "    <tr>\n",
       "      <th>4</th>\n",
       "      <td>https://www.mycareersfuture.sg/job/senior-data...</td>\n",
       "      <td>['JONES LANG LASALLE PROPERTY CONSULTANTS PTE ...</td>\n",
       "      <td>['Full Time']</td>\n",
       "      <td>['Real Estate / Property Management']</td>\n",
       "      <td>['Roles &amp; Responsibilities', 'Duties &amp; respons...</td>\n",
       "      <td>['Senior Data Analyst']</td>\n",
       "      <td>['$5,000']</td>\n",
       "      <td>['Monthly']</td>\n",
       "      <td>['$7,000']</td>\n",
       "      <td>['Senior Executive']</td>\n",
       "      <td>['Access', 'Analysis', 'Analytics', 'Business ...</td>\n",
       "    </tr>\n",
       "  </tbody>\n",
       "</table>\n",
       "</div>"
      ],
      "text/plain": [
       "                                                 URL  \\\n",
       "0  https://www.mycareersfuture.sg/job/data-operat...   \n",
       "1  https://www.mycareersfuture.sg/job/data-analys...   \n",
       "2  https://www.mycareersfuture.sg/job/data-analys...   \n",
       "3  https://www.mycareersfuture.sg/job/risk-financ...   \n",
       "4  https://www.mycareersfuture.sg/job/senior-data...   \n",
       "\n",
       "                                             company  \\\n",
       "0            ['REED BUSINESS INFORMATION PTE. LTD.']   \n",
       "1                      ['BLACKBOX RESEARCH PTE LTD']   \n",
       "2                ['SCIENTE INTERNATIONAL PTE. LTD.']   \n",
       "3                     ['CARGILL TSF ASIA PTE. LTD.']   \n",
       "4  ['JONES LANG LASALLE PROPERTY CONSULTANTS PTE ...   \n",
       "\n",
       "                   emp_type                               industry  \\\n",
       "0  ['Permanent, Full Time']     ['Information Technology, Others']   \n",
       "1             ['Full Time']                             ['Others']   \n",
       "2             ['Permanent']             ['Information Technology']   \n",
       "3             ['Full Time']                ['Banking and Finance']   \n",
       "4             ['Full Time']  ['Real Estate / Property Management']   \n",
       "\n",
       "                                    job_requirements  \\\n",
       "0  ['Roles & Responsibilities', \"ICIS is a divisi...   \n",
       "1  ['Roles & Responsibilities', 'As a Data Analys...   \n",
       "2  ['Roles & Responsibilities', 'An exciting oppo...   \n",
       "3  ['Roles & Responsibilities', 'Position Purpose...   \n",
       "4  ['Roles & Responsibilities', 'Duties & respons...   \n",
       "\n",
       "                             job_title   sal_lower     sal_type    sal_upper  \\\n",
       "0          ['Data Operations Analyst']  ['$4,000']  ['Monthly']   ['$6,000']   \n",
       "1      ['Data Analyst (Data Science)']  ['$2,800']  ['Monthly']   ['$3,600']   \n",
       "2      ['Data Analyst (HR) (JD#5114)']  ['$7,000']  ['Monthly']  ['$12,000']   \n",
       "3  ['Risk and Financial Data Analyst']  ['$5,500']  ['Monthly']   ['$8,250']   \n",
       "4              ['Senior Data Analyst']  ['$5,000']  ['Monthly']   ['$7,000']   \n",
       "\n",
       "                                           seniority  \\\n",
       "0  ['Executive, Junior Executive, Senior Executive']   \n",
       "1                                      ['Executive']   \n",
       "2                              ['Middle Management']   \n",
       "3                                   ['Professional']   \n",
       "4                               ['Senior Executive']   \n",
       "\n",
       "                                              skills  \n",
       "0  ['Access', 'Analysis', 'Analytics', 'Business ...  \n",
       "1  ['Analysis', 'Business Analysis', 'Clinical Da...  \n",
       "2  ['Access', 'Analysis', 'Analytics', 'Business ...  \n",
       "3  ['Analysis', 'Banking', 'Credit Risk', 'Data A...  \n",
       "4  ['Access', 'Analysis', 'Analytics', 'Business ...  "
      ]
     },
     "execution_count": 77,
     "metadata": {},
     "output_type": "execute_result"
    }
   ],
   "source": [
    "df.head()"
   ]
  },
  {
   "cell_type": "markdown",
   "metadata": {},
   "source": [
    "# 2. Remove punctuations from all columns"
   ]
  },
  {
   "cell_type": "code",
   "execution_count": 78,
   "metadata": {
    "ExecuteTime": {
     "end_time": "2019-05-12T16:17:51.786305Z",
     "start_time": "2019-05-12T16:17:51.779325Z"
    }
   },
   "outputs": [],
   "source": [
    "#define function for removing all square brackets and apostrophes.\n",
    "def remove_brackets_apostrophe(raw_html):\n",
    "     return str(raw_html).replace('[','').replace(']','').replace(\"'\", '').replace('\"', '')"
   ]
  },
  {
   "cell_type": "code",
   "execution_count": null,
   "metadata": {},
   "outputs": [],
   "source": []
  },
  {
   "cell_type": "code",
   "execution_count": 79,
   "metadata": {
    "ExecuteTime": {
     "end_time": "2019-05-12T16:17:51.856118Z",
     "start_time": "2019-05-12T16:17:51.788310Z"
    }
   },
   "outputs": [],
   "source": [
    "#apply cleaning function\n",
    "df = df.applymap(lambda x : remove_brackets_apostrophe(x))"
   ]
  },
  {
   "cell_type": "code",
   "execution_count": 80,
   "metadata": {
    "ExecuteTime": {
     "end_time": "2019-05-12T16:17:51.865094Z",
     "start_time": "2019-05-12T16:17:51.857116Z"
    }
   },
   "outputs": [
    {
     "data": {
      "text/plain": [
       "URL                 0\n",
       "company             0\n",
       "emp_type            0\n",
       "industry            0\n",
       "job_requirements    0\n",
       "job_title           0\n",
       "sal_lower           0\n",
       "sal_type            0\n",
       "sal_upper           0\n",
       "seniority           0\n",
       "skills              0\n",
       "dtype: int64"
      ]
     },
     "execution_count": 80,
     "metadata": {},
     "output_type": "execute_result"
    }
   ],
   "source": [
    "df.isnull().sum()"
   ]
  },
  {
   "cell_type": "code",
   "execution_count": null,
   "metadata": {},
   "outputs": [],
   "source": []
  },
  {
   "cell_type": "markdown",
   "metadata": {},
   "source": [
    "# 3. Explore skills column\n",
    "\n",
    "- To filter out irrelevant skills\n",
    "\n",
    "- To filter out potentially irrelevant job postings"
   ]
  },
  {
   "cell_type": "markdown",
   "metadata": {},
   "source": [
    "Explore 'skills column' to find skills that are relevant to our question."
   ]
  },
  {
   "cell_type": "code",
   "execution_count": 81,
   "metadata": {
    "ExecuteTime": {
     "end_time": "2019-05-12T16:17:51.886037Z",
     "start_time": "2019-05-12T16:17:51.867090Z"
    },
    "code_folding": [
     0
    ]
   },
   "outputs": [],
   "source": [
    "#get a list of unique skills.\n",
    "df.skills = df.skills.map(lambda x: x.lower())\n",
    "new_list = [j for i in df.skills for j in i.split(\",\")]\n",
    "strip_list = [i.strip() for i in new_list]\n",
    "unique_skills = set(strip_list)"
   ]
  },
  {
   "cell_type": "code",
   "execution_count": 82,
   "metadata": {
    "ExecuteTime": {
     "end_time": "2019-05-12T16:17:51.898006Z",
     "start_time": "2019-05-12T16:17:51.888033Z"
    }
   },
   "outputs": [
    {
     "data": {
      "text/plain": [
       "{'analysis',\n",
       " 'analytics',\n",
       " 'artificial intelligence',\n",
       " 'big data',\n",
       " 'biostatistics',\n",
       " 'business analysis',\n",
       " 'business analytics',\n",
       " 'business intelligence',\n",
       " 'clinical data management',\n",
       " 'competitive analysis',\n",
       " 'competitive intelligence',\n",
       " 'credit analysis',\n",
       " 'data analysis',\n",
       " 'data architecture',\n",
       " 'data center',\n",
       " 'data entry',\n",
       " 'data governance',\n",
       " 'data integration',\n",
       " 'data management',\n",
       " 'data migration',\n",
       " 'data mining',\n",
       " 'data modeling',\n",
       " 'data warehouse architecture',\n",
       " 'data warehousing',\n",
       " 'database administration',\n",
       " 'database design',\n",
       " 'databases',\n",
       " 'dispute resolution',\n",
       " 'financial analysis',\n",
       " 'finite element analysis',\n",
       " 'google analytics',\n",
       " 'image processing',\n",
       " 'machine learning',\n",
       " 'malware analysis',\n",
       " 'market analysis',\n",
       " 'master data management',\n",
       " 'mining',\n",
       " 'numerical analysis',\n",
       " 'pattern recognition',\n",
       " 'policy analysis',\n",
       " 'predictive analytics',\n",
       " 'predictive modeling',\n",
       " 'pricing analysis',\n",
       " 'quantitative analytics',\n",
       " 'requirements analysis',\n",
       " 'revenue analysis',\n",
       " 'root cause analysis',\n",
       " 'solution architecture',\n",
       " 'solution selling',\n",
       " 'statistical modeling',\n",
       " 'statistics',\n",
       " 'structural analysis',\n",
       " 'systems analysis',\n",
       " 'time series analysis',\n",
       " 'trend analysis',\n",
       " 'variance analysis',\n",
       " 'web analytics'}"
      ]
     },
     "execution_count": 82,
     "metadata": {},
     "output_type": "execute_result"
    }
   ],
   "source": [
    "#filter out the skills using keywords related to data science.\n",
    "skills_list = []\n",
    "for i in unique_skills:\n",
    "    if \"analytic\" in i or \"analysis\" in i or \"machine\" in i or \"data\" in i\\\n",
    "    or \"intelligence\" in i or \"statistic\" in i or \"solution\" in i\\\n",
    "    or \"image processing\" in i or \"mining\" in i or \"recognition\" in i or \"predictive\" in i:\n",
    "        skills_list.append(i)\n",
    "related_skills = set(skills_list)\n",
    "\n",
    "#visually inspect the shortlisted related skills\n",
    "related_skills"
   ]
  },
  {
   "cell_type": "code",
   "execution_count": 83,
   "metadata": {
    "ExecuteTime": {
     "end_time": "2019-05-12T16:17:51.907978Z",
     "start_time": "2019-05-12T16:17:51.899003Z"
    }
   },
   "outputs": [],
   "source": [
    "#remove skills that does not seem relevant\n",
    "related_skills.remove('data entry')\n",
    "related_skills.remove('dispute resolution')"
   ]
  },
  {
   "cell_type": "markdown",
   "metadata": {},
   "source": [
    "Remove all jobs that doesn't have any of the related skills.\n",
    "\n",
    "To filter out all jobs that are potentially not relevant to our question."
   ]
  },
  {
   "cell_type": "code",
   "execution_count": 84,
   "metadata": {
    "ExecuteTime": {
     "end_time": "2019-05-12T16:17:51.960838Z",
     "start_time": "2019-05-12T16:17:51.908976Z"
    }
   },
   "outputs": [
    {
     "name": "stdout",
     "output_type": "stream",
     "text": [
      "<class 'pandas.core.frame.DataFrame'>\n",
      "RangeIndex: 1223 entries, 0 to 1222\n",
      "Data columns (total 11 columns):\n",
      "URL                 1223 non-null object\n",
      "company             1223 non-null object\n",
      "emp_type            1223 non-null object\n",
      "industry            1223 non-null object\n",
      "job_requirements    1223 non-null object\n",
      "job_title           1223 non-null object\n",
      "sal_lower           1223 non-null object\n",
      "sal_type            1223 non-null object\n",
      "sal_upper           1223 non-null object\n",
      "seniority           1223 non-null object\n",
      "skills              1223 non-null object\n",
      "dtypes: object(11)\n",
      "memory usage: 105.2+ KB\n"
     ]
    }
   ],
   "source": [
    "#get index of all related job entries \n",
    "related_job=[]\n",
    "for skill in related_skills:    \n",
    "    for index, jobs in enumerate (df.skills):\n",
    "        if skill in jobs:\n",
    "            related_job.append(index)\n",
    "\n",
    "#get unique entries only            \n",
    "len(set(related_job))\n",
    "\n",
    "#create new df with related jobs only \n",
    "df_related_jobs = df[df.index.isin(related_job)].copy(deep = True)\n",
    "df_related_jobs.reset_index(inplace=True , drop = True)\n",
    "df_related_jobs.info()"
   ]
  },
  {
   "cell_type": "markdown",
   "metadata": {},
   "source": [
    "After removing jobs that are potentially not related.\n",
    "\n",
    "There are 1223 jobs."
   ]
  },
  {
   "cell_type": "markdown",
   "metadata": {},
   "source": [
    "# 4. Inspect job employment type and job seniority type.\n",
    "\n",
    "- Find unique list of job titles / job employment type\n",
    "- Rank the job titles / job employment type\n",
    "- Go to lowest denominator if multiple job seniority is present. (similarly for job employment type)"
   ]
  },
  {
   "cell_type": "markdown",
   "metadata": {},
   "source": [
    "Job Employment Type"
   ]
  },
  {
   "cell_type": "code",
   "execution_count": 85,
   "metadata": {
    "ExecuteTime": {
     "end_time": "2019-05-12T16:17:51.970812Z",
     "start_time": "2019-05-12T16:17:51.962833Z"
    }
   },
   "outputs": [
    {
     "data": {
      "text/plain": [
       "{'Contract',\n",
       " 'Flexi work',\n",
       " 'Freelance',\n",
       " 'Full Time',\n",
       " 'Internship',\n",
       " 'Part Time',\n",
       " 'Permanent',\n",
       " 'Temporary'}"
      ]
     },
     "execution_count": 85,
     "metadata": {},
     "output_type": "execute_result"
    }
   ],
   "source": [
    "emp_type_list = [j for i in df_related_jobs.emp_type for j in i.split(\",\")]\n",
    "emp_type_list = [i.strip() for i in emp_type_list]\n",
    "set(emp_type_list)"
   ]
  },
  {
   "cell_type": "markdown",
   "metadata": {},
   "source": [
    "Assume the ranks of employment type using general knowledge and information from careersfuture.\n",
    "\n",
    "From lowest to highest\n",
    "\n",
    "1:Temporary\n",
    "\n",
    "2:Internship\n",
    "\n",
    "3:Flexi work\n",
    "\n",
    "4:Freelance\n",
    "\n",
    "5:Part Time\n",
    "\n",
    "6:Contract\n",
    "\n",
    "7:Full time\n",
    "\n",
    "8:Permanent"
   ]
  },
  {
   "cell_type": "code",
   "execution_count": 86,
   "metadata": {
    "ExecuteTime": {
     "end_time": "2019-05-12T16:17:51.979787Z",
     "start_time": "2019-05-12T16:17:51.972806Z"
    }
   },
   "outputs": [],
   "source": [
    "emp_type_dict = {'Temporary':\"Temporary\",'Internship':'Internship','Flexi work':'Flexiwork','Freelance':\"Freelance\",\n",
    "                  'Part Time':'Parttime','Contract':'Contract','Full time':'Fulltime','Permanent':'Permanent'}"
   ]
  },
  {
   "cell_type": "code",
   "execution_count": 87,
   "metadata": {
    "ExecuteTime": {
     "end_time": "2019-05-12T16:17:52.149366Z",
     "start_time": "2019-05-12T16:17:51.981783Z"
    }
   },
   "outputs": [],
   "source": [
    "for index,emp_type in enumerate(df_related_jobs.emp_type):\n",
    "    for item in emp_type_dict:\n",
    "        if item in emp_type:\n",
    "            df_related_jobs['emp_type'].iloc[index] = emp_type_dict[item]"
   ]
  },
  {
   "cell_type": "code",
   "execution_count": 88,
   "metadata": {
    "ExecuteTime": {
     "end_time": "2019-05-12T16:17:52.158309Z",
     "start_time": "2019-05-12T16:17:52.151330Z"
    }
   },
   "outputs": [
    {
     "data": {
      "text/plain": [
       "Permanent     510\n",
       "Full Time     432\n",
       "Contract      272\n",
       "Temporary       4\n",
       "Internship      3\n",
       "Parttime        2\n",
       "Name: emp_type, dtype: int64"
      ]
     },
     "execution_count": 88,
     "metadata": {},
     "output_type": "execute_result"
    }
   ],
   "source": [
    "df_related_jobs.emp_type.value_counts()"
   ]
  },
  {
   "cell_type": "code",
   "execution_count": null,
   "metadata": {},
   "outputs": [],
   "source": []
  },
  {
   "cell_type": "markdown",
   "metadata": {},
   "source": [
    "Next we will clean the Job Seniority column."
   ]
  },
  {
   "cell_type": "code",
   "execution_count": 89,
   "metadata": {
    "ExecuteTime": {
     "end_time": "2019-05-12T16:17:52.171275Z",
     "start_time": "2019-05-12T16:17:52.160306Z"
    }
   },
   "outputs": [
    {
     "data": {
      "text/plain": [
       "{'Executive',\n",
       " 'Fresh/entry level',\n",
       " 'Junior Executive',\n",
       " 'Manager',\n",
       " 'Middle Management',\n",
       " 'Non-executive',\n",
       " 'Professional',\n",
       " 'Senior Executive',\n",
       " 'Senior Management'}"
      ]
     },
     "execution_count": 89,
     "metadata": {},
     "output_type": "execute_result"
    }
   ],
   "source": [
    "seniority_list = [j for i in df_related_jobs.seniority for j in i.split(\",\")]\n",
    "seniority_list = [i.strip() for i in seniority_list]\n",
    "set(seniority_list)"
   ]
  },
  {
   "cell_type": "markdown",
   "metadata": {},
   "source": [
    "Rank the 9 main groups accordingly. Follow mycareersfuture.sg\n",
    "\n",
    "Lowest to highest\n",
    "\n",
    "1:Fresh/Entry Level \n",
    "\n",
    "2:Non-executive\n",
    "\n",
    "3:Junior Executive\n",
    "\n",
    "4:Executive\n",
    "\n",
    "5:Senior Executive\n",
    "\n",
    "6:Professional\n",
    "\n",
    "7:Manager\n",
    "\n",
    "8:Middle Management\n",
    "\n",
    "9:Senior Management"
   ]
  },
  {
   "cell_type": "code",
   "execution_count": 90,
   "metadata": {
    "ExecuteTime": {
     "end_time": "2019-05-12T16:17:52.180286Z",
     "start_time": "2019-05-12T16:17:52.173272Z"
    }
   },
   "outputs": [],
   "source": [
    "seniority_dict = {'Fresh/entry level':\"fresh\",'Non-executive':'nonexec','Junior Executive':'jexec',\n",
    "                  'Executive':'exec','Senior Executive':'srexec','Professional':'professional',\n",
    "                 'Manager':'manager','Middle Management':'midman','Senior Management':'srman'}"
   ]
  },
  {
   "cell_type": "code",
   "execution_count": 91,
   "metadata": {
    "ExecuteTime": {
     "end_time": "2019-05-12T16:17:52.483442Z",
     "start_time": "2019-05-12T16:17:52.182277Z"
    }
   },
   "outputs": [],
   "source": [
    "for index,seniority in enumerate(df_related_jobs.seniority):\n",
    "    for rank in seniority_dict:\n",
    "        if rank in seniority:\n",
    "            df_related_jobs['seniority'].iloc[index] = seniority_dict[rank]"
   ]
  },
  {
   "cell_type": "code",
   "execution_count": 92,
   "metadata": {
    "ExecuteTime": {
     "end_time": "2019-05-12T16:17:52.492417Z",
     "start_time": "2019-05-12T16:17:52.485436Z"
    }
   },
   "outputs": [
    {
     "data": {
      "text/plain": [
       "professional    371\n",
       "exec            314\n",
       "srexec          150\n",
       "manager         140\n",
       "midman           96\n",
       "nonexec          71\n",
       "srman            43\n",
       "fresh            38\n",
       "Name: seniority, dtype: int64"
      ]
     },
     "execution_count": 92,
     "metadata": {},
     "output_type": "execute_result"
    }
   ],
   "source": [
    "df_related_jobs.seniority.value_counts()"
   ]
  },
  {
   "cell_type": "markdown",
   "metadata": {},
   "source": [
    "# 5. Inspect industry column"
   ]
  },
  {
   "cell_type": "code",
   "execution_count": 93,
   "metadata": {
    "ExecuteTime": {
     "end_time": "2019-05-12T16:17:52.501395Z",
     "start_time": "2019-05-12T16:17:52.494412Z"
    }
   },
   "outputs": [],
   "source": [
    "industry_list = []\n",
    "\n",
    "for i in df_related_jobs.industry:\n",
    "    each_industry = i.split(\",\")\n",
    "    for sub_industry in each_industry:\n",
    "        industry_list.append(sub_industry.strip())\n",
    "                \n",
    "unique_industry_list = set(industry_list)"
   ]
  },
  {
   "cell_type": "code",
   "execution_count": 94,
   "metadata": {
    "ExecuteTime": {
     "end_time": "2019-05-12T16:17:52.517351Z",
     "start_time": "2019-05-12T16:17:52.503389Z"
    }
   },
   "outputs": [
    {
     "data": {
      "text/plain": [
       "{'Accounting / Auditing / Taxation',\n",
       " 'Admin / Secretarial',\n",
       " 'Advertising / Media',\n",
       " 'Architecture / Interior Design',\n",
       " 'Banking and Finance',\n",
       " 'Building and Construction',\n",
       " 'Consulting',\n",
       " 'Customer Service',\n",
       " 'Design',\n",
       " 'Education and Training',\n",
       " 'Engineering',\n",
       " 'Environment / Health',\n",
       " 'Events / Promotions',\n",
       " 'F&B',\n",
       " 'General Management',\n",
       " 'General Work',\n",
       " 'Healthcare / Pharmaceutical',\n",
       " 'Hospitality',\n",
       " 'Human Resources',\n",
       " 'Information Technology',\n",
       " 'Insurance',\n",
       " 'Legal',\n",
       " 'Logistics / Supply Chain',\n",
       " 'Manufacturing',\n",
       " 'Marketing / Public Relations',\n",
       " 'Medical / Therapy Services',\n",
       " 'Others',\n",
       " 'Professional Services',\n",
       " 'Public / Civil Service',\n",
       " 'Purchasing / Merchandising',\n",
       " 'Real Estate / Property Management',\n",
       " 'Risk Management',\n",
       " 'Sales / Retail',\n",
       " 'Sciences / Laboratory / R&D',\n",
       " 'Social Services',\n",
       " 'Telecommunications',\n",
       " 'Travel / Tourism'}"
      ]
     },
     "execution_count": 94,
     "metadata": {},
     "output_type": "execute_result"
    }
   ],
   "source": [
    "unique_industry_list"
   ]
  },
  {
   "cell_type": "code",
   "execution_count": 95,
   "metadata": {
    "ExecuteTime": {
     "end_time": "2019-05-12T16:17:52.555249Z",
     "start_time": "2019-05-12T16:17:52.519346Z"
    }
   },
   "outputs": [],
   "source": [
    "#dummified industry to keep all the information. \n",
    "for i in unique_industry_list:\n",
    "    series_name = 'industry_'+i\n",
    "    df_related_jobs[series_name] = [1 if i in row else 0 for row in df_related_jobs.industry]"
   ]
  },
  {
   "cell_type": "code",
   "execution_count": 96,
   "metadata": {
    "ExecuteTime": {
     "end_time": "2019-05-12T16:17:52.575200Z",
     "start_time": "2019-05-12T16:17:52.560237Z"
    }
   },
   "outputs": [
    {
     "name": "stdout",
     "output_type": "stream",
     "text": [
      "<class 'pandas.core.frame.DataFrame'>\n",
      "RangeIndex: 1223 entries, 0 to 1222\n",
      "Data columns (total 48 columns):\n",
      "URL                                           1223 non-null object\n",
      "company                                       1223 non-null object\n",
      "emp_type                                      1223 non-null object\n",
      "industry                                      1223 non-null object\n",
      "job_requirements                              1223 non-null object\n",
      "job_title                                     1223 non-null object\n",
      "sal_lower                                     1223 non-null object\n",
      "sal_type                                      1223 non-null object\n",
      "sal_upper                                     1223 non-null object\n",
      "seniority                                     1223 non-null object\n",
      "skills                                        1223 non-null object\n",
      "industry_Manufacturing                        1223 non-null int64\n",
      "industry_Healthcare / Pharmaceutical          1223 non-null int64\n",
      "industry_Insurance                            1223 non-null int64\n",
      "industry_Information Technology               1223 non-null int64\n",
      "industry_Hospitality                          1223 non-null int64\n",
      "industry_Engineering                          1223 non-null int64\n",
      "industry_Risk Management                      1223 non-null int64\n",
      "industry_Accounting / Auditing / Taxation     1223 non-null int64\n",
      "industry_Customer Service                     1223 non-null int64\n",
      "industry_Consulting                           1223 non-null int64\n",
      "industry_Logistics / Supply Chain             1223 non-null int64\n",
      "industry_Banking and Finance                  1223 non-null int64\n",
      "industry_Public / Civil Service               1223 non-null int64\n",
      "industry_F&B                                  1223 non-null int64\n",
      "industry_Professional Services                1223 non-null int64\n",
      "industry_Events / Promotions                  1223 non-null int64\n",
      "industry_Social Services                      1223 non-null int64\n",
      "industry_Advertising / Media                  1223 non-null int64\n",
      "industry_Others                               1223 non-null int64\n",
      "industry_General Work                         1223 non-null int64\n",
      "industry_Travel / Tourism                     1223 non-null int64\n",
      "industry_Human Resources                      1223 non-null int64\n",
      "industry_Admin / Secretarial                  1223 non-null int64\n",
      "industry_Telecommunications                   1223 non-null int64\n",
      "industry_Marketing / Public Relations         1223 non-null int64\n",
      "industry_Education and Training               1223 non-null int64\n",
      "industry_Building and Construction            1223 non-null int64\n",
      "industry_Architecture / Interior Design       1223 non-null int64\n",
      "industry_Medical / Therapy Services           1223 non-null int64\n",
      "industry_Sales / Retail                       1223 non-null int64\n",
      "industry_Design                               1223 non-null int64\n",
      "industry_General Management                   1223 non-null int64\n",
      "industry_Real Estate / Property Management    1223 non-null int64\n",
      "industry_Environment / Health                 1223 non-null int64\n",
      "industry_Sciences / Laboratory / R&D          1223 non-null int64\n",
      "industry_Purchasing / Merchandising           1223 non-null int64\n",
      "industry_Legal                                1223 non-null int64\n",
      "dtypes: int64(37), object(11)\n",
      "memory usage: 458.7+ KB\n"
     ]
    }
   ],
   "source": [
    "df_related_jobs.info()"
   ]
  },
  {
   "cell_type": "code",
   "execution_count": 97,
   "metadata": {
    "ExecuteTime": {
     "end_time": "2019-05-12T16:17:52.584171Z",
     "start_time": "2019-05-12T16:17:52.577191Z"
    }
   },
   "outputs": [
    {
     "data": {
      "text/plain": [
       "industry_General Work                           1\n",
       "industry_Medical / Therapy Services             1\n",
       "industry_Architecture / Interior Design         1\n",
       "industry_Travel / Tourism                       1\n",
       "industry_Social Services                        1\n",
       "industry_Events / Promotions                    1\n",
       "industry_F&B                                    1\n",
       "industry_Legal                                  1\n",
       "industry_Hospitality                            3\n",
       "industry_Environment / Health                   4\n",
       "industry_Purchasing / Merchandising             4\n",
       "industry_Real Estate / Property Management      5\n",
       "industry_Risk Management                        5\n",
       "industry_Building and Construction              6\n",
       "industry_Design                                 7\n",
       "industry_General Management                    10\n",
       "industry_Telecommunications                    11\n",
       "industry_Human Resources                       11\n",
       "industry_Admin / Secretarial                   14\n",
       "industry_Customer Service                      16\n",
       "industry_Insurance                             17\n",
       "industry_Education and Training                21\n",
       "industry_Professional Services                 23\n",
       "industry_Advertising / Media                   27\n",
       "industry_Sales / Retail                        32\n",
       "industry_Logistics / Supply Chain              34\n",
       "industry_Public / Civil Service                35\n",
       "industry_Marketing / Public Relations          38\n",
       "industry_Accounting / Auditing / Taxation      48\n",
       "industry_Others                                71\n",
       "industry_Consulting                            77\n",
       "industry_Engineering                          111\n",
       "industry_Sciences / Laboratory / R&D          123\n",
       "industry_Banking and Finance                  132\n",
       "industry_Information Technology               623\n",
       "dtype: int64"
      ]
     },
     "execution_count": 97,
     "metadata": {},
     "output_type": "execute_result"
    }
   ],
   "source": [
    "df_related_jobs.loc[:, \"industry_Insurance\":].sum().sort_values()"
   ]
  },
  {
   "cell_type": "markdown",
   "metadata": {},
   "source": [
    "# 6. Inspect Skills Column"
   ]
  },
  {
   "cell_type": "code",
   "execution_count": 98,
   "metadata": {
    "ExecuteTime": {
     "end_time": "2019-05-12T16:17:52.606113Z",
     "start_time": "2019-05-12T16:17:52.586168Z"
    }
   },
   "outputs": [
    {
     "data": {
      "text/plain": [
       "697"
      ]
     },
     "execution_count": 98,
     "metadata": {},
     "output_type": "execute_result"
    }
   ],
   "source": [
    "skill_list = []\n",
    "\n",
    "for i in df_related_jobs.skills:\n",
    "    split_skills = i.split(\",\")\n",
    "    for skill in split_skills:\n",
    "        skill_list.append(skill.strip())\n",
    "                \n",
    "unique_skill_list = set(skill_list)\n",
    "len(unique_skill_list)"
   ]
  },
  {
   "cell_type": "code",
   "execution_count": 99,
   "metadata": {
    "ExecuteTime": {
     "end_time": "2019-05-12T16:17:53.209601Z",
     "start_time": "2019-05-12T16:17:52.608109Z"
    }
   },
   "outputs": [],
   "source": [
    "#dummified industry to keep all the information. \n",
    "for i in unique_skill_list:\n",
    "    series_name = 'skill_'+i\n",
    "    df_related_jobs[series_name] = [1 if i in row else 0 for row in df_related_jobs.skills]"
   ]
  },
  {
   "cell_type": "markdown",
   "metadata": {},
   "source": [
    "# 7. Inspect Company Names"
   ]
  },
  {
   "cell_type": "code",
   "execution_count": 100,
   "metadata": {
    "ExecuteTime": {
     "end_time": "2019-05-12T16:17:53.216515Z",
     "start_time": "2019-05-12T16:17:53.210497Z"
    }
   },
   "outputs": [
    {
     "data": {
      "text/plain": [
       "499"
      ]
     },
     "execution_count": 100,
     "metadata": {},
     "output_type": "execute_result"
    }
   ],
   "source": [
    "df_related_jobs.company.nunique()"
   ]
  },
  {
   "cell_type": "markdown",
   "metadata": {},
   "source": [
    "Decided to drop company name, as i think there is too many unique values."
   ]
  },
  {
   "cell_type": "code",
   "execution_count": 101,
   "metadata": {
    "ExecuteTime": {
     "end_time": "2019-05-12T16:17:53.244407Z",
     "start_time": "2019-05-12T16:17:53.218478Z"
    }
   },
   "outputs": [],
   "source": [
    "df_related_jobs.drop(columns = 'company' , inplace = True)"
   ]
  },
  {
   "cell_type": "markdown",
   "metadata": {},
   "source": [
    "# 6. Inspect Salary Column (Target Column)"
   ]
  },
  {
   "cell_type": "markdown",
   "metadata": {},
   "source": [
    "Before looking at the salary data, I have decided to drop salary upper.\n",
    "\n",
    "Reason : \n",
    "\n",
    "I have decided to go to the lowest denominator for all jobs posting. Consistent with the job employment type and job seniority\n",
    "    "
   ]
  },
  {
   "cell_type": "code",
   "execution_count": 102,
   "metadata": {
    "ExecuteTime": {
     "end_time": "2019-05-12T16:17:53.257380Z",
     "start_time": "2019-05-12T16:17:53.246404Z"
    }
   },
   "outputs": [],
   "source": [
    "df_related_jobs.drop(columns = \"sal_upper\" , inplace = True)"
   ]
  },
  {
   "cell_type": "code",
   "execution_count": 103,
   "metadata": {
    "ExecuteTime": {
     "end_time": "2019-05-12T16:17:53.270339Z",
     "start_time": "2019-05-12T16:17:53.259368Z"
    }
   },
   "outputs": [],
   "source": [
    "#remove '$' and ',' from salary columns\n",
    "df_related_jobs['sal_lower'] = df_related_jobs['sal_lower'].map(lambda x : x.replace(\"$\",\"\").replace(\",\",\"\"))"
   ]
  },
  {
   "cell_type": "code",
   "execution_count": 104,
   "metadata": {
    "ExecuteTime": {
     "end_time": "2019-05-12T16:17:53.280339Z",
     "start_time": "2019-05-12T16:17:53.272333Z"
    }
   },
   "outputs": [],
   "source": [
    "#change sal_lower to correct type : \"float\"\n",
    "df_related_jobs.sal_lower = df_related_jobs.sal_lower.astype(float)"
   ]
  },
  {
   "cell_type": "code",
   "execution_count": 105,
   "metadata": {
    "ExecuteTime": {
     "end_time": "2019-05-12T16:17:53.297274Z",
     "start_time": "2019-05-12T16:17:53.282306Z"
    }
   },
   "outputs": [],
   "source": [
    "#standardise all salary type to only monthly. \n",
    "#Divides annual packages by 13(assuming Annual wage supplement is present)\n",
    "df_related_jobs.loc[df_related_jobs['sal_type'] == \"Annually\" , 'sal_lower']= df_related_jobs.loc[df_related_jobs['sal_type'] == \"Annually\" , 'sal_lower']/13"
   ]
  },
  {
   "cell_type": "code",
   "execution_count": 106,
   "metadata": {
    "ExecuteTime": {
     "end_time": "2019-05-12T16:17:53.314221Z",
     "start_time": "2019-05-12T16:17:53.299261Z"
    }
   },
   "outputs": [],
   "source": [
    "#drop salary type column after standardising\n",
    "df_related_jobs.drop(columns = \"sal_type\" , inplace = True)"
   ]
  },
  {
   "cell_type": "code",
   "execution_count": 107,
   "metadata": {
    "ExecuteTime": {
     "end_time": "2019-05-12T16:17:54.177922Z",
     "start_time": "2019-05-12T16:17:53.316216Z"
    }
   },
   "outputs": [
    {
     "data": {
      "text/html": [
       "<div>\n",
       "<style scoped>\n",
       "    .dataframe tbody tr th:only-of-type {\n",
       "        vertical-align: middle;\n",
       "    }\n",
       "\n",
       "    .dataframe tbody tr th {\n",
       "        vertical-align: top;\n",
       "    }\n",
       "\n",
       "    .dataframe thead th {\n",
       "        text-align: right;\n",
       "    }\n",
       "</style>\n",
       "<table border=\"1\" class=\"dataframe\">\n",
       "  <thead>\n",
       "    <tr style=\"text-align: right;\">\n",
       "      <th></th>\n",
       "      <th>sal_lower</th>\n",
       "      <th>industry_Manufacturing</th>\n",
       "      <th>industry_Healthcare / Pharmaceutical</th>\n",
       "      <th>industry_Insurance</th>\n",
       "      <th>industry_Information Technology</th>\n",
       "      <th>industry_Hospitality</th>\n",
       "      <th>industry_Engineering</th>\n",
       "      <th>industry_Risk Management</th>\n",
       "      <th>industry_Accounting / Auditing / Taxation</th>\n",
       "      <th>industry_Customer Service</th>\n",
       "      <th>...</th>\n",
       "      <th>skill_product launch</th>\n",
       "      <th>skill_system architecture</th>\n",
       "      <th>skill_microsoft excel</th>\n",
       "      <th>skill_sap mm</th>\n",
       "      <th>skill_pricing analysis</th>\n",
       "      <th>skill_teamwork</th>\n",
       "      <th>skill_ids</th>\n",
       "      <th>skill_omniture</th>\n",
       "      <th>skill_financial statements</th>\n",
       "      <th>skill_technical support</th>\n",
       "    </tr>\n",
       "  </thead>\n",
       "  <tbody>\n",
       "    <tr>\n",
       "      <th>count</th>\n",
       "      <td>1223.000000</td>\n",
       "      <td>1223.000000</td>\n",
       "      <td>1223.000000</td>\n",
       "      <td>1223.000000</td>\n",
       "      <td>1223.000000</td>\n",
       "      <td>1223.000000</td>\n",
       "      <td>1223.000000</td>\n",
       "      <td>1223.000000</td>\n",
       "      <td>1223.000000</td>\n",
       "      <td>1223.000000</td>\n",
       "      <td>...</td>\n",
       "      <td>1223.000000</td>\n",
       "      <td>1223.000000</td>\n",
       "      <td>1223.000000</td>\n",
       "      <td>1223.000000</td>\n",
       "      <td>1223.000000</td>\n",
       "      <td>1223.000000</td>\n",
       "      <td>1223.000000</td>\n",
       "      <td>1223.000000</td>\n",
       "      <td>1223.000000</td>\n",
       "      <td>1223.000000</td>\n",
       "    </tr>\n",
       "    <tr>\n",
       "      <th>mean</th>\n",
       "      <td>5310.593371</td>\n",
       "      <td>0.004088</td>\n",
       "      <td>0.008177</td>\n",
       "      <td>0.013900</td>\n",
       "      <td>0.509403</td>\n",
       "      <td>0.002453</td>\n",
       "      <td>0.090760</td>\n",
       "      <td>0.004088</td>\n",
       "      <td>0.039248</td>\n",
       "      <td>0.013083</td>\n",
       "      <td>...</td>\n",
       "      <td>0.000818</td>\n",
       "      <td>0.000818</td>\n",
       "      <td>0.206051</td>\n",
       "      <td>0.014718</td>\n",
       "      <td>0.001635</td>\n",
       "      <td>0.011447</td>\n",
       "      <td>0.004088</td>\n",
       "      <td>0.011447</td>\n",
       "      <td>0.007359</td>\n",
       "      <td>0.014718</td>\n",
       "    </tr>\n",
       "    <tr>\n",
       "      <th>std</th>\n",
       "      <td>2452.058122</td>\n",
       "      <td>0.063835</td>\n",
       "      <td>0.090091</td>\n",
       "      <td>0.117125</td>\n",
       "      <td>0.500116</td>\n",
       "      <td>0.049487</td>\n",
       "      <td>0.287386</td>\n",
       "      <td>0.063835</td>\n",
       "      <td>0.194263</td>\n",
       "      <td>0.113675</td>\n",
       "      <td>...</td>\n",
       "      <td>0.028595</td>\n",
       "      <td>0.028595</td>\n",
       "      <td>0.404633</td>\n",
       "      <td>0.120471</td>\n",
       "      <td>0.040423</td>\n",
       "      <td>0.106421</td>\n",
       "      <td>0.063835</td>\n",
       "      <td>0.106421</td>\n",
       "      <td>0.085503</td>\n",
       "      <td>0.120471</td>\n",
       "    </tr>\n",
       "    <tr>\n",
       "      <th>min</th>\n",
       "      <td>1.000000</td>\n",
       "      <td>0.000000</td>\n",
       "      <td>0.000000</td>\n",
       "      <td>0.000000</td>\n",
       "      <td>0.000000</td>\n",
       "      <td>0.000000</td>\n",
       "      <td>0.000000</td>\n",
       "      <td>0.000000</td>\n",
       "      <td>0.000000</td>\n",
       "      <td>0.000000</td>\n",
       "      <td>...</td>\n",
       "      <td>0.000000</td>\n",
       "      <td>0.000000</td>\n",
       "      <td>0.000000</td>\n",
       "      <td>0.000000</td>\n",
       "      <td>0.000000</td>\n",
       "      <td>0.000000</td>\n",
       "      <td>0.000000</td>\n",
       "      <td>0.000000</td>\n",
       "      <td>0.000000</td>\n",
       "      <td>0.000000</td>\n",
       "    </tr>\n",
       "    <tr>\n",
       "      <th>25%</th>\n",
       "      <td>3500.000000</td>\n",
       "      <td>0.000000</td>\n",
       "      <td>0.000000</td>\n",
       "      <td>0.000000</td>\n",
       "      <td>0.000000</td>\n",
       "      <td>0.000000</td>\n",
       "      <td>0.000000</td>\n",
       "      <td>0.000000</td>\n",
       "      <td>0.000000</td>\n",
       "      <td>0.000000</td>\n",
       "      <td>...</td>\n",
       "      <td>0.000000</td>\n",
       "      <td>0.000000</td>\n",
       "      <td>0.000000</td>\n",
       "      <td>0.000000</td>\n",
       "      <td>0.000000</td>\n",
       "      <td>0.000000</td>\n",
       "      <td>0.000000</td>\n",
       "      <td>0.000000</td>\n",
       "      <td>0.000000</td>\n",
       "      <td>0.000000</td>\n",
       "    </tr>\n",
       "    <tr>\n",
       "      <th>50%</th>\n",
       "      <td>5000.000000</td>\n",
       "      <td>0.000000</td>\n",
       "      <td>0.000000</td>\n",
       "      <td>0.000000</td>\n",
       "      <td>1.000000</td>\n",
       "      <td>0.000000</td>\n",
       "      <td>0.000000</td>\n",
       "      <td>0.000000</td>\n",
       "      <td>0.000000</td>\n",
       "      <td>0.000000</td>\n",
       "      <td>...</td>\n",
       "      <td>0.000000</td>\n",
       "      <td>0.000000</td>\n",
       "      <td>0.000000</td>\n",
       "      <td>0.000000</td>\n",
       "      <td>0.000000</td>\n",
       "      <td>0.000000</td>\n",
       "      <td>0.000000</td>\n",
       "      <td>0.000000</td>\n",
       "      <td>0.000000</td>\n",
       "      <td>0.000000</td>\n",
       "    </tr>\n",
       "    <tr>\n",
       "      <th>75%</th>\n",
       "      <td>6500.000000</td>\n",
       "      <td>0.000000</td>\n",
       "      <td>0.000000</td>\n",
       "      <td>0.000000</td>\n",
       "      <td>1.000000</td>\n",
       "      <td>0.000000</td>\n",
       "      <td>0.000000</td>\n",
       "      <td>0.000000</td>\n",
       "      <td>0.000000</td>\n",
       "      <td>0.000000</td>\n",
       "      <td>...</td>\n",
       "      <td>0.000000</td>\n",
       "      <td>0.000000</td>\n",
       "      <td>0.000000</td>\n",
       "      <td>0.000000</td>\n",
       "      <td>0.000000</td>\n",
       "      <td>0.000000</td>\n",
       "      <td>0.000000</td>\n",
       "      <td>0.000000</td>\n",
       "      <td>0.000000</td>\n",
       "      <td>0.000000</td>\n",
       "    </tr>\n",
       "    <tr>\n",
       "      <th>max</th>\n",
       "      <td>21153.846154</td>\n",
       "      <td>1.000000</td>\n",
       "      <td>1.000000</td>\n",
       "      <td>1.000000</td>\n",
       "      <td>1.000000</td>\n",
       "      <td>1.000000</td>\n",
       "      <td>1.000000</td>\n",
       "      <td>1.000000</td>\n",
       "      <td>1.000000</td>\n",
       "      <td>1.000000</td>\n",
       "      <td>...</td>\n",
       "      <td>1.000000</td>\n",
       "      <td>1.000000</td>\n",
       "      <td>1.000000</td>\n",
       "      <td>1.000000</td>\n",
       "      <td>1.000000</td>\n",
       "      <td>1.000000</td>\n",
       "      <td>1.000000</td>\n",
       "      <td>1.000000</td>\n",
       "      <td>1.000000</td>\n",
       "      <td>1.000000</td>\n",
       "    </tr>\n",
       "  </tbody>\n",
       "</table>\n",
       "<p>8 rows × 735 columns</p>\n",
       "</div>"
      ],
      "text/plain": [
       "          sal_lower  industry_Manufacturing  \\\n",
       "count   1223.000000             1223.000000   \n",
       "mean    5310.593371                0.004088   \n",
       "std     2452.058122                0.063835   \n",
       "min        1.000000                0.000000   \n",
       "25%     3500.000000                0.000000   \n",
       "50%     5000.000000                0.000000   \n",
       "75%     6500.000000                0.000000   \n",
       "max    21153.846154                1.000000   \n",
       "\n",
       "       industry_Healthcare / Pharmaceutical  industry_Insurance  \\\n",
       "count                           1223.000000         1223.000000   \n",
       "mean                               0.008177            0.013900   \n",
       "std                                0.090091            0.117125   \n",
       "min                                0.000000            0.000000   \n",
       "25%                                0.000000            0.000000   \n",
       "50%                                0.000000            0.000000   \n",
       "75%                                0.000000            0.000000   \n",
       "max                                1.000000            1.000000   \n",
       "\n",
       "       industry_Information Technology  industry_Hospitality  \\\n",
       "count                      1223.000000           1223.000000   \n",
       "mean                          0.509403              0.002453   \n",
       "std                           0.500116              0.049487   \n",
       "min                           0.000000              0.000000   \n",
       "25%                           0.000000              0.000000   \n",
       "50%                           1.000000              0.000000   \n",
       "75%                           1.000000              0.000000   \n",
       "max                           1.000000              1.000000   \n",
       "\n",
       "       industry_Engineering  industry_Risk Management  \\\n",
       "count           1223.000000               1223.000000   \n",
       "mean               0.090760                  0.004088   \n",
       "std                0.287386                  0.063835   \n",
       "min                0.000000                  0.000000   \n",
       "25%                0.000000                  0.000000   \n",
       "50%                0.000000                  0.000000   \n",
       "75%                0.000000                  0.000000   \n",
       "max                1.000000                  1.000000   \n",
       "\n",
       "       industry_Accounting / Auditing / Taxation  industry_Customer Service  \\\n",
       "count                                1223.000000                1223.000000   \n",
       "mean                                    0.039248                   0.013083   \n",
       "std                                     0.194263                   0.113675   \n",
       "min                                     0.000000                   0.000000   \n",
       "25%                                     0.000000                   0.000000   \n",
       "50%                                     0.000000                   0.000000   \n",
       "75%                                     0.000000                   0.000000   \n",
       "max                                     1.000000                   1.000000   \n",
       "\n",
       "                ...             skill_product launch  \\\n",
       "count           ...                      1223.000000   \n",
       "mean            ...                         0.000818   \n",
       "std             ...                         0.028595   \n",
       "min             ...                         0.000000   \n",
       "25%             ...                         0.000000   \n",
       "50%             ...                         0.000000   \n",
       "75%             ...                         0.000000   \n",
       "max             ...                         1.000000   \n",
       "\n",
       "       skill_system architecture  skill_microsoft excel  skill_sap mm  \\\n",
       "count                1223.000000            1223.000000   1223.000000   \n",
       "mean                    0.000818               0.206051      0.014718   \n",
       "std                     0.028595               0.404633      0.120471   \n",
       "min                     0.000000               0.000000      0.000000   \n",
       "25%                     0.000000               0.000000      0.000000   \n",
       "50%                     0.000000               0.000000      0.000000   \n",
       "75%                     0.000000               0.000000      0.000000   \n",
       "max                     1.000000               1.000000      1.000000   \n",
       "\n",
       "       skill_pricing analysis  skill_teamwork    skill_ids  skill_omniture  \\\n",
       "count             1223.000000     1223.000000  1223.000000     1223.000000   \n",
       "mean                 0.001635        0.011447     0.004088        0.011447   \n",
       "std                  0.040423        0.106421     0.063835        0.106421   \n",
       "min                  0.000000        0.000000     0.000000        0.000000   \n",
       "25%                  0.000000        0.000000     0.000000        0.000000   \n",
       "50%                  0.000000        0.000000     0.000000        0.000000   \n",
       "75%                  0.000000        0.000000     0.000000        0.000000   \n",
       "max                  1.000000        1.000000     1.000000        1.000000   \n",
       "\n",
       "       skill_financial statements  skill_technical support  \n",
       "count                 1223.000000              1223.000000  \n",
       "mean                     0.007359                 0.014718  \n",
       "std                      0.085503                 0.120471  \n",
       "min                      0.000000                 0.000000  \n",
       "25%                      0.000000                 0.000000  \n",
       "50%                      0.000000                 0.000000  \n",
       "75%                      0.000000                 0.000000  \n",
       "max                      1.000000                 1.000000  \n",
       "\n",
       "[8 rows x 735 columns]"
      ]
     },
     "execution_count": 107,
     "metadata": {},
     "output_type": "execute_result"
    }
   ],
   "source": [
    "#observe that there are some weird values.\n",
    "df_related_jobs.describe()"
   ]
  },
  {
   "cell_type": "code",
   "execution_count": null,
   "metadata": {},
   "outputs": [],
   "source": []
  },
  {
   "cell_type": "code",
   "execution_count": 108,
   "metadata": {
    "ExecuteTime": {
     "end_time": "2019-05-12T16:17:54.189907Z",
     "start_time": "2019-05-12T16:17:54.179907Z"
    }
   },
   "outputs": [],
   "source": [
    "#decide to drop job with salary $1\n",
    "df_related_jobs.drop(index = df_related_jobs.index[df_related_jobs['sal_lower'] == 1] , inplace = True)\n",
    "df_related_jobs.reset_index(drop = True, inplace = True)"
   ]
  },
  {
   "cell_type": "code",
   "execution_count": 109,
   "metadata": {
    "ExecuteTime": {
     "end_time": "2019-05-12T16:17:54.329541Z",
     "start_time": "2019-05-12T16:17:54.191876Z"
    }
   },
   "outputs": [
    {
     "data": {
      "text/plain": [
       "<matplotlib.axes._subplots.AxesSubplot at 0x25c63ef2ef0>"
      ]
     },
     "execution_count": 109,
     "metadata": {},
     "output_type": "execute_result"
    },
    {
     "data": {
      "image/png": "[encoded data removed]",
      "text/plain": [
       "<Figure size 432x288 with 1 Axes>"
      ]
     },
     "metadata": {},
     "output_type": "display_data"
    }
   ],
   "source": [
    "sns.distplot(df_related_jobs.sal_lower)"
   ]
  },
  {
   "cell_type": "code",
   "execution_count": 110,
   "metadata": {
    "ExecuteTime": {
     "end_time": "2019-05-12T16:17:54.481133Z",
     "start_time": "2019-05-12T16:17:54.331502Z"
    }
   },
   "outputs": [
    {
     "data": {
      "text/plain": [
       "<matplotlib.axes._subplots.AxesSubplot at 0x25c665ed898>"
      ]
     },
     "execution_count": 110,
     "metadata": {},
     "output_type": "execute_result"
    },
    {
     "data": {
      "image/png": "[encoded data removed]",
      "text/plain": [
       "<Figure size 432x288 with 1 Axes>"
      ]
     },
     "metadata": {},
     "output_type": "display_data"
    }
   ],
   "source": [
    "#check distribution of salary against employment type. \n",
    "sns.boxplot(x = \"sal_lower\" , y = \"emp_type\" , data = df_related_jobs)"
   ]
  },
  {
   "cell_type": "code",
   "execution_count": 111,
   "metadata": {
    "ExecuteTime": {
     "end_time": "2019-05-12T16:17:54.663645Z",
     "start_time": "2019-05-12T16:17:54.483096Z"
    }
   },
   "outputs": [
    {
     "data": {
      "text/plain": [
       "<matplotlib.axes._subplots.AxesSubplot at 0x25c68017da0>"
      ]
     },
     "execution_count": 111,
     "metadata": {},
     "output_type": "execute_result"
    },
    {
     "data": {
      "image/png": "[encoded data removed]",
      "text/plain": [
       "<Figure size 432x288 with 1 Axes>"
      ]
     },
     "metadata": {},
     "output_type": "display_data"
    }
   ],
   "source": [
    "#check distribution of salary against employment type. \n",
    "sns.boxplot(x = \"sal_lower\" , y = \"seniority\" , data = df_related_jobs)"
   ]
  },
  {
   "cell_type": "code",
   "execution_count": null,
   "metadata": {},
   "outputs": [],
   "source": []
  },
  {
   "cell_type": "markdown",
   "metadata": {},
   "source": [
    "As there are some outliers in the salary column. I have decided to use median as the cut-off for low and high salary labels."
   ]
  },
  {
   "cell_type": "code",
   "execution_count": 112,
   "metadata": {
    "ExecuteTime": {
     "end_time": "2019-05-12T16:17:54.670627Z",
     "start_time": "2019-05-12T16:17:54.664611Z"
    }
   },
   "outputs": [
    {
     "data": {
      "text/plain": [
       "5000.0"
      ]
     },
     "execution_count": 112,
     "metadata": {},
     "output_type": "execute_result"
    }
   ],
   "source": [
    "df_related_jobs.sal_lower.median()"
   ]
  },
  {
   "cell_type": "code",
   "execution_count": null,
   "metadata": {},
   "outputs": [],
   "source": []
  },
  {
   "cell_type": "code",
   "execution_count": 113,
   "metadata": {
    "ExecuteTime": {
     "end_time": "2019-05-12T16:17:54.729469Z",
     "start_time": "2019-05-12T16:17:54.672590Z"
    }
   },
   "outputs": [
    {
     "data": {
      "text/plain": [
       "1    661\n",
       "0    561\n",
       "Name: sal_cat, dtype: int64"
      ]
     },
     "execution_count": 113,
     "metadata": {},
     "output_type": "execute_result"
    }
   ],
   "source": [
    "#binarize salary categories\n",
    "df_related_jobs['sal_cat'] = [0 if i < df_related_jobs.sal_lower.median() else 1 for i in df_related_jobs.sal_lower]\n",
    "df_related_jobs.sal_cat.value_counts()"
   ]
  },
  {
   "cell_type": "markdown",
   "metadata": {},
   "source": [
    "What is the base line?"
   ]
  },
  {
   "cell_type": "code",
   "execution_count": 114,
   "metadata": {
    "ExecuteTime": {
     "end_time": "2019-05-12T16:17:54.740420Z",
     "start_time": "2019-05-12T16:17:54.730465Z"
    }
   },
   "outputs": [
    {
     "data": {
      "text/plain": [
       "0.5409165302782324"
      ]
     },
     "execution_count": 114,
     "metadata": {},
     "output_type": "execute_result"
    }
   ],
   "source": [
    "df_related_jobs.sal_cat.value_counts().max() / (df_related_jobs.sal_cat.value_counts().max()+ df_related_jobs.sal_cat.value_counts().min())"
   ]
  },
  {
   "cell_type": "code",
   "execution_count": 115,
   "metadata": {
    "ExecuteTime": {
     "end_time": "2019-05-12T16:17:54.749384Z",
     "start_time": "2019-05-12T16:17:54.741406Z"
    }
   },
   "outputs": [
    {
     "data": {
      "text/plain": [
       "743"
      ]
     },
     "execution_count": 115,
     "metadata": {},
     "output_type": "execute_result"
    }
   ],
   "source": [
    "len(df_related_jobs.columns)"
   ]
  },
  {
   "cell_type": "markdown",
   "metadata": {},
   "source": [
    "# 7. Dummify the rest of the columns\n",
    "\n",
    "- emp_type\n",
    "- seniority"
   ]
  },
  {
   "cell_type": "code",
   "execution_count": 116,
   "metadata": {
    "ExecuteTime": {
     "end_time": "2019-05-12T16:17:54.777310Z",
     "start_time": "2019-05-12T16:17:54.750381Z"
    }
   },
   "outputs": [],
   "source": [
    "df_related_jobs = pd.concat([df_related_jobs, pd.get_dummies(df_related_jobs[[\"emp_type\",\"seniority\"]])], axis=1)"
   ]
  },
  {
   "cell_type": "code",
   "execution_count": 117,
   "metadata": {
    "ExecuteTime": {
     "end_time": "2019-05-12T16:17:54.786286Z",
     "start_time": "2019-05-12T16:17:54.779305Z"
    }
   },
   "outputs": [
    {
     "data": {
      "text/plain": [
       "757"
      ]
     },
     "execution_count": 117,
     "metadata": {},
     "output_type": "execute_result"
    }
   ],
   "source": [
    "len(df_related_jobs.columns)"
   ]
  },
  {
   "cell_type": "markdown",
   "metadata": {},
   "source": [
    "# 8. Dropping all old columns that have already been dummified or feature engineered already."
   ]
  },
  {
   "cell_type": "code",
   "execution_count": 118,
   "metadata": {
    "ExecuteTime": {
     "end_time": "2019-05-12T16:17:54.797256Z",
     "start_time": "2019-05-12T16:17:54.788281Z"
    }
   },
   "outputs": [
    {
     "data": {
      "text/plain": [
       "Index(['URL', 'emp_type', 'industry', 'job_requirements', 'job_title',\n",
       "       'sal_lower', 'seniority', 'skills', 'industry_Manufacturing',\n",
       "       'industry_Healthcare / Pharmaceutical',\n",
       "       ...\n",
       "       'emp_type_Permanent', 'emp_type_Temporary', 'seniority_exec',\n",
       "       'seniority_fresh', 'seniority_manager', 'seniority_midman',\n",
       "       'seniority_nonexec', 'seniority_professional', 'seniority_srexec',\n",
       "       'seniority_srman'],\n",
       "      dtype='object', length=757)"
      ]
     },
     "execution_count": 118,
     "metadata": {},
     "output_type": "execute_result"
    }
   ],
   "source": [
    "df_related_jobs.columns"
   ]
  },
  {
   "cell_type": "code",
   "execution_count": 119,
   "metadata": {
    "ExecuteTime": {
     "end_time": "2019-05-12T16:17:54.812218Z",
     "start_time": "2019-05-12T16:17:54.798254Z"
    }
   },
   "outputs": [],
   "source": [
    "df_related_jobs.drop(columns=['industry','URL','emp_type','seniority','sal_lower','skills'],inplace = True)"
   ]
  },
  {
   "cell_type": "code",
   "execution_count": 120,
   "metadata": {
    "ExecuteTime": {
     "end_time": "2019-05-12T16:17:54.822191Z",
     "start_time": "2019-05-12T16:17:54.814212Z"
    }
   },
   "outputs": [
    {
     "data": {
      "text/plain": [
       "751"
      ]
     },
     "execution_count": 120,
     "metadata": {},
     "output_type": "execute_result"
    }
   ],
   "source": [
    "len(df_related_jobs.columns)"
   ]
  },
  {
   "cell_type": "markdown",
   "metadata": {},
   "source": [
    "# 9. Text Preprocessing for job requirements and job titles. "
   ]
  },
  {
   "cell_type": "code",
   "execution_count": 121,
   "metadata": {
    "ExecuteTime": {
     "end_time": "2019-05-12T16:17:54.834163Z",
     "start_time": "2019-05-12T16:17:54.825184Z"
    }
   },
   "outputs": [
    {
     "data": {
      "text/plain": [
       "0    Roles & Responsibilities, ICIS is a division o...\n",
       "1    Roles & Responsibilities, As a Data Analyst, y...\n",
       "2    Roles & Responsibilities, An exciting opportun...\n",
       "3    Roles & Responsibilities, Position Purpose & S...\n",
       "4    Roles & Responsibilities, Duties & responsibil...\n",
       "Name: job_requirements, dtype: object"
      ]
     },
     "execution_count": 121,
     "metadata": {},
     "output_type": "execute_result"
    }
   ],
   "source": [
    "df_related_jobs.job_requirements.head()"
   ]
  },
  {
   "cell_type": "code",
   "execution_count": 122,
   "metadata": {
    "ExecuteTime": {
     "end_time": "2019-05-12T16:17:54.946857Z",
     "start_time": "2019-05-12T16:17:54.836153Z"
    },
    "scrolled": true
   },
   "outputs": [
    {
     "data": {
      "text/plain": [
       "0       Roles  Responsibilities ICIS is a division of ...\n",
       "1       Roles  Responsibilities As a Data Analyst you ...\n",
       "2       Roles  Responsibilities An exciting opportunit...\n",
       "3       Roles  Responsibilities Position Purpose  Summ...\n",
       "4       Roles  Responsibilities Duties  responsibiliti...\n",
       "5       Roles  Responsibilities Analyst profile with u...\n",
       "6       Roles  Responsibilities As part of CICs rapid ...\n",
       "7       Roles  Responsibilities     Understand analyse...\n",
       "8       Roles  Responsibilities The main responsibilit...\n",
       "9       Roles  Responsibilities  t Interpret data anal...\n",
       "10      Roles  Responsibilities  t As a Senior Data En...\n",
       "11      Roles  Responsibilities PropertyGuru Group is ...\n",
       "12      Roles  Responsibilities We are currently looki...\n",
       "13      Roles  Responsibilities Data Analyst at Travel...\n",
       "14      Roles  Responsibilities You will be responsibl...\n",
       "15      Roles  Responsibilities PropertyGuru Group is ...\n",
       "16      Roles  Responsibilities As Senior Data Enginee...\n",
       "17      Roles  Responsibilities xa0    CRM Data Analys...\n",
       "18      Roles  Responsibilities CRM Data Analyst    A ...\n",
       "19      Roles  Responsibilities You will be part of a ...\n",
       "20      Roles  Responsibilities The successful candida...\n",
       "21      Roles  Responsibilities  t Discover clean inte...\n",
       "22      Roles  Responsibilities     Data Analysist for...\n",
       "23      Roles  Responsibilities KEY ACCOUNTABILITIES  ...\n",
       "24      Roles  Responsibilities   COMPANY DESCRIPTION ...\n",
       "25      Roles  Responsibilities Business Function    G...\n",
       "26      Roles  Responsibilities Powered by big data an...\n",
       "27      Roles  Responsibilities Data Anaytics         ...\n",
       "28      Roles  Responsibilities 99co is looking for a ...\n",
       "29      Roles  Responsibilities 99co is looking for a ...\n",
       "                              ...                        \n",
       "1192    Roles  Responsibilities It is an exciting time...\n",
       "1193    Roles  Responsibilities Job Description     t ...\n",
       "1194    Roles  Responsibilities We are currently looki...\n",
       "1195    Roles  Responsibilities We are currently looki...\n",
       "1196    Roles  Responsibilities We are currently looki...\n",
       "1197    Roles  Responsibilities Business Function    G...\n",
       "1198    Roles  Responsibilities The Industrial Interne...\n",
       "1199    Roles  Responsibilities We are currently looki...\n",
       "1200    Roles  Responsibilities Overview of job    You...\n",
       "1201    Roles  Responsibilities We are looking for hig...\n",
       "1202    Roles  Responsibilities Allegis Global Solutio...\n",
       "1203    Roles  Responsibilities     Use tools and perf...\n",
       "1204    Roles  Responsibilities OPERATIONS    Operatio...\n",
       "1205    Roles  Responsibilities YOUR IMPACT    We are ...\n",
       "1206    Roles  Responsibilities YOUR IMPACT    We are ...\n",
       "1207    Roles  Responsibilities Business Function    G...\n",
       "1208    Roles  Responsibilities Business Function    G...\n",
       "1209    Roles  Responsibilities The Cybersecurity Cons...\n",
       "1210    Roles  Responsibilities Canopy is a make sense...\n",
       "1211    Roles  Responsibilities LinkedIn was built to ...\n",
       "1212    Roles  Responsibilities     We are seeking an ...\n",
       "1213    Roles  Responsibilities We are seeking an ener...\n",
       "1214    Roles  Responsibilities You will be part of th...\n",
       "1215    Roles  Responsibilities Imagine companies only...\n",
       "1216    Roles  Responsibilities Imagine companies only...\n",
       "1217    Roles  Responsibilities The Cyber Security Gro...\n",
       "1218    Roles  Responsibilities Imagine companies only...\n",
       "1219    Roles  Responsibilities Imagine companies only...\n",
       "1220    Roles  Responsibilities The Government Digital...\n",
       "1221    Roles  Responsibilities Imagine companies only...\n",
       "Name: job_requirements, Length: 1222, dtype: object"
      ]
     },
     "execution_count": 122,
     "metadata": {},
     "output_type": "execute_result"
    }
   ],
   "source": [
    "#some basic preprocessing to remove symbols \n",
    "df_related_jobs['job_requirements'] = df_related_jobs['job_requirements'].str.replace('[^\\w\\s]','')\n",
    "df_related_jobs['job_requirements']"
   ]
  },
  {
   "cell_type": "code",
   "execution_count": 123,
   "metadata": {
    "ExecuteTime": {
     "end_time": "2019-05-12T16:17:54.955833Z",
     "start_time": "2019-05-12T16:17:54.947853Z"
    }
   },
   "outputs": [
    {
     "data": {
      "text/plain": [
       "0                                 Data Operations Analyst\n",
       "1                             Data Analyst (Data Science)\n",
       "2                             Data Analyst (HR) (JD#5114)\n",
       "3                         Risk and Financial Data Analyst\n",
       "4                                     Senior Data Analyst\n",
       "5                                            Data Analyst\n",
       "6                                      Trade Data Analyst\n",
       "7                                            Data Analyst\n",
       "8                              Data Management Specialist\n",
       "9                                            Data Analyst\n",
       "10                  Senior Data Engineer /  Data Engineer\n",
       "11                                        Product Analyst\n",
       "12                                    Senior Data Analyst\n",
       "13                                 Mid Level Data Analyst\n",
       "14                                    Data Analytics Lead\n",
       "15                                    Senior Data Analyst\n",
       "16                                          Data Engineer\n",
       "17                                       CRM Data Analyst\n",
       "18                                       CRM Data Analyst\n",
       "19                                           Data Analyst\n",
       "20                                 Technical Data Analyst\n",
       "21                                           Data Analyst\n",
       "22                                Industrial Data Analyst\n",
       "23                                         Data Scientist\n",
       "24      Business Analyst (NTUC First Campus, Data Anal...\n",
       "25      Analyst, Static Data Maintenance Specialist, S...\n",
       "26         Senior Associate, Data and Analytics, Advisory\n",
       "27                                           Data Analyst\n",
       "28                                           Data Analyst\n",
       "29                                    Senior Data Analyst\n",
       "                              ...                        \n",
       "1192    Vice President, Developer platform and long-ta...\n",
       "1193                               CSAT Reporting Analyst\n",
       "1194                    Senior Programmatic Media Manager\n",
       "1195                           Programmatic Media Manager\n",
       "1196                            Programmatic Media Trader\n",
       "1197    AVP, Business Analyst - AML / KYC / CDD, Group...\n",
       "1198    Research Engineer / Senior Research Engineer (I3)\n",
       "1199                          Programmatic Media Director\n",
       "1200                                Data Solution Manager\n",
       "1201                                      Research Fellow\n",
       "1202           Analyst - Tableau (Analytics / dashboards)\n",
       "1203                                    Actuarial Manager\n",
       "1204    Operations, Securities Division Operations, Eq...\n",
       "1205    Operations, Reg & Control Ops, Regulatory Ops ...\n",
       "1206    Operations, Reg & Control Ops, Regulatory Ops ...\n",
       "1207    Senior Associate, Balance Sheet Management, Co...\n",
       "1208    Associate, Balance Sheet Management, Corporate...\n",
       "1209                Cyber Security Specialist, Operations\n",
       "1210                                      Finance Manager\n",
       "1211                               Senior Project Manager\n",
       "1212          Project Manager (Onboarding and Operations)\n",
       "1213          Project Manager (Onboarding and Operations)\n",
       "1214            Infrastructure Security Architect (Cloud)\n",
       "1215                    Product Manager (Moments of Life)\n",
       "1216                    Product Manager (Moments of Life)\n",
       "1217                      Cloud & Infra Security Engineer\n",
       "1218         Product Manager (Moments of Life - Business)\n",
       "1219          System Analyst (Moments of Life - Business)\n",
       "1220                     Software Quality Engineer (HATS)\n",
       "1221    Manager / Senior Manager (Product Management) ...\n",
       "Name: job_title, Length: 1222, dtype: object"
      ]
     },
     "execution_count": 123,
     "metadata": {},
     "output_type": "execute_result"
    }
   ],
   "source": [
    "df_related_jobs.job_title"
   ]
  },
  {
   "cell_type": "code",
   "execution_count": 124,
   "metadata": {
    "ExecuteTime": {
     "end_time": "2019-05-12T16:17:54.973785Z",
     "start_time": "2019-05-12T16:17:54.957828Z"
    }
   },
   "outputs": [
    {
     "data": {
      "text/plain": [
       "array(['Data Operations Analyst', 'Data Analyst Data Science',\n",
       "       'Data Analyst HR JD', 'Risk and Financial Data Analyst',\n",
       "       'Senior Data Analyst', 'Data Analyst', 'Trade Data Analyst',\n",
       "       'Data Management Specialist',\n",
       "       'Senior Data Engineer   Data Engineer', 'Product Analyst',\n",
       "       'Mid Level Data Analyst', 'Data Analytics Lead', 'Data Engineer',\n",
       "       'CRM Data Analyst', 'Technical Data Analyst',\n",
       "       'Industrial Data Analyst', 'Data Scientist',\n",
       "       'Business Analyst NTUC First Campus Data Analytics',\n",
       "       'Analyst Static Data Maintenance Specialist SGWealth Mgmt Ops TO WD',\n",
       "       'Senior Associate Data and Analytics Advisory',\n",
       "       'Senior Business Data Analyst', 'DATA ANALYST',\n",
       "       'Data Science Analyst', 'Associate Advisory Data and Analytics',\n",
       "       'Associate Data Scientist',\n",
       "       'Data Analyst Vietnamese language proficient',\n",
       "       'Junior Data Scientist', 'ETL Developer ITSR',\n",
       "       'Data Analyst at Viki Inc', 'data analyst',\n",
       "       'Data Scientist Analyst',\n",
       "       'HR Data Analyst  MNC  Central   days week   year contract',\n",
       "       'AVP Senior Data Analyst Middle Office Technology Technology and Operations  WD',\n",
       "       'Senior Associate Senior Data Analyst Middle Office Technology Technology and OperationsWD',\n",
       "       'Senior Manager Data Engineer', 'Data analyst',\n",
       "       'Data Analyst  Singapore', 'Junior  Mid Level Data Analyst',\n",
       "       'Data Analyst  Consumer Banking',\n",
       "       'Data Analyst Google Pay  Singapore', 'Junior Data Analyst',\n",
       "       'Digital Analytics Data Analyst', 'Cloud and Data analyst',\n",
       "       'Operations Analyst  Reference Data Services',\n",
       "       'SENIOR DATA ANALYST', 'Data Analyst FinTech Startup',\n",
       "       'Analyst Data Engineer Consumer Banking Technology and Operations WD',\n",
       "       'Junior Data Analyst  SQL Training Program for th April to th Jan ',\n",
       "       'Predictive  Data Analyst',\n",
       "       'Product Analyst Data National Digital Identity NDI  Trusted Data',\n",
       "       'Business Analyst Data Analytics',\n",
       "       'Senior Systems Engineer  Data Architecture', 'Big Data Engineer',\n",
       "       'Senior Data Research Engineer',\n",
       "       'Customer Engineer Data Management  Singapore',\n",
       "       'Data Research Engineer',\n",
       "       'Senior Associate Junior Data Scientist DBS Transformation Group TO WD',\n",
       "       'Associate Junior Data Scientist DBS Transformation Group TO WD',\n",
       "       'Senior   Data Engineer', 'Data Visualisation Engineer',\n",
       "       'Data Science Engineer',\n",
       "       'Principal    Master Data Science  Application Engineer',\n",
       "       'Senior    Principal Data Science  Application Engineer',\n",
       "       'Junior    Senior Data Science  Application Engineer',\n",
       "       'WD SAP Business System  Analyst',\n",
       "       'Data Visualisation Engineer West', 'Data Engineer Ref ',\n",
       "       'Staff Software Engineer', 'Network Engineer Data Centre',\n",
       "       'Data    DevOps Engineer',\n",
       "       'Senior Database Consultant  Big Data Engineer',\n",
       "       'Associate Data Engineer', 'Data Engineer  days Orchard ',\n",
       "       'Research Engineer Data Analytics IR ASTAR',\n",
       "       'Field Operation Engineer  Big Data Engineer',\n",
       "       'Data Sciences  Analytics Engineer Data Engineering Track',\n",
       "       'Customer Engineer Data Analytics Specialist Google Cloud  Singapore',\n",
       "       'Data Engineer  year contract', 'Vice President Data Engineer',\n",
       "       'Senior Data Engineer', 'Data Center Engineer Facility',\n",
       "       'Data Center Engineer Operations', 'DATA ENGINEER',\n",
       "       'AVP Network Engineer Data  Security Chief Technology Organization',\n",
       "       'Senior  Data Engineer Data Science Team',\n",
       "       'Data Center Operations Engineer', 'Data Centre Engineer',\n",
       "       'Data Centre FM Engineer',\n",
       "       'Associate Data Engineer Consumer Banking Technology and Operations WD',\n",
       "       'Data Technical Support Engineer',\n",
       "       'Attractive L Support EngineerData Center Operations opening in Singapore',\n",
       "       'System Engineer Data and Control Communication Management',\n",
       "       'Technical Lead', 'DATA SCIENTIST', 'DATA Scientist',\n",
       "       'Research Scientist Data Scientist', 'Finance Data Scientist',\n",
       "       'Postdoctoral Fellow  Research Fellow Data Analytics  Data Scientist',\n",
       "       'Senior Data Scientist', 'Senior Consultant Data Scientist',\n",
       "       'Data Science Lead', 'Senior Level Data Scientist',\n",
       "       'Mid  Senior Level Data Scientist', 'Mid Level Data Scientist',\n",
       "       'Junior  Mid Level Data Scientist',\n",
       "       'Data Scientist Project Manager', 'Applied Data Science Associate',\n",
       "       'SENIOR DATA SCIENTIST', 'Business Data Scientist',\n",
       "       'AVP Data Scientist Analytics  Innovation Group Legal Compliance and Secretariat WD',\n",
       "       'Data Scientist AI Services',\n",
       "       'Sr Data Scientist Exp in ML Python R and Bidata Tech is Must',\n",
       "       'Research Scientist Senior Data Scientist  NLP  Chatbot',\n",
       "       'SVP Big Data and Customer Experience Optimisation',\n",
       "       'Intelligent Risk Data Scientist Manager  Assistant Manager',\n",
       "       'Assoc Data Scientist BAU Operations Intelligence CBG Ops Technology and Operations WD',\n",
       "       'Data Scientist Economist', 'Data Scientist SAS Python',\n",
       "       'Lead Data Scientist', 'Presales Specialist  Data Science',\n",
       "       'Vice President Data Science', 'Data scientist',\n",
       "       'PI Enterprise Intelligence Data Scientist Senior Manager Financial Services Advisory SG',\n",
       "       'Research Scientist    Senior Research Scientist Ensemble Data Assimilation',\n",
       "       'Business Intelligence  Analytics Application Developer',\n",
       "       'IT Executive SAP Business One  Hardware Support  Networking  Microsoft SOL  TCP  IP',\n",
       "       'Senior Data Specialist', 'Application Support Analyst',\n",
       "       'Senior Adobe  Google Analytics Developer',\n",
       "       'TECHNICAL CONSULTANT  DATA INTELLIGENCE  ANALYSIS',\n",
       "       'Net developer', 'Data Management and Data Analytics Team Manager',\n",
       "       'SAP BPC', 'Tableau    Business Intelligence Developer',\n",
       "       'Data Science Lead Large Customer Sales  Singapore',\n",
       "       'Technical Lead  Database', 'Financial Analyst',\n",
       "       'Demand Planner  months contract',\n",
       "       'Business Analyst    Central    Up to AWSVB    SQL    Python',\n",
       "       'IT Executive k    Pioneer    SAP B    Hardware Maintenance    Networking',\n",
       "       'Information Technology Manager', 'Digital Strategy Lead',\n",
       "       'Business Intelligence  Analytics BI Developer',\n",
       "       'IT Executive kk    Pioneer    SAP Business One    Networking    Hardware     days    Immediate',\n",
       "       'Business Intelligence', 'Business Intelligence Presales',\n",
       "       'Senior Business Analyst', 'Senior Controller Asia Pacific',\n",
       "       'Senior Full Stack Developer', 'Lead Database Analyst',\n",
       "       'SAP Analytics Solutions Architect',\n",
       "       'APAC Finance  Accounting System Assistant Manager Region Office',\n",
       "       'Business Intelligence Analyst  Machine Engineering',\n",
       "       'Associate Consultant', 'Reporting Analyst',\n",
       "       'Operations and Strategy Analyst', 'Power BI', 'Business Analyst',\n",
       "       'Senior Manager',\n",
       "       'IT Executive kk    Pioneer    SAP Business One    Networking    Hardware Support    Immediate',\n",
       "       'Financial Analyst Associate', 'Information Technology Executive',\n",
       "       'Application Analyst', 'Sharepoint Developer', 'Lead  Analyst',\n",
       "       'Datawarehouse Engineer',\n",
       "       'IT Support Executive Pioneer     days    Hardware Support    Networking    SAP    Immediate',\n",
       "       'SIS  Assistant Professor of Information Systems Education  Practice SCPS',\n",
       "       'Software and Applications Developer and Analyst Nec',\n",
       "       'Software Engineer  Competitive Pricing',\n",
       "       'Project Manager Business Intelligence',\n",
       "       'Associate Incentives Accounting',\n",
       "       'Business intelligence PMO Manager', 'Research Fellow',\n",
       "       'Deployment Project Manager', 'Procurement Business Intelligence ',\n",
       "       'Business Intelligence Analyst',\n",
       "       'Junior Analyst Marketing Business Intelligence', 'Consultant',\n",
       "       'Financial Controller South East Asia',\n",
       "       'MANAGERIAL  SENIOR MANAGEMENT',\n",
       "       'IT Associate Business Analyst Business Intelligence System',\n",
       "       'Security Metrics and Reporting Analyst',\n",
       "       'SAP Functional and Enterprise Data Warehouse Architect',\n",
       "       'Data Architect', 'Big Data Architect',\n",
       "       'SAP Data Migration Architect  Senior Consultant',\n",
       "       'Data Integration Architect', 'Data Statistician',\n",
       "       'SOLUTION ARCHITECT  EDW BI  Data Integration',\n",
       "       'Senior SAP Consultant',\n",
       "       'AVP Data Architect  Metadata Management DBS Transformation Group TO WD',\n",
       "       'Vice President Enterprise Data Warehouse',\n",
       "       'Hiring for Solution Architect Product Master Data Management',\n",
       "       'Senior Data Architecture Manager',\n",
       "       'Data Solution Senior Director', 'Data Solution Director',\n",
       "       'Senior Lecturer Artificial Intelligence SCALE Executive  Professional Development Unit',\n",
       "       'AI Computer Vision Engineer',\n",
       "       'Enforcement Detection Analyst Trust and Safety YouTube  Singapore',\n",
       "       'Research Associate', 'Analyst', 'Research Scientist IHPC',\n",
       "       'Backend Software Developer', 'Project Officer',\n",
       "       'Actuarial Analyst', 'Senior Manager Program Management',\n",
       "       'Senior Researcher in CAD',\n",
       "       'TECHNOLOGY CONSULTING DIGITAL  EMERGING ASSOCIATE',\n",
       "       'Information Technology Senior Research Scientist',\n",
       "       'Research Engineer month contract School of Information Systems',\n",
       "       'Solution architect', 'Scientist Power System Analytics EPGC',\n",
       "       'Solutions Consultant',\n",
       "       'Specialist Manager Data Analytics and Machine Learning  Singapore',\n",
       "       'Principal Software Engineering Lead',\n",
       "       'Research Fellow Proteomics',\n",
       "       'Senior Research Fellow Institute of Data Science',\n",
       "       'Research Scientist year contract School of Information Systems',\n",
       "       'Application Developer',\n",
       "       'Research Assistant  Research Associate  Postdoctoral Fellow  Research Fellow',\n",
       "       'Finance  Control Director', 'Project Manager',\n",
       "       'FullStack Developer', 'Assistant Research Officer',\n",
       "       'Security Researcher', 'Senior Engineer', 'Research Engineer',\n",
       "       'Software Engineer', 'Quality Engineer',\n",
       "       'Sales Development Representative Japanese',\n",
       "       'Sales Development Representative Korean',\n",
       "       'Research Fellow year contractxa Living Analytics Research Centre',\n",
       "       'Project Manager Systems Integration year contract Centre for Teaching Excellence',\n",
       "       'Research Assistant', 'Cloud Operations Engineer',\n",
       "       'Algorithm Engineer',\n",
       "       'Research Engineer Cyber SecurityIntelligence IR  ASTAR',\n",
       "       'Research Engineer Visual Intelligence IR  ASTAR',\n",
       "       'Mobile Software Engineer', 'Machine Learning Developer',\n",
       "       'Research Engineer Deep Learning     IR ASTAR',\n",
       "       'Scientist Deep Learning  IR  ASTAR',\n",
       "       'Research Assistant Artificial Intelligence',\n",
       "       'Assistant Manager Data Science', 'Digital Marketing Manager  APJ',\n",
       "       'Specialist SSC Process  Projects',\n",
       "       'Manager SSC Process  Projects',\n",
       "       'Compliance  Analytics  Associate', 'Audience Insights Specialist',\n",
       "       'Solution Engineer Contact Centre AI Cognitive Applications',\n",
       "       'Lead Reseacher', 'Implementation Engineer', 'Product Manager',\n",
       "       'Consulting Analyst', 'Vice President Machine Learning Engineer',\n",
       "       'Senior Machine Learning Engineer',\n",
       "       'Business Analyst Customer and Digital Analytics',\n",
       "       'MACHINE LEARNING', 'Data Science', 'Head Data Analytics',\n",
       "       'Management Consultant  Technology', 'Emerging Technology Lead',\n",
       "       'Business Integrity Associate Technical', 'Lead Product Manager',\n",
       "       'IT Innovation Management APAC   Emerging Technology Engineer',\n",
       "       'FPGA Application Developer AI Platform',\n",
       "       'Research Associate Data Science  EEE  INFINITUS',\n",
       "       'Fintech Lab Fullstack Developer',\n",
       "       'Unskippable Labs Experimentation Lead  Singapore',\n",
       "       'Product Manager Smart Nation Platform Solutions',\n",
       "       'Delivery Manager', 'Technical Product Manager Virtual Assistant',\n",
       "       'Lecturer  IT Systems  Networks',\n",
       "       'BII Postdoctoral Research fellow', 'Senior System Analyst',\n",
       "       'Junior Computer Vision Engineer for Deep learning applied to Real World Robotic System',\n",
       "       'Scientist   Senior Scientist ARTC',\n",
       "       'Senior Engineer Video Analytics',\n",
       "       'Research ScientistLow power ASIC for inmemory computation IME',\n",
       "       'Perception Intern', 'Technology Manager',\n",
       "       'System Support Engineer', 'SOFTWARE QA ENGINEER',\n",
       "       'Business and QA Analyst', 'Technology Consultant',\n",
       "       'Senior  Business Analyst', 'FPA Controller',\n",
       "       'Channel Insights Manager', 'data analytics manager',\n",
       "       'Presales  Consultant BI',\n",
       "       'Principal Analyst  Digital Retail System', 'Graduate Analyst',\n",
       "       'Analytics Business Development Manager  Senior Manager',\n",
       "       'Big data Presales',\n",
       "       'Senior Lecturer Data Analytics SCALE Executive  Professional Development Unit',\n",
       "       'Manager Program Management', 'Product Strategist',\n",
       "       'Assistant Vice President',\n",
       "       'Analyst Operations Intelligence Data Science Specialist CBGO TO  WD',\n",
       "       'Associate Operations Intelligence Data Science Specialist CBGO TO WD',\n",
       "       'Research Engineer Real Estate',\n",
       "       'Contract Senior Financial Crime Analytics  Internal  External Fraud Group Compliance WD',\n",
       "       'Research Associate  Bioinformatics Analyst Pathology',\n",
       "       'DevOps Engineer', 'Senior Backend Engineer',\n",
       "       'Senior Manager  Assistant Director Data Science NUHS Management Decision Support Office',\n",
       "       'Research Associate  Bioinformatics Analyst',\n",
       "       'PreDoctoral Research Associate  Assistant', 'PRODUCT MANAGER DEX',\n",
       "       'Senior Research Fellow', 'Associate  AVP Research Engineer',\n",
       "       'Assistant Professor', 'Marketing Analytics Manager',\n",
       "       'UX Researcher', 'EY Wavespace Consultant Advisory Singapore',\n",
       "       'Business Program Manager', 'Director of Sales Engineering APJ',\n",
       "       'People Analytics Lead Senior Manager',\n",
       "       'Senior Manager    Director  Product Management',\n",
       "       'Senior Manager    Director Product Management',\n",
       "       'Senior  Principal Infocomm Specialist Data  Analytics Architecture',\n",
       "       'Lecturer  IT Applications Development',\n",
       "       'Lecturer  Electronics Internet of Things IoT  Communication',\n",
       "       'BI ANALYST  CONSULTANT', 'eKey Account Manager',\n",
       "       'Tableau Developer', 'Senior Analyst',\n",
       "       'AVP Data Center Manager Chief Technology Orginazation',\n",
       "       'System Engineer Hadoop', 'Solutions Architect', 'ETL Tester',\n",
       "       'Data Quality and Security', 'SAP Plant Maintenance',\n",
       "       'Report Developer', 'Senior    Consultant Application',\n",
       "       'Senior Project Manager Analytics',\n",
       "       'Assistant  Project Manager Operations  Maintenance',\n",
       "       'Lead BPC Consultant', 'FrontEnd Engineer',\n",
       "       'Data Engineers  Renewable Contract Roles ',\n",
       "       'Senior SAP Consultant  Basis  Infra',\n",
       "       'Management Consultant  Technology  Innovation  Consultant',\n",
       "       'POWER BI DEVELOPER', 'Business Insights Analyst',\n",
       "       'SAP Monitoring Consultant',\n",
       "       'Power BI Developer Exp in Azure Service and MSBI is Must',\n",
       "       'General Ledger and Account Payables Accountant',\n",
       "       'Report    BI Developer', 'Technical Lead BI',\n",
       "       'Specialist Life Product Pricing  Development',\n",
       "       'Senior Specialist Life Product Pricing  Development',\n",
       "       'SAP CONSULTANT SD  MM  PI  PO  QM  BW  BI  BO  HANA  ABAP  FICO  MDG  SUCESSFACTORS  HCM  Fiori',\n",
       "       'Junior IT Analyst Application Support  MS SQL',\n",
       "       'Senior Functional Consultant', 'ETL Developer',\n",
       "       'Senior ETL Developer', 'Technical Architect',\n",
       "       'Senior Project Manager', 'technical consultant SQL',\n",
       "       'SCM APO SNP PPDS Consultant', 'Big Data SME  Lead',\n",
       "       'Technology Team Lead  BI', 'Senior Project Lead', 'Scrum Master',\n",
       "       'Analyst Change  Performance Management', 'Security Engineer',\n",
       "       'Security engineer', 'IT Associate Business Analyst MSSQL',\n",
       "       'Lead SAP BI    BW', 'SAP Plant Maintenance Consultant',\n",
       "       'IT BUSINESS ANALYST', 'SAP CONSULTANT',\n",
       "       'TESTING AND ANALYSIS ENGINEER',\n",
       "       'Research Engineer  Senior Research Engineer ARTC',\n",
       "       'Systems Analyst', 'Academy Manager',\n",
       "       'Principal Research Engineer Human Language Technologies IR  ASTAR',\n",
       "       'SAP Basis Consultant',\n",
       "       'Solutions Consultant  Digital Marketing Datorama',\n",
       "       'Finance Process Implementation Lead', 'Solution Consultant',\n",
       "       'Solution Architect', 'Senior Manager Service Engineering',\n",
       "       'ECM Technical Consultant', 'BPM Developer',\n",
       "       'Group Technical Manager  Solution Architecture',\n",
       "       'Oracle Techno Functional Consultant',\n",
       "       'Senior    Solution Architect', 'Business Analyst  Liquidity',\n",
       "       'Solutions Architect   Group Manager  MS Dynamics AX Technical',\n",
       "       'Chief Technology Officer', 'Senior Application Consultant',\n",
       "       'SENIOR ORACLE CLOUD SOLUTION ARCHITECT',\n",
       "       'Business Systems Developer', 'SAP Solution Architect',\n",
       "       'Business Analyst Digital Services  Internet  Mobile',\n",
       "       'Region HR Analytics Manager', 'UX Lead',\n",
       "       'Strategic Marketing Analyst Scalable Marketing Solutions  Singapore',\n",
       "       'Java Engineer', 'Sales Analyst', 'Head of CRM Ecommerce start up',\n",
       "       'FPA Project Coordinator Regional   Pharma    Year Contract',\n",
       "       'FPA Project Coordinator Regional    Year Contract',\n",
       "       'IoT Product Manager Wearables  Fitness Gadgets', 'Oracle DBA',\n",
       "       'Software Engineer Infra', 'Logistics Assistant  RETAIL  S',\n",
       "       'Research Fellow    Research Associate Façade Expert',\n",
       "       'Research Fellow    Research Associate BIPV System Specialist',\n",
       "       'Project Manager    Research Fellow',\n",
       "       'Teradata System Database Administrator', 'FINANCIAL  ANALYST',\n",
       "       'IT Service Management Lead',\n",
       "       'Associate Consultant Oracle Database Administrator',\n",
       "       'Database Administrator', 'Database adminstrator',\n",
       "       'Manager Database', 'Linux DB Administrator',\n",
       "       'Senior Executive year contract SMU Academy',\n",
       "       'Senior Executive Finance Treasury  Planning', 'Sales Executive',\n",
       "       'Principal Consultant', 'Senior Architect', 'Network Engineer',\n",
       "       'AVP DevOps Engineer Technology Services Technology and Operations WD',\n",
       "       'Research Engineer CS IHPC', 'Fullstack Developer',\n",
       "       'Information Technology Consultant',\n",
       "       'Oracle Database Administrator', 'SQL Databse Administrator',\n",
       "       'Senior Technical Consultant', 'Research Assistant  Associate',\n",
       "       'Support Analyst', 'Data Entry Assistant',\n",
       "       'Associate Principal FEA Engineer',\n",
       "       'Advanced Finite Element Analysis Engineer',\n",
       "       'System Engineer  Year Contract up to S',\n",
       "       'Contracts and Procurement Executive  Senior Executive',\n",
       "       'Corporate Secretarial    Senior', 'Manager Treaty Pricing',\n",
       "       'Account Assistant months contract',\n",
       "       'Database Executive Contact Centre', 'FB Reservations Executive',\n",
       "       'Technical Project manager  C Net',\n",
       "       'Specialist Manager Customer Engineering Data Management  Singapore',\n",
       "       'Team Leader', 'Service Delivery Manager', 'Financial Consultant',\n",
       "       'VP HRIS Senior Business Analyst Group Human Resources',\n",
       "       'Delegate Sales Executive',\n",
       "       'Corporate Secretarial Assistant Manager',\n",
       "       'Boat Technician   Assistant Engineer',\n",
       "       'AVP Application Architect IBGT Technology and Operations WD',\n",
       "       'Technical Consultant Amazon Web Services Ref ',\n",
       "       'Financial Services Consultant',\n",
       "       'Required Oracle Database Admin Months contract', 'Database Admin',\n",
       "       'Senior Search Consultant',\n",
       "       'Application Consultant     Year Contract        West   Shipping    Bassnet Req',\n",
       "       'RD Test Engineer', 'Finance Executive', 'Regional Sales Manager',\n",
       "       'Sales Director    Solutions Director RPO',\n",
       "       'Financial Consultant   Corporate Employee Fixed Basic  CPF   Immediate ',\n",
       "       'Senior Network Engineer  Manager', 'Senior Sales Executive',\n",
       "       'IT Executive Software Developer',\n",
       "       'IT Executive Software Developer  eCommerce',\n",
       "       'IT Executive Software Developer Travel',\n",
       "       'IT Executive Data Analyst',\n",
       "       'IT Executive Mobile Application Developer',\n",
       "       'Assistant Manager Middleware', 'Information Systems Architect',\n",
       "       'Billing Operations Engineer', 'BRM  OCS  PCRF Expert',\n",
       "       'Senior    Sales Executive', 'IT Systems Adminstrator',\n",
       "       'Senior Account Associate', 'Database Consultant',\n",
       "       'MSSQL  Sybase Database Administrator ',\n",
       "       'AVP  Application Developer for Legal  Compliance Database ',\n",
       "       'Database Administrator  Golden Gate experience is a must',\n",
       "       'Junior Databate Administrator', 'Python Programmer',\n",
       "       'Branch Financial Consultant Up to K  Bonus  Commission    Immediate ',\n",
       "       'Senior Executive Corporate Sales',\n",
       "       'Business Systems Analyst Enterprise Applications',\n",
       "       'System Engineer Ref ', 'Application Developer C Ref ',\n",
       "       'Assistant Lead Analyst    Senior Systems Analyst ETL Ref ',\n",
       "       'Software Engineer Ref ', 'Senior Database Engineer',\n",
       "       'Senior Engineer Database Operations',\n",
       "       'Engineer Database Operations',\n",
       "       'Consultant  Java Developer Java JEE', 'Lead Systems Engineer',\n",
       "       'APAC Finance Supervisor Airfeed  Network',\n",
       "       'Iron Ore Market Supply Analyst', 'Associate fund management',\n",
       "       'Cost Estimation Due Diligence Manager', 'System Administrator',\n",
       "       'IT Manager', 'Assistant Manager Visual Merchandising',\n",
       "       'Training Manager Reservation Systems  Project Integration',\n",
       "       'Purchasing Executive', 'MEMBER RELATIONS ASSISTANT',\n",
       "       'Data Migration Lead',\n",
       "       'Senior    SQL Server Database Administrator', 'IT Engineer',\n",
       "       'SAP Senior Consultant', 'Principal Technical Consultants',\n",
       "       'Customer Service', 'Senior    System Analyst SAP Basis',\n",
       "       'Analyst Programmer', 'Systems Engineer',\n",
       "       'Associate Director  Senior Product Consultant', 'CRM Developer',\n",
       "       'Operations Support Staff', 'SEA Regional Demand Planner',\n",
       "       'CRM Manager', 'Sales Executive Banking',\n",
       "       'Customer Service Executive', 'Cloud Database Admin',\n",
       "       'Senior Database Administrator', 'SAP SENIOR CONSULTANT',\n",
       "       'Strategy Officer Research and Evaluation', 'Asia Product Manager',\n",
       "       'Corporate Secretarial Senior',\n",
       "       'Application Support Engineer MSNET', 'Tenancy Executive',\n",
       "       'Sourcing  procurement Specialist', 'Administrator Database',\n",
       "       'Sales Specialist kkCommIncentive    Tai Seng    Dental Supply    Class     Immediate',\n",
       "       'Senior Infrastructure Engineer',\n",
       "       'Research Assistant year contract School of Social Sciences',\n",
       "       'SQL Developer  year contract', 'Security Development Engineer',\n",
       "       'QA Developer', 'Technical Writer',\n",
       "       'openings for Informatica developer',\n",
       "       'PeopleSoft Administrator  DBA Consultant',\n",
       "       'CRM Campaign Analyst    Manager',\n",
       "       'Open Systems Application Developer',\n",
       "       'Application and Database Specialist',\n",
       "       'Database Adminstrator Oracle', 'OraclexaDatabase Administrator',\n",
       "       'Technical Consultant', 'Engineer  Systems',\n",
       "       'Analyst  Investor Partnership Services',\n",
       "       'Information Systems  Systems Developer', 'Remedy BSA',\n",
       "       'Business Development Manager    Fund Raising    Captial Markets     basic    CBD',\n",
       "       'Fundrasing Manager    Capital Markets     Basic    Immediate ',\n",
       "       'System Analyst    Central    K  Logistics MNC    ERP Rollout Exp',\n",
       "       'Conference Sales Executive', 'CLIENT MANAGER CLOUD',\n",
       "       'Senior Executive IT Operations', 'Demand Planner',\n",
       "       'Assistant Laboratory Officer  Laboratory Officer ARTC',\n",
       "       'SERVER CONSULTANT', 'Sales Engineer  Executive',\n",
       "       'Database Engineer',\n",
       "       'Customer Engineer Database Management  Singapore',\n",
       "       'System Analyst',\n",
       "       'Senior Research Engineer  Principal Research Engineer ARTC',\n",
       "       'Applications    Systems Programmer', 'CRM Executive  RETAIL  S',\n",
       "       'QE AUTOMATION ENGINEER', 'AVP Technology Auditor Group Audit UV',\n",
       "       'Senior Executive PMS  Event Management',\n",
       "       'Backend Software Engineer', 'ContentManagementASPNET Developer',\n",
       "       'Kentico    Sitecore CMS Developer', 'eCommerce Insight Manager',\n",
       "       'Project Manager Print Advertising',\n",
       "       'Senior System Engineer    Team Lead', 'Senior System Engineer',\n",
       "       'System Engineer', 'Senior Systems Engineer',\n",
       "       'Sales Support Engineer', 'Technical Architect  FileNet',\n",
       "       'Senior Vessel Operator', 'Senior Consultant  Oracle DBA',\n",
       "       'Procurement Coordinator', 'Application Consultant',\n",
       "       'IT Executive  Software Developer  Web  CRM',\n",
       "       'Senior Pricing Quantitative Engineer  Scientist',\n",
       "       'Research    Equipment Engineer  Equivalent RD',\n",
       "       'Specialist Associate SP Educator Centre for Healthcare Simulation year contract',\n",
       "       'Technical Consultant Oracle Database', 'Junior Business Analyst',\n",
       "       'Senior Technical Lead  Teradata    UNIX',\n",
       "       'Senior Software Engineer Java Jee', 'Data Processing Executive',\n",
       "       'Finance and Administrative Generalist', 'Senior Cost Estimator',\n",
       "       'PRODUCT MANAGEMENT EXECUTIVE AKA PURCHASING EXECUTIVE',\n",
       "       'Chief Revenue Officer', 'OraclePeopleSoft Technical',\n",
       "       'System Service Engineer', 'Deputy Director Business Development',\n",
       "       'Full Stack Developer', 'IT Programmer  Ref ',\n",
       "       'Customer Solution Adoption Sr Specialist',\n",
       "       'Required SQL database Admin',\n",
       "       'Database Senior Engineer  Administrator', 'DBA Lead',\n",
       "       'Senior Technical Lead  Java Microservices',\n",
       "       'Manager Technology Risk', 'Cost Engineer',\n",
       "       'Junior Investment Performance Associate', 'Customer Sales',\n",
       "       'Procurement Executive', 'IT Business and Project Consultant',\n",
       "       'Principal   Master RD Software Engineer PSS',\n",
       "       'Senior   Principal RD Software Engineer PSS',\n",
       "       'Junior   Senior RD Software Engineer PSS',\n",
       "       'Outsystems Business Analyst', 'Senior Software Specialist',\n",
       "       'Acount Associate', 'Database Architect', 'Systems Administrator',\n",
       "       'Regional Demand Planner',\n",
       "       'Temporary Admin Support Officer months with option to extend another month',\n",
       "       'Application Developer MS Dynamics  CRM',\n",
       "       'Infrastructure Engineer', 'ENGINEER  SENIOR DESIGN SIMULATION',\n",
       "       'Senior Consultant', 'Senior Systems Administrator',\n",
       "       'IT Executive',\n",
       "       'Research Lead  Senior Epidemiologist  flexible Location full time or part time',\n",
       "       'Associate Director    Senior Project Manager Smart Building Control',\n",
       "       'Senior Research Scientist    Deputy Principal Research Scientist Climate variability and predictability',\n",
       "       'Cybersecurity Solution Architect', 'MUREX CONSULTANT',\n",
       "       'ICT Engineer', 'International Research and Personal Assistant',\n",
       "       'Senior SAP Basis Consultant',\n",
       "       'Senior Application Consultant  CA Tools',\n",
       "       'Product Manager Trusted Identity National Digital Identity',\n",
       "       'SR UNIX ENGINEER', 'Siebel CRM developer EAI  Workflow',\n",
       "       'System Analyst  Siebel', 'Mechanical Engineer',\n",
       "       'Business Development Manager Consumer Healthcare Retail Pharmacies FMCG',\n",
       "       'Global Analytical Lead', 'Account Associate',\n",
       "       'Product Manager Authentication Trusted Identity National Digital Identity',\n",
       "       'GIS Consultant Geospatial Specialist',\n",
       "       'Deals Data Analytics Senior Manager',\n",
       "       'Consultant Assistant Vice President',\n",
       "       'Research Manager Consumer and Market Insights  Singapore',\n",
       "       'Regional IT Infrastructure Lead', 'Director of Deployment',\n",
       "       'SelfService Analytics Coach',\n",
       "       'Manager    Assistant Director Workforce Planning and Analytics W',\n",
       "       'Quantitative Analyst  International Energy Trading',\n",
       "       'Google Ads    PPC Account Manager SS', 'Audit Consultant',\n",
       "       'Asia Operations and Technology Financial Planning and Analyst Consolidation Lead',\n",
       "       'IT Analyst  Senior IT Analyst',\n",
       "       'AVP Manager  Group Technology Risk Assurance Technology Services TO WD',\n",
       "       'Senior Associate Manager  Group Technology Risk Assurance Technology Services TO WD',\n",
       "       'Senior UX Researcher', 'Cyber Security Consultant Threat Hunting',\n",
       "       'Senior Associate Financial Crime Analytics',\n",
       "       'Platform Program Manager', 'Senior Channels Strategist',\n",
       "       'TECHNOLOGY CONSULTING DATA AND ANALYTICS ASSOCIATE',\n",
       "       'RISK ASSURANCE  DATA  ANALYTICS ASSOCIATE',\n",
       "       'DEALS DATA AND ANALYTICS ASSOCIATE',\n",
       "       'Senior Associate FullStack Developer Group Consumer Banking and Big Data Analytics Technology TO',\n",
       "       'RISK ASSURANCE DIGITAL TRUST ASSOCIATE',\n",
       "       'RISK CONSULTING FINANCIAL RISK MANAGEMENT ASSOCIATE',\n",
       "       'Security Analyst', 'Audit Quality  Operations Consultant',\n",
       "       'AVP Strategic Planning  Finance Audit COO Group Group Audit WD',\n",
       "       'Global Operations Lead  Finance Shared Services',\n",
       "       'RISK ASSURANCE  RISK REGULATIONS  COMPLIANCE ASSOCIATE',\n",
       "       'RISK ASSURANCE  GOVERNANCE RISK  CONTROLS ASSOCIATE',\n",
       "       'Senior Analyst  Consumer Analytics',\n",
       "       'Research Engineer year contract Living Analytics Research Centre',\n",
       "       'Application Manager Analytics',\n",
       "       'AVP Operations Intelligence Analytics Manager Consumer Banking Group Operations TO  WD',\n",
       "       'Digital Specialist', 'Digital Marketing Lead', 'Account Manager',\n",
       "       'Technical Analyst Energy Commodities',\n",
       "       'Social Media OfficerTown SEO', 'Business Development Manager',\n",
       "       'Senior Executive Finance Procurement',\n",
       "       'Business Development  Marketing Manager digital marketing agency',\n",
       "       'Program Manager', 'Senior Technical Developer', 'Architect',\n",
       "       'Financial Analyst Home Printing Solutions',\n",
       "       'Product Marketing Manager BC English Vietnamese  Singapore',\n",
       "       'Regional Demand Planning Manager  months contract',\n",
       "       'Product Marketing Manager Ads YouTube  Singapore',\n",
       "       'SEA Digital Analytics Manager',\n",
       "       'Sales Operation Analytics Manager',\n",
       "       'AVP Production Suppt Mgr Ecosystem  Mktplc Grp Consumer Bankg  Big Data Analytics Tech WD',\n",
       "       'Accounts Assistant', 'Internal Consultant  Digital Practice',\n",
       "       'Business Process Engineer', 'Finance PDP',\n",
       "       'Splunk Presales Consultant  days Orchard ',\n",
       "       'Presales Consultant  Big Data  days Orchard ',\n",
       "       'AVP Risk and Control IBGO Technology and Operations  WD',\n",
       "       'Risk System Analyst Wholesale Risk Systems  years contract',\n",
       "       'Finance Technology Leader',\n",
       "       'Core Sales  Relationship Manager Thailand Coverage',\n",
       "       'Specialist  Senior Specialist CRM',\n",
       "       'Senior Project    Programme Manager  Financial Applications',\n",
       "       'Reseach Assistant  Research Associate  Postdoctoral Fellow Geospatial',\n",
       "       'Senior Analyst  SPSI  Global Consumer Financial Services Finance',\n",
       "       'Senior Director Cross Border Insights and Analytics',\n",
       "       'WD Engineering Manager',\n",
       "       'Senior  System Consultant Data Analytics',\n",
       "       'Solution Analytics Engineer', 'Commercial Management Trainee',\n",
       "       'Senior Technology Specialist',\n",
       "       'Social Media ExecutiveNo Experience Needed',\n",
       "       'Software Engineer  Cloud Computing  Observability',\n",
       "       'Automation Testing Lead  Manager', 'Lead ICT Consultant',\n",
       "       'ICT Consultant', 'Senior    Digital Producer',\n",
       "       'Assistant Manager Reinsurance', 'Senior Lecturer University',\n",
       "       'Senior Solution Architect Cloud Infrastructure',\n",
       "       'APAC Internal Audit Data Analytics Assistant Manager Region Office',\n",
       "       'Assistant Manager Risk Analytics',\n",
       "       'Senior Client Management Specialist', 'Data Migration Manager',\n",
       "       'Campaign Manager',\n",
       "       'Lead  Senior System Engineer   Enterprise Monitoring',\n",
       "       'Security Operations Center SOC Analyst',\n",
       "       'Senior Associate Institutional Banking Group GTSSME Cash Commercialisation Specialist  WD',\n",
       "       'AVP Institutional Banking Group GTSSME Cash Commercialisation Specialist  WD',\n",
       "       'Associate Financial Crime Analytics  Transaction Surveillance Group Compliance  WD',\n",
       "       'Analyst Financial Crime Analytics  Transaction Surveillance Group Compliance  WD',\n",
       "       'Accountant', 'Senior Staff Technical Program Manager',\n",
       "       'Digital Marketing Manager', 'Logistic and Procurement Executive',\n",
       "       'Technical Project Manager', 'Portfolio Analyst',\n",
       "       'Manager  Audit  Data Analytics',\n",
       "       'Business application consultant',\n",
       "       'Information Technology Business Analyst',\n",
       "       'Researcher Intelligent Video Analytics',\n",
       "       'Senior Manager Data and Analytics Advisory',\n",
       "       'Research Fellow Data Analytics Consulting Centre',\n",
       "       'Researcher Intelligent Data Analytics',\n",
       "       'Data Analytics Specialist', 'Strategic Projects Manager',\n",
       "       'Strategic Projects Lead', 'Relationship Manager',\n",
       "       'Project Manager Infrastructure', 'Senior Software Consultant',\n",
       "       'Project Analyst', 'Solutions Architect  Technical Lead',\n",
       "       'Senior Solutions Architect  Technical Lead',\n",
       "       'Lead Customer Analyst Fairprice', 'Strategic Planning Analyst',\n",
       "       'Data Analytics Consultants', 'RPA Programmer Ref ',\n",
       "       'Analyst Development Programs  Corporate',\n",
       "       'Digital Content Manager',\n",
       "       'Xaxis  Product Marketing Senior Executive',\n",
       "       'Xaxis  Senior Manager Product',\n",
       "       'Product Manager International Payments',\n",
       "       'Senior Product Specialist', 'Senior Backend Officer',\n",
       "       'Business Process ReEngineering Associate',\n",
       "       'Senior DevOps Engineer',\n",
       "       'IT Senior Project Programme Manager  Financial Applications',\n",
       "       'LeadBusiness Process ReEngineering',\n",
       "       'Research Engineer Human language Technologies   IR ASTAR',\n",
       "       'India Financial Analyst',\n",
       "       'Scientist Robotics  Autonomous Systems IR  ASTAR',\n",
       "       'Research Assistant NIE  LST',\n",
       "       'Contract Operations Lead Marketing Operations  Singapore',\n",
       "       'Director of Digital Marketing  Loyalty',\n",
       "       'Robotic Process Automation RPA Development Lead',\n",
       "       'Openings for  Big data', 'Android Developer', 'Web Programmer',\n",
       "       'Manager Digital and Marketing Analytics  Asia Pacific',\n",
       "       'Senior Product Manager', 'senior officer',\n",
       "       'Associate Analyst Mastercard Graduate Development Program',\n",
       "       'Faculty Positions in Construction Automation  Civil Engineering',\n",
       "       'Java Software Engineer  Payments Application Associate',\n",
       "       'Quantity Risk Analyst  LNG trading multinational',\n",
       "       'IT Audit Manager     Basic  VB    CBD    Immediate ',\n",
       "       'Senior Product Manager APAC Card Payments',\n",
       "       'Software Development Consultant',\n",
       "       'Visiting Research Assistant Professor',\n",
       "       'Scientist Human Language Technology   IR ASTAR',\n",
       "       'Investment Strategist',\n",
       "       'Manager    Senior Manager Regional Marketing GrabWheels',\n",
       "       'Regional Marketing Manager', 'Product Director',\n",
       "       'Operations  Maintenance Engineer',\n",
       "       'Business Operations and Marketing Executive',\n",
       "       'Technical Account Manager',\n",
       "       'Senior Executive  Assistant Manager NUHS Education Office Data Analytics',\n",
       "       'Assistant Manager NUHS Academic Informatics Office Value Driven Outcomes',\n",
       "       'Research Assistant or Associate Ref DOBCM',\n",
       "       'Business Development Analyst',\n",
       "       'SEA Associate Account Manager Media', 'Account Manager ECommerce',\n",
       "       'Associate  AVP Facilities Management', 'Product Manager BC',\n",
       "       'Senior Analyst Pricing', 'Executive Digital Analytics',\n",
       "       'Analytics Consultant', 'Senior Manager Lifecycle Management',\n",
       "       'Head of Program Management Product Area Staffing  Singapore',\n",
       "       'Director    Senior Manager Indirect Tax  APTC Singapore',\n",
       "       'Senior project Manager  Veeva CRM', 'IT Business Analyst',\n",
       "       'IBM Cognos TM Engineer', 'Health and Benefits Consulting Analyst',\n",
       "       'OraclePeopleSoft HCM', 'OraclePeopleSoft Functional',\n",
       "       'Wealth Management Digital Full Stack Software Engineer',\n",
       "       'Risk Assurance  Associate',\n",
       "       'Senior Executive   Assistant Manager Home Marketing',\n",
       "       'IT Analyst Fresh School Leaver are Welcome',\n",
       "       'Mobile Project Manager',\n",
       "       'Regional Business Development Specialist',\n",
       "       'Technology Risk Manager Data Analytics Advisory Singapore',\n",
       "       'Risk Assurance Senior Associate Data analytics  Advisory Singapore',\n",
       "       'Digital API  Agile Transformation Consultants  Senior Associate  Manager Advisory',\n",
       "       'Senior HR Data Analytics Specialist', 'Senior ExecutiveCom  Ben',\n",
       "       'Specialist Financial Reporting',\n",
       "       'Product Marketing Manager Next Billion Users English  Singapore',\n",
       "       'GIC Professionals Programme',\n",
       "       'Area Media Programming Manager  Asia',\n",
       "       'Business Development Specialist',\n",
       "       'Cyber Security Consultant Advanced Analytics',\n",
       "       'Financial Planning  Analytics Analyst',\n",
       "       'Technical Specialist Ads  Singapore',\n",
       "       'AVP Strategy Manager Future Operations  Consumer Banking Group Operations TO WD',\n",
       "       'Lead Mobility Partner Mobility Experience  Singapore',\n",
       "       'AVP Service Delivery Manager for Self Service Banking  Services Operations TO WD',\n",
       "       'Business Strategy Manager', 'SENIOR ADMINISTRATIVE MANAGER',\n",
       "       'Senior Manager System Operations Ref ',\n",
       "       'Digital Solution Architect', 'System Engineer Building Systems',\n",
       "       'Director Pricing Analysis and Leasing Support',\n",
       "       'Senior Principal Business Consultant',\n",
       "       'SAP SuccessFactors Compensation Consultant',\n",
       "       'SAP SuccessFactors Onboarding Consultant',\n",
       "       'SAP SuccessFactors Recruitment Consultant',\n",
       "       'SAP SuccessFactors Employee Central Consultant',\n",
       "       'Securities Core Trading Operations  Continuous Improvement Analyst',\n",
       "       'Project Manager Data Security', 'Chief Finance Officer',\n",
       "       'Manager Marketing Analytics',\n",
       "       'Vice President Developer platform and longtail strategy',\n",
       "       'CSAT Reporting Analyst', 'Senior Programmatic Media Manager',\n",
       "       'Programmatic Media Manager', 'Programmatic Media Trader',\n",
       "       'AVP Business Analyst  AML  KYC  CDD Group Compliance WD',\n",
       "       'Research Engineer  Senior Research Engineer I',\n",
       "       'Programmatic Media Director', 'Data Solution Manager',\n",
       "       'Analyst  Tableau Analytics  dashboards', 'Actuarial Manager',\n",
       "       'Operations Securities Division Operations Equities Trading Services Analyst',\n",
       "       'Operations Reg  Control Ops Regulatory Ops  Derivatives Regulatory Reporting  Associate ',\n",
       "       'Senior Associate Balance Sheet Management Corporate Treasury Group Finance U',\n",
       "       'Associate Balance Sheet Management Corporate Treasury Group Finance U',\n",
       "       'Cyber Security Specialist Operations', 'Finance Manager',\n",
       "       'Project Manager Onboarding and Operations',\n",
       "       'Infrastructure Security Architect Cloud',\n",
       "       'Product Manager Moments of Life',\n",
       "       'Cloud  Infra Security Engineer',\n",
       "       'Product Manager Moments of Life  Business',\n",
       "       'System Analyst Moments of Life  Business',\n",
       "       'Software Quality Engineer HATS',\n",
       "       'Manager  Senior Manager Product Management  MOLB'], dtype=object)"
      ]
     },
     "execution_count": 124,
     "metadata": {},
     "output_type": "execute_result"
    }
   ],
   "source": [
    "df_related_jobs['job_title'] = df_related_jobs['job_title'].str.replace('[^\\w\\s]','').str.replace('\\d+', '')\n",
    "df_related_jobs['job_title'].unique()"
   ]
  },
  {
   "cell_type": "code",
   "execution_count": 125,
   "metadata": {
    "ExecuteTime": {
     "end_time": "2019-05-12T16:17:55.023652Z",
     "start_time": "2019-05-12T16:17:54.975780Z"
    },
    "scrolled": true
   },
   "outputs": [
    {
     "data": {
      "text/html": [
       "<div>\n",
       "<style scoped>\n",
       "    .dataframe tbody tr th:only-of-type {\n",
       "        vertical-align: middle;\n",
       "    }\n",
       "\n",
       "    .dataframe tbody tr th {\n",
       "        vertical-align: top;\n",
       "    }\n",
       "\n",
       "    .dataframe thead th {\n",
       "        text-align: right;\n",
       "    }\n",
       "</style>\n",
       "<table border=\"1\" class=\"dataframe\">\n",
       "  <thead>\n",
       "    <tr style=\"text-align: right;\">\n",
       "      <th></th>\n",
       "      <th>job_requirements</th>\n",
       "      <th>word_count</th>\n",
       "    </tr>\n",
       "  </thead>\n",
       "  <tbody>\n",
       "    <tr>\n",
       "      <th>0</th>\n",
       "      <td>Roles  Responsibilities ICIS is a division of ...</td>\n",
       "      <td>510</td>\n",
       "    </tr>\n",
       "    <tr>\n",
       "      <th>1</th>\n",
       "      <td>Roles  Responsibilities As a Data Analyst you ...</td>\n",
       "      <td>349</td>\n",
       "    </tr>\n",
       "    <tr>\n",
       "      <th>2</th>\n",
       "      <td>Roles  Responsibilities An exciting opportunit...</td>\n",
       "      <td>372</td>\n",
       "    </tr>\n",
       "    <tr>\n",
       "      <th>3</th>\n",
       "      <td>Roles  Responsibilities Position Purpose  Summ...</td>\n",
       "      <td>879</td>\n",
       "    </tr>\n",
       "    <tr>\n",
       "      <th>4</th>\n",
       "      <td>Roles  Responsibilities Duties  responsibiliti...</td>\n",
       "      <td>434</td>\n",
       "    </tr>\n",
       "  </tbody>\n",
       "</table>\n",
       "</div>"
      ],
      "text/plain": [
       "                                    job_requirements  word_count\n",
       "0  Roles  Responsibilities ICIS is a division of ...         510\n",
       "1  Roles  Responsibilities As a Data Analyst you ...         349\n",
       "2  Roles  Responsibilities An exciting opportunit...         372\n",
       "3  Roles  Responsibilities Position Purpose  Summ...         879\n",
       "4  Roles  Responsibilities Duties  responsibiliti...         434"
      ]
     },
     "execution_count": 125,
     "metadata": {},
     "output_type": "execute_result"
    }
   ],
   "source": [
    "#does word count also impact the type of job post?\n",
    "df_related_jobs['word_count'] = df_related_jobs['job_requirements'].apply(lambda x: len(str(x).split(\" \")))\n",
    "df_related_jobs[['job_requirements','word_count']].head()"
   ]
  },
  {
   "cell_type": "markdown",
   "metadata": {},
   "source": [
    "# 10. NLP"
   ]
  },
  {
   "cell_type": "code",
   "execution_count": 126,
   "metadata": {
    "ExecuteTime": {
     "end_time": "2019-05-12T16:17:55.034622Z",
     "start_time": "2019-05-12T16:17:55.025647Z"
    }
   },
   "outputs": [],
   "source": [
    "#create a final copy for modelling \n",
    "df_final = df_related_jobs.copy(deep=True)"
   ]
  },
  {
   "cell_type": "code",
   "execution_count": 127,
   "metadata": {
    "ExecuteTime": {
     "end_time": "2019-05-12T16:17:55.769663Z",
     "start_time": "2019-05-12T16:17:55.036618Z"
    }
   },
   "outputs": [],
   "source": [
    "df_final.to_csv('df_final.csv',index= False)"
   ]
  },
  {
   "cell_type": "code",
   "execution_count": 128,
   "metadata": {
    "ExecuteTime": {
     "end_time": "2019-05-12T16:17:55.775652Z",
     "start_time": "2019-05-12T16:17:55.771652Z"
    }
   },
   "outputs": [],
   "source": [
    "stop_words = text.ENGLISH_STOP_WORDS.union(['Roles','xa0','requirements','regret' ,'shortlisted',\\\n",
    "                                            'candidates', 'notified','working','position', 'opportunities'\\\n",
    "                                            , 'duties', 'looking' , 'seeking' , 'companies','description' , 'part'\\\n",
    "                                           'work','able','added','advantage','responsibilities','skills','ability','singapore'])\n",
    "\n",
    "# ['xa0','requirements','regret' ,'shortlisted','candidates', 'notified','working']"
   ]
  },
  {
   "cell_type": "markdown",
   "metadata": {},
   "source": [
    "Since most of the key words are atleast bi-gram or tri-gram. My ngram_range will be 1,3."
   ]
  },
  {
   "cell_type": "code",
   "execution_count": 129,
   "metadata": {
    "ExecuteTime": {
     "end_time": "2019-05-12T16:17:55.791598Z",
     "start_time": "2019-05-12T16:17:55.777638Z"
    }
   },
   "outputs": [],
   "source": [
    "cvec_job_title = CountVectorizer(ngram_range = (2,3), binary =True)\n",
    "cvec_job_requirements =  CountVectorizer(ngram_range = (2,3) , min_df=0.02,max_df = 0.9,stop_words = stop_words, binary =True)"
   ]
  },
  {
   "cell_type": "code",
   "execution_count": 130,
   "metadata": {
    "ExecuteTime": {
     "end_time": "2019-05-12T16:17:57.311536Z",
     "start_time": "2019-05-12T16:17:55.793594Z"
    }
   },
   "outputs": [
    {
     "name": "stderr",
     "output_type": "stream",
     "text": [
      "C:\\Users\\chenz\\Anaconda3\\lib\\site-packages\\sklearn\\feature_extraction\\text.py:300: UserWarning: Your stop_words may be inconsistent with your preprocessing. Tokenizing the stop words generated tokens ['roles'] not in stop_words.\n",
      "  'stop_words.' % sorted(inconsistent))\n"
     ]
    },
    {
     "data": {
      "text/plain": [
       "CountVectorizer(analyzer='word', binary=True, decode_error='strict',\n",
       "        dtype=<class 'numpy.int64'>, encoding='utf-8', input='content',\n",
       "        lowercase=True, max_df=0.9, max_features=None, min_df=0.02,\n",
       "        ngram_range=(2, 3), preprocessor=None,\n",
       "        stop_words=frozenset({'elsewhere', 'can', 'fifteen', 'requirements', 'by', 'bottom', 'our', 'that', 'same', 'twenty', 'had', 'herself', 'cannot', 'formerly', 'any', 'fifty', 'other', 'nowhere', 'many', 'none', 'or', 'ltd', 'above', 'she', 'call', 'three', 'through', 'twelve', 'well', 'being', 'worki...r', 'after', 'me', 'forty', 'seems', 'five', 'anywhere', 'everyone', 'former', 'became', 'nothing'}),\n",
       "        strip_accents=None, token_pattern='(?u)\\\\b\\\\w\\\\w+\\\\b',\n",
       "        tokenizer=None, vocabulary=None)"
      ]
     },
     "execution_count": 130,
     "metadata": {},
     "output_type": "execute_result"
    }
   ],
   "source": [
    "cvec_job_title.fit(df_final.job_title)\n",
    "cvec_job_requirements.fit(df_final.job_requirements)"
   ]
  },
  {
   "cell_type": "code",
   "execution_count": 131,
   "metadata": {
    "ExecuteTime": {
     "end_time": "2019-05-12T16:17:57.882010Z",
     "start_time": "2019-05-12T16:17:57.312533Z"
    }
   },
   "outputs": [],
   "source": [
    "job_title_vectors= pd.DataFrame(cvec_job_title.transform(df_final.job_title).todense(),\n",
    "                           columns=cvec_job_title.get_feature_names())\n",
    "job_requirements_vectors = pd.DataFrame(cvec_job_requirements.transform(df_final.job_requirements).todense(),\n",
    "                           columns=cvec_job_requirements.get_feature_names())"
   ]
  },
  {
   "cell_type": "code",
   "execution_count": 132,
   "metadata": {
    "ExecuteTime": {
     "end_time": "2019-05-12T16:17:57.894978Z",
     "start_time": "2019-05-12T16:17:57.883008Z"
    }
   },
   "outputs": [
    {
     "data": {
      "text/plain": [
       "10 years                         59\n",
       "10 years experience              31\n",
       "35 years                         33\n",
       "3rd party                        35\n",
       "acceptance testing               26\n",
       "actionable insights              44\n",
       "ad hoc                           28\n",
       "advanced analytics               40\n",
       "agency science                   26\n",
       "agency science technology        26\n",
       "agile development                25\n",
       "analytical problem               26\n",
       "analytical problem solving       26\n",
       "analytical problemsolving        28\n",
       "analytics data                   33\n",
       "analytics team                   35\n",
       "apac region                      26\n",
       "application development          41\n",
       "architecture design              29\n",
       "artificial intelligence          67\n",
       "asia pacific                     59\n",
       "attention details                26\n",
       "bachelor degree                  61\n",
       "bachelors degree                141\n",
       "bachelors degree computer        42\n",
       "best practices                  143\n",
       "big data                        172\n",
       "big data analytics               45\n",
       "build maintain                   29\n",
       "build strong                     28\n",
       "                               ... \n",
       "understand business              36\n",
       "understanding business           30\n",
       "understanding data               38\n",
       "unstructured data                30\n",
       "use cases                        26\n",
       "use data                         40\n",
       "user acceptance                  35\n",
       "user experience                  26\n",
       "using data                       29\n",
       "verbal communication             45\n",
       "verbal written                   74\n",
       "verbal written communication     49\n",
       "visualization tools              28\n",
       "web services                     32\n",
       "wide range                       40\n",
       "work closely                    170\n",
       "work environment                 37\n",
       "work experience                  93\n",
       "work independently              128\n",
       "work pressure                    30\n",
       "work team                        52\n",
       "written communication            77\n",
       "written oral                     27\n",
       "written verbal                   82\n",
       "written verbal communication     42\n",
       "year experience                  33\n",
       "years experience                368\n",
       "years experience data            29\n",
       "years relevant                  134\n",
       "years relevant experience        87\n",
       "Length: 412, dtype: int64"
      ]
     },
     "execution_count": 132,
     "metadata": {},
     "output_type": "execute_result"
    }
   ],
   "source": [
    "job_requirements_vectors.sum()"
   ]
  },
  {
   "cell_type": "code",
   "execution_count": null,
   "metadata": {
    "scrolled": true
   },
   "outputs": [],
   "source": []
  },
  {
   "cell_type": "code",
   "execution_count": 133,
   "metadata": {
    "ExecuteTime": {
     "end_time": "2019-05-12T16:17:58.062528Z",
     "start_time": "2019-05-12T16:17:57.895974Z"
    }
   },
   "outputs": [],
   "source": [
    "df_for_modelling = pd.concat([df_final,job_title_vectors,job_requirements_vectors], axis=1).copy(deep = True)\n"
   ]
  },
  {
   "cell_type": "code",
   "execution_count": 134,
   "metadata": {
    "ExecuteTime": {
     "end_time": "2019-05-12T16:17:58.170241Z",
     "start_time": "2019-05-12T16:17:58.063525Z"
    },
    "scrolled": true
   },
   "outputs": [
    {
     "name": "stdout",
     "output_type": "stream",
     "text": [
      "<class 'pandas.core.frame.DataFrame'>\n",
      "RangeIndex: 1222 entries, 0 to 1221\n",
      "Columns: 4898 entries, job_requirements to years relevant experience\n",
      "dtypes: int64(4882), object(2), uint8(14)\n",
      "memory usage: 45.6+ MB\n"
     ]
    }
   ],
   "source": [
    "df_for_modelling.info()"
   ]
  },
  {
   "cell_type": "code",
   "execution_count": 135,
   "metadata": {
    "ExecuteTime": {
     "end_time": "2019-05-12T16:17:58.210134Z",
     "start_time": "2019-05-12T16:17:58.171238Z"
    }
   },
   "outputs": [],
   "source": [
    "df_for_modelling.drop(columns = ['job_title','job_requirements'],inplace = True)"
   ]
  },
  {
   "cell_type": "code",
   "execution_count": 136,
   "metadata": {
    "ExecuteTime": {
     "end_time": "2019-05-12T16:17:58.216118Z",
     "start_time": "2019-05-12T16:17:58.212128Z"
    }
   },
   "outputs": [],
   "source": [
    "target = df_for_modelling['sal_cat']"
   ]
  },
  {
   "cell_type": "code",
   "execution_count": 137,
   "metadata": {
    "ExecuteTime": {
     "end_time": "2019-05-12T16:17:58.258005Z",
     "start_time": "2019-05-12T16:17:58.218114Z"
    }
   },
   "outputs": [],
   "source": [
    "predictors = df_for_modelling.drop(columns ='sal_cat')"
   ]
  },
  {
   "cell_type": "code",
   "execution_count": null,
   "metadata": {},
   "outputs": [],
   "source": []
  },
  {
   "cell_type": "code",
   "execution_count": 138,
   "metadata": {
    "ExecuteTime": {
     "end_time": "2019-05-12T16:17:58.311862Z",
     "start_time": "2019-05-12T16:17:58.259013Z"
    }
   },
   "outputs": [],
   "source": [
    "X_train, X_test, y_train, y_test = train_test_split(predictors, target, test_size=0.2, stratify=target, random_state=74)"
   ]
  },
  {
   "cell_type": "markdown",
   "metadata": {},
   "source": [
    "Trained logistic regression model has been saved as : pkl_filename = \"logreg_model.pkl\""
   ]
  },
  {
   "cell_type": "code",
   "execution_count": 139,
   "metadata": {
    "ExecuteTime": {
     "end_time": "2019-05-12T16:17:58.344786Z",
     "start_time": "2019-05-12T16:17:58.312859Z"
    }
   },
   "outputs": [],
   "source": [
    "def grid_search_logistic(X_train, X_test, y_train, y_test):\n",
    "    log_reg = LogisticRegression(solver ='liblinear' )\n",
    "    # Create regularization penalty space\n",
    "    penalty = ['l1', 'l2']\n",
    "    # Create regularization hyperparameter space\n",
    "    C = [0.001, 0.01, 0.1 , 1 , 10 , 100]\n",
    "    # Create hyperparameter options\n",
    "    hyperparameters = dict(C=C, penalty=penalty)\n",
    "    clf = GridSearchCV(log_reg, hyperparameters, cv=5, scoring='roc_auc')\n",
    "    \n",
    "    best_log_reg = clf.fit(X_train, y_train)\n",
    "    best_param = best_log_reg.best_params_\n",
    "    best_score = best_log_reg.best_score_\n",
    "    \n",
    "    pred_score = best_log_reg.score(X_test,y_test)\n",
    "    predictions = best_log_reg.predict(X_test)    \n",
    "    y_pred_proba = best_log_reg.predict_proba(X_test)[::,1]\n",
    "    fpr, tpr, _ = metrics.roc_curve(y_test,y_pred_proba)\n",
    "    auc = metrics.roc_auc_score(y_test, y_pred_proba)\n",
    "\n",
    "    \n",
    "    print(\"===Logistic Regression===\")\n",
    "    print('Best Param:', best_param)\n",
    "    print('Best AUC Score from CV:',best_score)\n",
    "    print(\"prediction score:\", pred_score)\n",
    "    print(\"AUC Score(Test):\" , auc)\n",
    "    print(classification_report(y_test,predictions))    \n",
    "    \n",
    "    pkl_filename = \"logreg_model.pkl\"  \n",
    "    with open(pkl_filename, 'wb') as file:  \n",
    "        pickle.dump(best_log_reg, file)\n"
   ]
  },
  {
   "cell_type": "markdown",
   "metadata": {},
   "source": [
    "Trained random forest model has been saved as : pkl_filename = \"forest_model.pkl\" "
   ]
  },
  {
   "cell_type": "code",
   "execution_count": 143,
   "metadata": {
    "ExecuteTime": {
     "end_time": "2019-05-12T16:20:57.565940Z",
     "start_time": "2019-05-12T16:20:57.522046Z"
    }
   },
   "outputs": [],
   "source": [
    "def grid_search_forest(X_train, X_test, y_train, y_test):\n",
    "    rfc=RandomForestClassifier(random_state=42)\n",
    "    param_grid = { \n",
    "    'n_estimators': [200, 500, 1000],\n",
    "    'max_features': ['auto', 'sqrt', 'log2'],\n",
    "    'criterion' :['gini', 'entropy']\n",
    "    }\n",
    "    clf = GridSearchCV(estimator=rfc, param_grid=param_grid, cv= 5 , scoring='roc_auc' , verbose=1)\n",
    "       \n",
    "    best_forest_model = clf.fit(X_train, y_train)\n",
    "    best_param = best_forest_model.best_params_\n",
    "    best_score = best_forest_model.best_score_\n",
    "\n",
    "    pred_score = best_forest_model.score(X_test,y_test)\n",
    "   \n",
    "    coef = best_forest_model.best_estimator_.feature_importances_\n",
    "    \n",
    "    predictions = best_forest_model.predict(X_test)\n",
    "    y_pred_proba = best_forest_model.predict_proba(X_test)[::,1]\n",
    "    fpr, tpr, _ = metrics.roc_curve(y_test,y_pred_proba)\n",
    "    auc = metrics.roc_auc_score(y_test, y_pred_proba)\n",
    "    \n",
    "    print(\"===Random Forest===\")\n",
    "    print('Best Params:', best_forest_model.best_params_)\n",
    "    print('Best AUC Score from CV:',best_score)\n",
    "\n",
    "    print(\"Prediction score:\", pred_score)\n",
    "    print(\"AUC Score(Test):\" , auc)\n",
    "    print(classification_report(y_test,predictions))\n",
    "\n",
    "    \n",
    "#     coefs = pd.DataFrame({'variable':predictors.columns,\n",
    "#                             'coef':best_forest_model.best_estimator_.feature_importances_,\n",
    "#                             'abs_coef':np.abs(best_forest_model.best_estimator_.feature_importances_)})\n",
    "    \n",
    "    pkl_filename = \"forest_model.pkl\"  \n",
    "    with open(pkl_filename, 'wb') as file:  \n",
    "        pickle.dump(best_forest_model, file)"
   ]
  },
  {
   "cell_type": "code",
   "execution_count": 144,
   "metadata": {
    "ExecuteTime": {
     "end_time": "2019-05-12T16:21:07.356695Z",
     "start_time": "2019-05-12T16:20:57.721477Z"
    }
   },
   "outputs": [
    {
     "name": "stdout",
     "output_type": "stream",
     "text": [
      "===Logistic Regression===\n",
      "Best Param: {'C': 0.1, 'penalty': 'l2'}\n",
      "Best AUC Score from CV: 0.8485862719219104\n",
      "prediction score: 0.8341836734693878\n",
      "AUC Score(Test): 0.8341836734693878\n",
      "              precision    recall  f1-score   support\n",
      "\n",
      "           0       0.71      0.69      0.70       112\n",
      "           1       0.74      0.77      0.76       133\n",
      "\n",
      "   micro avg       0.73      0.73      0.73       245\n",
      "   macro avg       0.73      0.73      0.73       245\n",
      "weighted avg       0.73      0.73      0.73       245\n",
      "\n"
     ]
    },
    {
     "name": "stderr",
     "output_type": "stream",
     "text": [
      "C:\\Users\\chenz\\Anaconda3\\lib\\site-packages\\sklearn\\model_selection\\_search.py:841: DeprecationWarning: The default of the `iid` parameter will change from True to False in version 0.22 and will be removed in 0.24. This will change numeric results when test-set sizes are unequal.\n",
      "  DeprecationWarning)\n"
     ]
    }
   ],
   "source": [
    "grid_search_logistic(X_train, X_test, y_train, y_test)"
   ]
  },
  {
   "cell_type": "code",
   "execution_count": 145,
   "metadata": {
    "ExecuteTime": {
     "end_time": "2019-05-12T16:26:46.718152Z",
     "start_time": "2019-05-12T16:21:07.357692Z"
    }
   },
   "outputs": [
    {
     "name": "stderr",
     "output_type": "stream",
     "text": [
      "[Parallel(n_jobs=1)]: Using backend SequentialBackend with 1 concurrent workers.\n"
     ]
    },
    {
     "name": "stdout",
     "output_type": "stream",
     "text": [
      "Fitting 5 folds for each of 18 candidates, totalling 90 fits\n"
     ]
    },
    {
     "name": "stderr",
     "output_type": "stream",
     "text": [
      "[Parallel(n_jobs=1)]: Done  90 out of  90 | elapsed:  5.5min finished\n"
     ]
    },
    {
     "name": "stdout",
     "output_type": "stream",
     "text": [
      "===Random Forest===\n",
      "Best Params: {'criterion': 'entropy', 'max_features': 'auto', 'n_estimators': 1000}\n",
      "Best AUC Score from CV: 0.8546712189911975\n",
      "Prediction score: 0.8408297529538131\n",
      "AUC Score(Test): 0.8408297529538131\n",
      "              precision    recall  f1-score   support\n",
      "\n",
      "           0       0.78      0.66      0.71       112\n",
      "           1       0.75      0.84      0.79       133\n",
      "\n",
      "   micro avg       0.76      0.76      0.76       245\n",
      "   macro avg       0.76      0.75      0.75       245\n",
      "weighted avg       0.76      0.76      0.76       245\n",
      "\n"
     ]
    }
   ],
   "source": [
    "grid_search_forest(X_train, X_test, y_train, y_test)"
   ]
  },
  {
   "cell_type": "markdown",
   "metadata": {},
   "source": [
    "Load and print the coefficients"
   ]
  },
  {
   "cell_type": "code",
   "execution_count": 148,
   "metadata": {
    "ExecuteTime": {
     "end_time": "2019-05-12T16:34:13.752035Z",
     "start_time": "2019-05-12T16:34:13.746024Z"
    }
   },
   "outputs": [],
   "source": [
    "pkl_filename = \"logreg_model.pkl\" \n",
    "with open(pkl_filename, 'rb') as file:  \n",
    "    pickle_model_logreg = pickle.load(file)"
   ]
  },
  {
   "cell_type": "code",
   "execution_count": 150,
   "metadata": {
    "ExecuteTime": {
     "end_time": "2019-05-12T16:34:30.834306Z",
     "start_time": "2019-05-12T16:34:30.821368Z"
    }
   },
   "outputs": [
    {
     "data": {
      "text/html": [
       "<div>\n",
       "<style scoped>\n",
       "    .dataframe tbody tr th:only-of-type {\n",
       "        vertical-align: middle;\n",
       "    }\n",
       "\n",
       "    .dataframe tbody tr th {\n",
       "        vertical-align: top;\n",
       "    }\n",
       "\n",
       "    .dataframe thead th {\n",
       "        text-align: right;\n",
       "    }\n",
       "</style>\n",
       "<table border=\"1\" class=\"dataframe\">\n",
       "  <thead>\n",
       "    <tr style=\"text-align: right;\">\n",
       "      <th></th>\n",
       "      <th>abs_coef</th>\n",
       "      <th>coef</th>\n",
       "      <th>variable</th>\n",
       "    </tr>\n",
       "  </thead>\n",
       "  <tbody>\n",
       "    <tr>\n",
       "      <th>740</th>\n",
       "      <td>0.785418</td>\n",
       "      <td>-0.785418</td>\n",
       "      <td>seniority_exec</td>\n",
       "    </tr>\n",
       "    <tr>\n",
       "      <th>743</th>\n",
       "      <td>0.627207</td>\n",
       "      <td>0.627207</td>\n",
       "      <td>seniority_midman</td>\n",
       "    </tr>\n",
       "    <tr>\n",
       "      <th>282</th>\n",
       "      <td>0.563173</td>\n",
       "      <td>-0.563173</td>\n",
       "      <td>skill_microsoft office</td>\n",
       "    </tr>\n",
       "    <tr>\n",
       "      <th>11</th>\n",
       "      <td>0.560302</td>\n",
       "      <td>0.560302</td>\n",
       "      <td>industry_Banking and Finance</td>\n",
       "    </tr>\n",
       "    <tr>\n",
       "      <th>741</th>\n",
       "      <td>0.510113</td>\n",
       "      <td>-0.510113</td>\n",
       "      <td>seniority_fresh</td>\n",
       "    </tr>\n",
       "    <tr>\n",
       "      <th>4483</th>\n",
       "      <td>0.404361</td>\n",
       "      <td>0.404361</td>\n",
       "      <td>10 years</td>\n",
       "    </tr>\n",
       "    <tr>\n",
       "      <th>4851</th>\n",
       "      <td>0.401397</td>\n",
       "      <td>-0.401397</td>\n",
       "      <td>team player</td>\n",
       "    </tr>\n",
       "    <tr>\n",
       "      <th>4584</th>\n",
       "      <td>0.396816</td>\n",
       "      <td>-0.396816</td>\n",
       "      <td>data visualization</td>\n",
       "    </tr>\n",
       "    <tr>\n",
       "      <th>4675</th>\n",
       "      <td>0.386510</td>\n",
       "      <td>0.386510</td>\n",
       "      <td>good understanding</td>\n",
       "    </tr>\n",
       "    <tr>\n",
       "      <th>742</th>\n",
       "      <td>0.369259</td>\n",
       "      <td>0.369259</td>\n",
       "      <td>seniority_manager</td>\n",
       "    </tr>\n",
       "  </tbody>\n",
       "</table>\n",
       "</div>"
      ],
      "text/plain": [
       "      abs_coef      coef                      variable\n",
       "740   0.785418 -0.785418                seniority_exec\n",
       "743   0.627207  0.627207              seniority_midman\n",
       "282   0.563173 -0.563173        skill_microsoft office\n",
       "11    0.560302  0.560302  industry_Banking and Finance\n",
       "741   0.510113 -0.510113               seniority_fresh\n",
       "4483  0.404361  0.404361                      10 years\n",
       "4851  0.401397 -0.401397                   team player\n",
       "4584  0.396816 -0.396816            data visualization\n",
       "4675  0.386510  0.386510            good understanding\n",
       "742   0.369259  0.369259             seniority_manager"
      ]
     },
     "execution_count": 150,
     "metadata": {},
     "output_type": "execute_result"
    }
   ],
   "source": [
    "coefs = pd.DataFrame({'variable':X_train.columns,\n",
    "                            'coef':pickle_model_logreg.best_estimator_.coef_[0],\n",
    "                            'abs_coef':np.abs(pickle_model_logreg.best_estimator_.coef_[0])})\n",
    "coefs.sort_values(by = 'abs_coef', ascending = False).head(10)"
   ]
  },
  {
   "cell_type": "code",
   "execution_count": 151,
   "metadata": {
    "ExecuteTime": {
     "end_time": "2019-05-12T16:35:04.823571Z",
     "start_time": "2019-05-12T16:35:04.709838Z"
    }
   },
   "outputs": [],
   "source": [
    "pkl_filename = \"forest_model.pkl\" \n",
    "with open(pkl_filename, 'rb') as file:  \n",
    "    pickle_model_forest = pickle.load(file)"
   ]
  },
  {
   "cell_type": "code",
   "execution_count": 152,
   "metadata": {
    "ExecuteTime": {
     "end_time": "2019-05-12T16:35:05.156572Z",
     "start_time": "2019-05-12T16:35:04.908234Z"
    }
   },
   "outputs": [
    {
     "data": {
      "text/html": [
       "<div>\n",
       "<style scoped>\n",
       "    .dataframe tbody tr th:only-of-type {\n",
       "        vertical-align: middle;\n",
       "    }\n",
       "\n",
       "    .dataframe tbody tr th {\n",
       "        vertical-align: top;\n",
       "    }\n",
       "\n",
       "    .dataframe thead th {\n",
       "        text-align: right;\n",
       "    }\n",
       "</style>\n",
       "<table border=\"1\" class=\"dataframe\">\n",
       "  <thead>\n",
       "    <tr style=\"text-align: right;\">\n",
       "      <th></th>\n",
       "      <th>abs_coef</th>\n",
       "      <th>coef</th>\n",
       "      <th>variable</th>\n",
       "    </tr>\n",
       "  </thead>\n",
       "  <tbody>\n",
       "    <tr>\n",
       "      <th>748</th>\n",
       "      <td>0.026897</td>\n",
       "      <td>0.026897</td>\n",
       "      <td>word_count</td>\n",
       "    </tr>\n",
       "    <tr>\n",
       "      <th>740</th>\n",
       "      <td>0.015181</td>\n",
       "      <td>0.015181</td>\n",
       "      <td>seniority_exec</td>\n",
       "    </tr>\n",
       "    <tr>\n",
       "      <th>282</th>\n",
       "      <td>0.009120</td>\n",
       "      <td>0.009120</td>\n",
       "      <td>skill_microsoft office</td>\n",
       "    </tr>\n",
       "    <tr>\n",
       "      <th>743</th>\n",
       "      <td>0.005831</td>\n",
       "      <td>0.005831</td>\n",
       "      <td>seniority_midman</td>\n",
       "    </tr>\n",
       "    <tr>\n",
       "      <th>4483</th>\n",
       "      <td>0.005589</td>\n",
       "      <td>0.005589</td>\n",
       "      <td>10 years</td>\n",
       "    </tr>\n",
       "    <tr>\n",
       "      <th>745</th>\n",
       "      <td>0.005561</td>\n",
       "      <td>0.005561</td>\n",
       "      <td>seniority_professional</td>\n",
       "    </tr>\n",
       "    <tr>\n",
       "      <th>742</th>\n",
       "      <td>0.005407</td>\n",
       "      <td>0.005407</td>\n",
       "      <td>seniority_manager</td>\n",
       "    </tr>\n",
       "    <tr>\n",
       "      <th>741</th>\n",
       "      <td>0.004856</td>\n",
       "      <td>0.004856</td>\n",
       "      <td>seniority_fresh</td>\n",
       "    </tr>\n",
       "    <tr>\n",
       "      <th>397</th>\n",
       "      <td>0.004498</td>\n",
       "      <td>0.004498</td>\n",
       "      <td>skill_business intelligence</td>\n",
       "    </tr>\n",
       "    <tr>\n",
       "      <th>213</th>\n",
       "      <td>0.004487</td>\n",
       "      <td>0.004487</td>\n",
       "      <td>skill_research</td>\n",
       "    </tr>\n",
       "  </tbody>\n",
       "</table>\n",
       "</div>"
      ],
      "text/plain": [
       "      abs_coef      coef                     variable\n",
       "748   0.026897  0.026897                   word_count\n",
       "740   0.015181  0.015181               seniority_exec\n",
       "282   0.009120  0.009120       skill_microsoft office\n",
       "743   0.005831  0.005831             seniority_midman\n",
       "4483  0.005589  0.005589                     10 years\n",
       "745   0.005561  0.005561       seniority_professional\n",
       "742   0.005407  0.005407            seniority_manager\n",
       "741   0.004856  0.004856              seniority_fresh\n",
       "397   0.004498  0.004498  skill_business intelligence\n",
       "213   0.004487  0.004487               skill_research"
      ]
     },
     "execution_count": 152,
     "metadata": {},
     "output_type": "execute_result"
    }
   ],
   "source": [
    "coefs = pd.DataFrame({'variable':X_train.columns,\n",
    "                            'coef':pickle_model_forest.best_estimator_.feature_importances_,\n",
    "                            'abs_coef':np.abs(pickle_model_forest.best_estimator_.feature_importances_)})\n",
    "coefs.sort_values(by = 'abs_coef', ascending = False).head(10)"
   ]
  },
  {
   "cell_type": "markdown",
   "metadata": {},
   "source": [
    "# Conclusion\n",
    "\n",
    "I will select logistic regression, because the performance improvement that random forest gives me is very minimal. \n",
    "\n",
    "Logistic regression is better, in terms of interpretability."
   ]
  },
  {
   "cell_type": "code",
   "execution_count": null,
   "metadata": {},
   "outputs": [],
   "source": []
  }
 ],
 "metadata": {
  "kernelspec": {
   "display_name": "Python 3",
   "language": "python",
   "name": "python3"
  }
 },
 "nbformat": 4,
 "nbformat_minor": 2
}
